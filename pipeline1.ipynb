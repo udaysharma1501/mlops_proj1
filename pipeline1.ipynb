{
  "nbformat": 4,
  "nbformat_minor": 0,
  "metadata": {
    "colab": {
      "provenance": [],
      "authorship_tag": "ABX9TyO6VWVQWLH0DH2b3aRmNVj0",
      "include_colab_link": true
    },
    "kernelspec": {
      "name": "python3",
      "display_name": "Python 3"
    },
    "language_info": {
      "name": "python"
    }
  },
  "cells": [
    {
      "cell_type": "markdown",
      "metadata": {
        "id": "view-in-github",
        "colab_type": "text"
      },
      "source": [
        "<a href=\"https://colab.research.google.com/github/udaysharma1501/mlops_proj1/blob/main/pipeline1.ipynb\" target=\"_parent\"><img src=\"https://colab.research.google.com/assets/colab-badge.svg\" alt=\"Open In Colab\"/></a>"
      ]
    },
    {
      "cell_type": "code",
      "execution_count": 6,
      "metadata": {
        "colab": {
          "base_uri": "https://localhost:8080/"
        },
        "collapsed": true,
        "id": "LdkCz9Ci4iuO",
        "outputId": "f3f35b2d-7371-4cf1-8805-a588be89f556"
      },
      "outputs": [
        {
          "output_type": "stream",
          "name": "stdout",
          "text": [
            "Requirement already satisfied: zenml[server] in /usr/local/lib/python3.11/dist-packages (0.73.0)\n",
            "Requirement already satisfied: Jinja2 in /usr/local/lib/python3.11/dist-packages (from zenml[server]) (3.1.5)\n",
            "Requirement already satisfied: alembic<1.9.0,>=1.8.1 in /usr/local/lib/python3.11/dist-packages (from zenml[server]) (1.8.1)\n",
            "Requirement already satisfied: bcrypt==4.0.1 in /usr/local/lib/python3.11/dist-packages (from zenml[server]) (4.0.1)\n",
            "Requirement already satisfied: click<8.1.4,>=8.0.1 in /usr/local/lib/python3.11/dist-packages (from zenml[server]) (8.1.3)\n",
            "Requirement already satisfied: cloudpickle<3,>=2.0.0 in /usr/local/lib/python3.11/dist-packages (from zenml[server]) (2.2.1)\n",
            "Requirement already satisfied: distro<2.0.0,>=1.6.0 in /usr/local/lib/python3.11/dist-packages (from zenml[server]) (1.9.0)\n",
            "Requirement already satisfied: docker<7.2.0,>=7.1.0 in /usr/local/lib/python3.11/dist-packages (from zenml[server]) (7.1.0)\n",
            "Requirement already satisfied: fastapi<=0.110,>=0.100 in /usr/local/lib/python3.11/dist-packages (from zenml[server]) (0.110.0)\n",
            "Requirement already satisfied: gitpython<4.0.0,>=3.1.18 in /usr/local/lib/python3.11/dist-packages (from zenml[server]) (3.1.44)\n",
            "Requirement already satisfied: ipinfo>=4.4.3 in /usr/local/lib/python3.11/dist-packages (from zenml[server]) (5.1.1)\n",
            "Requirement already satisfied: itsdangerous<2.3.0,>=2.2.0 in /usr/local/lib/python3.11/dist-packages (from zenml[server]) (2.2.0)\n",
            "Requirement already satisfied: orjson<3.11.0,>=3.10.0 in /usr/local/lib/python3.11/dist-packages (from zenml[server]) (3.10.15)\n",
            "Requirement already satisfied: packaging>=24.1 in /usr/local/lib/python3.11/dist-packages (from zenml[server]) (24.2)\n",
            "Requirement already satisfied: passlib<1.8.0,>=1.7.4 in /usr/local/lib/python3.11/dist-packages (from passlib[bcrypt]<1.8.0,>=1.7.4->zenml[server]) (1.7.4)\n",
            "Requirement already satisfied: psutil>=5.0.0 in /usr/local/lib/python3.11/dist-packages (from zenml[server]) (5.9.5)\n",
            "Requirement already satisfied: pydantic<2.9,>=2.8 in /usr/local/lib/python3.11/dist-packages (from zenml[server]) (2.8.2)\n",
            "Requirement already satisfied: pydantic-settings in /usr/local/lib/python3.11/dist-packages (from zenml[server]) (2.7.1)\n",
            "Requirement already satisfied: pyjwt==2.7.* in /usr/local/lib/python3.11/dist-packages (from pyjwt[crypto]==2.7.*; extra == \"server\"->zenml[server]) (2.7.0)\n",
            "Requirement already satisfied: pymysql<1.2.0,>=1.1.1 in /usr/local/lib/python3.11/dist-packages (from zenml[server]) (1.1.1)\n",
            "Requirement already satisfied: python-dateutil<3.0.0,>=2.8.1 in /usr/local/lib/python3.11/dist-packages (from zenml[server]) (2.8.2)\n",
            "Requirement already satisfied: python-multipart<0.1.0,>=0.0.9 in /usr/local/lib/python3.11/dist-packages (from zenml[server]) (0.0.20)\n",
            "Requirement already satisfied: pyyaml>=6.0.1 in /usr/local/lib/python3.11/dist-packages (from zenml[server]) (6.0.2)\n",
            "Requirement already satisfied: rich>=12.0.0 in /usr/local/lib/python3.11/dist-packages (from rich[jupyter]>=12.0.0->zenml[server]) (13.9.4)\n",
            "Requirement already satisfied: secure<0.4.0,>=0.3.0 in /usr/local/lib/python3.11/dist-packages (from zenml[server]) (0.3.0)\n",
            "Requirement already satisfied: setuptools in /usr/local/lib/python3.11/dist-packages (from zenml[server]) (75.1.0)\n",
            "Requirement already satisfied: sqlalchemy<3.0.0,>=2.0.0 in /usr/local/lib/python3.11/dist-packages (from zenml[server]) (2.0.37)\n",
            "Requirement already satisfied: sqlalchemy_utils in /usr/local/lib/python3.11/dist-packages (from zenml[server]) (0.41.2)\n",
            "Requirement already satisfied: sqlmodel==0.0.18 in /usr/local/lib/python3.11/dist-packages (from zenml[server]) (0.0.18)\n",
            "Requirement already satisfied: tldextract<5.2.0,>=5.1.0 in /usr/local/lib/python3.11/dist-packages (from zenml[server]) (5.1.3)\n",
            "Requirement already satisfied: uvicorn>=0.17.5 in /usr/local/lib/python3.11/dist-packages (from uvicorn[standard]>=0.17.5; extra == \"server\"->zenml[server]) (0.34.0)\n",
            "Requirement already satisfied: cryptography>=3.4.0 in /usr/local/lib/python3.11/dist-packages (from pyjwt[crypto]==2.7.*; extra == \"server\"->zenml[server]) (43.0.3)\n",
            "Requirement already satisfied: Mako in /usr/local/lib/python3.11/dist-packages (from alembic<1.9.0,>=1.8.1->zenml[server]) (1.3.8)\n",
            "Requirement already satisfied: requests>=2.26.0 in /usr/local/lib/python3.11/dist-packages (from docker<7.2.0,>=7.1.0->zenml[server]) (2.32.3)\n",
            "Requirement already satisfied: urllib3>=1.26.0 in /usr/local/lib/python3.11/dist-packages (from docker<7.2.0,>=7.1.0->zenml[server]) (2.3.0)\n",
            "Requirement already satisfied: starlette<0.37.0,>=0.36.3 in /usr/local/lib/python3.11/dist-packages (from fastapi<=0.110,>=0.100->zenml[server]) (0.36.3)\n",
            "Requirement already satisfied: typing-extensions>=4.8.0 in /usr/local/lib/python3.11/dist-packages (from fastapi<=0.110,>=0.100->zenml[server]) (4.12.2)\n",
            "Requirement already satisfied: gitdb<5,>=4.0.1 in /usr/local/lib/python3.11/dist-packages (from gitpython<4.0.0,>=3.1.18->zenml[server]) (4.0.12)\n",
            "Requirement already satisfied: cachetools in /usr/local/lib/python3.11/dist-packages (from ipinfo>=4.4.3->zenml[server]) (5.5.1)\n",
            "Requirement already satisfied: aiohttp<=4 in /usr/local/lib/python3.11/dist-packages (from ipinfo>=4.4.3->zenml[server]) (3.11.11)\n",
            "Requirement already satisfied: annotated-types>=0.4.0 in /usr/local/lib/python3.11/dist-packages (from pydantic<2.9,>=2.8->zenml[server]) (0.7.0)\n",
            "Requirement already satisfied: pydantic-core==2.20.1 in /usr/local/lib/python3.11/dist-packages (from pydantic<2.9,>=2.8->zenml[server]) (2.20.1)\n",
            "Requirement already satisfied: six>=1.5 in /usr/local/lib/python3.11/dist-packages (from python-dateutil<3.0.0,>=2.8.1->zenml[server]) (1.17.0)\n",
            "Requirement already satisfied: markdown-it-py>=2.2.0 in /usr/local/lib/python3.11/dist-packages (from rich>=12.0.0->rich[jupyter]>=12.0.0->zenml[server]) (3.0.0)\n",
            "Requirement already satisfied: pygments<3.0.0,>=2.13.0 in /usr/local/lib/python3.11/dist-packages (from rich>=12.0.0->rich[jupyter]>=12.0.0->zenml[server]) (2.18.0)\n",
            "Requirement already satisfied: ipywidgets<9,>=7.5.1 in /usr/local/lib/python3.11/dist-packages (from rich[jupyter]>=12.0.0->zenml[server]) (7.7.1)\n",
            "Requirement already satisfied: greenlet!=0.4.17 in /usr/local/lib/python3.11/dist-packages (from sqlalchemy<3.0.0,>=2.0.0->zenml[server]) (3.1.1)\n",
            "Requirement already satisfied: idna in /usr/local/lib/python3.11/dist-packages (from tldextract<5.2.0,>=5.1.0->zenml[server]) (3.10)\n",
            "Requirement already satisfied: requests-file>=1.4 in /usr/local/lib/python3.11/dist-packages (from tldextract<5.2.0,>=5.1.0->zenml[server]) (2.1.0)\n",
            "Requirement already satisfied: filelock>=3.0.8 in /usr/local/lib/python3.11/dist-packages (from tldextract<5.2.0,>=5.1.0->zenml[server]) (3.17.0)\n",
            "Requirement already satisfied: h11>=0.8 in /usr/local/lib/python3.11/dist-packages (from uvicorn>=0.17.5->uvicorn[standard]>=0.17.5; extra == \"server\"->zenml[server]) (0.14.0)\n",
            "Requirement already satisfied: httptools>=0.6.3 in /usr/local/lib/python3.11/dist-packages (from uvicorn[standard]>=0.17.5; extra == \"server\"->zenml[server]) (0.6.4)\n",
            "Requirement already satisfied: python-dotenv>=0.13 in /usr/local/lib/python3.11/dist-packages (from uvicorn[standard]>=0.17.5; extra == \"server\"->zenml[server]) (1.0.1)\n",
            "Requirement already satisfied: uvloop!=0.15.0,!=0.15.1,>=0.14.0 in /usr/local/lib/python3.11/dist-packages (from uvicorn[standard]>=0.17.5; extra == \"server\"->zenml[server]) (0.21.0)\n",
            "Requirement already satisfied: watchfiles>=0.13 in /usr/local/lib/python3.11/dist-packages (from uvicorn[standard]>=0.17.5; extra == \"server\"->zenml[server]) (1.0.4)\n",
            "Requirement already satisfied: websockets>=10.4 in /usr/local/lib/python3.11/dist-packages (from uvicorn[standard]>=0.17.5; extra == \"server\"->zenml[server]) (14.2)\n",
            "Requirement already satisfied: MarkupSafe>=2.0 in /usr/local/lib/python3.11/dist-packages (from Jinja2->zenml[server]) (3.0.2)\n",
            "Requirement already satisfied: aiohappyeyeballs>=2.3.0 in /usr/local/lib/python3.11/dist-packages (from aiohttp<=4->ipinfo>=4.4.3->zenml[server]) (2.4.4)\n",
            "Requirement already satisfied: aiosignal>=1.1.2 in /usr/local/lib/python3.11/dist-packages (from aiohttp<=4->ipinfo>=4.4.3->zenml[server]) (1.3.2)\n",
            "Requirement already satisfied: attrs>=17.3.0 in /usr/local/lib/python3.11/dist-packages (from aiohttp<=4->ipinfo>=4.4.3->zenml[server]) (25.1.0)\n",
            "Requirement already satisfied: frozenlist>=1.1.1 in /usr/local/lib/python3.11/dist-packages (from aiohttp<=4->ipinfo>=4.4.3->zenml[server]) (1.5.0)\n",
            "Requirement already satisfied: multidict<7.0,>=4.5 in /usr/local/lib/python3.11/dist-packages (from aiohttp<=4->ipinfo>=4.4.3->zenml[server]) (6.1.0)\n",
            "Requirement already satisfied: propcache>=0.2.0 in /usr/local/lib/python3.11/dist-packages (from aiohttp<=4->ipinfo>=4.4.3->zenml[server]) (0.2.1)\n",
            "Requirement already satisfied: yarl<2.0,>=1.17.0 in /usr/local/lib/python3.11/dist-packages (from aiohttp<=4->ipinfo>=4.4.3->zenml[server]) (1.18.3)\n",
            "Requirement already satisfied: cffi>=1.12 in /usr/local/lib/python3.11/dist-packages (from cryptography>=3.4.0->pyjwt[crypto]==2.7.*; extra == \"server\"->zenml[server]) (1.17.1)\n",
            "Requirement already satisfied: smmap<6,>=3.0.1 in /usr/local/lib/python3.11/dist-packages (from gitdb<5,>=4.0.1->gitpython<4.0.0,>=3.1.18->zenml[server]) (5.0.2)\n",
            "Requirement already satisfied: ipykernel>=4.5.1 in /usr/local/lib/python3.11/dist-packages (from ipywidgets<9,>=7.5.1->rich[jupyter]>=12.0.0->zenml[server]) (5.5.6)\n",
            "Requirement already satisfied: ipython-genutils~=0.2.0 in /usr/local/lib/python3.11/dist-packages (from ipywidgets<9,>=7.5.1->rich[jupyter]>=12.0.0->zenml[server]) (0.2.0)\n",
            "Requirement already satisfied: traitlets>=4.3.1 in /usr/local/lib/python3.11/dist-packages (from ipywidgets<9,>=7.5.1->rich[jupyter]>=12.0.0->zenml[server]) (5.7.1)\n",
            "Requirement already satisfied: widgetsnbextension~=3.6.0 in /usr/local/lib/python3.11/dist-packages (from ipywidgets<9,>=7.5.1->rich[jupyter]>=12.0.0->zenml[server]) (3.6.10)\n",
            "Requirement already satisfied: ipython>=4.0.0 in /usr/local/lib/python3.11/dist-packages (from ipywidgets<9,>=7.5.1->rich[jupyter]>=12.0.0->zenml[server]) (7.34.0)\n",
            "Requirement already satisfied: jupyterlab-widgets>=1.0.0 in /usr/local/lib/python3.11/dist-packages (from ipywidgets<9,>=7.5.1->rich[jupyter]>=12.0.0->zenml[server]) (3.0.13)\n",
            "Requirement already satisfied: mdurl~=0.1 in /usr/local/lib/python3.11/dist-packages (from markdown-it-py>=2.2.0->rich>=12.0.0->rich[jupyter]>=12.0.0->zenml[server]) (0.1.2)\n",
            "Requirement already satisfied: charset-normalizer<4,>=2 in /usr/local/lib/python3.11/dist-packages (from requests>=2.26.0->docker<7.2.0,>=7.1.0->zenml[server]) (3.4.1)\n",
            "Requirement already satisfied: certifi>=2017.4.17 in /usr/local/lib/python3.11/dist-packages (from requests>=2.26.0->docker<7.2.0,>=7.1.0->zenml[server]) (2024.12.14)\n",
            "Requirement already satisfied: anyio<5,>=3.4.0 in /usr/local/lib/python3.11/dist-packages (from starlette<0.37.0,>=0.36.3->fastapi<=0.110,>=0.100->zenml[server]) (3.7.1)\n",
            "Requirement already satisfied: sniffio>=1.1 in /usr/local/lib/python3.11/dist-packages (from anyio<5,>=3.4.0->starlette<0.37.0,>=0.36.3->fastapi<=0.110,>=0.100->zenml[server]) (1.3.1)\n",
            "Requirement already satisfied: pycparser in /usr/local/lib/python3.11/dist-packages (from cffi>=1.12->cryptography>=3.4.0->pyjwt[crypto]==2.7.*; extra == \"server\"->zenml[server]) (2.22)\n",
            "Requirement already satisfied: jupyter-client in /usr/local/lib/python3.11/dist-packages (from ipykernel>=4.5.1->ipywidgets<9,>=7.5.1->rich[jupyter]>=12.0.0->zenml[server]) (6.1.12)\n",
            "Requirement already satisfied: tornado>=4.2 in /usr/local/lib/python3.11/dist-packages (from ipykernel>=4.5.1->ipywidgets<9,>=7.5.1->rich[jupyter]>=12.0.0->zenml[server]) (6.4.2)\n",
            "Requirement already satisfied: jedi>=0.16 in /usr/local/lib/python3.11/dist-packages (from ipython>=4.0.0->ipywidgets<9,>=7.5.1->rich[jupyter]>=12.0.0->zenml[server]) (0.19.2)\n",
            "Requirement already satisfied: decorator in /usr/local/lib/python3.11/dist-packages (from ipython>=4.0.0->ipywidgets<9,>=7.5.1->rich[jupyter]>=12.0.0->zenml[server]) (4.4.2)\n",
            "Requirement already satisfied: pickleshare in /usr/local/lib/python3.11/dist-packages (from ipython>=4.0.0->ipywidgets<9,>=7.5.1->rich[jupyter]>=12.0.0->zenml[server]) (0.7.5)\n",
            "Requirement already satisfied: prompt-toolkit!=3.0.0,!=3.0.1,<3.1.0,>=2.0.0 in /usr/local/lib/python3.11/dist-packages (from ipython>=4.0.0->ipywidgets<9,>=7.5.1->rich[jupyter]>=12.0.0->zenml[server]) (3.0.50)\n",
            "Requirement already satisfied: backcall in /usr/local/lib/python3.11/dist-packages (from ipython>=4.0.0->ipywidgets<9,>=7.5.1->rich[jupyter]>=12.0.0->zenml[server]) (0.2.0)\n",
            "Requirement already satisfied: matplotlib-inline in /usr/local/lib/python3.11/dist-packages (from ipython>=4.0.0->ipywidgets<9,>=7.5.1->rich[jupyter]>=12.0.0->zenml[server]) (0.1.7)\n",
            "Requirement already satisfied: pexpect>4.3 in /usr/local/lib/python3.11/dist-packages (from ipython>=4.0.0->ipywidgets<9,>=7.5.1->rich[jupyter]>=12.0.0->zenml[server]) (4.9.0)\n",
            "Requirement already satisfied: notebook>=4.4.1 in /usr/local/lib/python3.11/dist-packages (from widgetsnbextension~=3.6.0->ipywidgets<9,>=7.5.1->rich[jupyter]>=12.0.0->zenml[server]) (6.5.5)\n",
            "Requirement already satisfied: parso<0.9.0,>=0.8.4 in /usr/local/lib/python3.11/dist-packages (from jedi>=0.16->ipython>=4.0.0->ipywidgets<9,>=7.5.1->rich[jupyter]>=12.0.0->zenml[server]) (0.8.4)\n",
            "Requirement already satisfied: pyzmq<25,>=17 in /usr/local/lib/python3.11/dist-packages (from notebook>=4.4.1->widgetsnbextension~=3.6.0->ipywidgets<9,>=7.5.1->rich[jupyter]>=12.0.0->zenml[server]) (24.0.1)\n",
            "Requirement already satisfied: argon2-cffi in /usr/local/lib/python3.11/dist-packages (from notebook>=4.4.1->widgetsnbextension~=3.6.0->ipywidgets<9,>=7.5.1->rich[jupyter]>=12.0.0->zenml[server]) (23.1.0)\n",
            "Requirement already satisfied: jupyter-core>=4.6.1 in /usr/local/lib/python3.11/dist-packages (from notebook>=4.4.1->widgetsnbextension~=3.6.0->ipywidgets<9,>=7.5.1->rich[jupyter]>=12.0.0->zenml[server]) (5.7.2)\n",
            "Requirement already satisfied: nbformat in /usr/local/lib/python3.11/dist-packages (from notebook>=4.4.1->widgetsnbextension~=3.6.0->ipywidgets<9,>=7.5.1->rich[jupyter]>=12.0.0->zenml[server]) (5.10.4)\n",
            "Requirement already satisfied: nbconvert>=5 in /usr/local/lib/python3.11/dist-packages (from notebook>=4.4.1->widgetsnbextension~=3.6.0->ipywidgets<9,>=7.5.1->rich[jupyter]>=12.0.0->zenml[server]) (7.16.6)\n",
            "Requirement already satisfied: nest-asyncio>=1.5 in /usr/local/lib/python3.11/dist-packages (from notebook>=4.4.1->widgetsnbextension~=3.6.0->ipywidgets<9,>=7.5.1->rich[jupyter]>=12.0.0->zenml[server]) (1.6.0)\n",
            "Requirement already satisfied: Send2Trash>=1.8.0 in /usr/local/lib/python3.11/dist-packages (from notebook>=4.4.1->widgetsnbextension~=3.6.0->ipywidgets<9,>=7.5.1->rich[jupyter]>=12.0.0->zenml[server]) (1.8.3)\n",
            "Requirement already satisfied: terminado>=0.8.3 in /usr/local/lib/python3.11/dist-packages (from notebook>=4.4.1->widgetsnbextension~=3.6.0->ipywidgets<9,>=7.5.1->rich[jupyter]>=12.0.0->zenml[server]) (0.18.1)\n",
            "Requirement already satisfied: prometheus-client in /usr/local/lib/python3.11/dist-packages (from notebook>=4.4.1->widgetsnbextension~=3.6.0->ipywidgets<9,>=7.5.1->rich[jupyter]>=12.0.0->zenml[server]) (0.21.1)\n",
            "Requirement already satisfied: nbclassic>=0.4.7 in /usr/local/lib/python3.11/dist-packages (from notebook>=4.4.1->widgetsnbextension~=3.6.0->ipywidgets<9,>=7.5.1->rich[jupyter]>=12.0.0->zenml[server]) (1.2.0)\n",
            "Requirement already satisfied: ptyprocess>=0.5 in /usr/local/lib/python3.11/dist-packages (from pexpect>4.3->ipython>=4.0.0->ipywidgets<9,>=7.5.1->rich[jupyter]>=12.0.0->zenml[server]) (0.7.0)\n",
            "Requirement already satisfied: wcwidth in /usr/local/lib/python3.11/dist-packages (from prompt-toolkit!=3.0.0,!=3.0.1,<3.1.0,>=2.0.0->ipython>=4.0.0->ipywidgets<9,>=7.5.1->rich[jupyter]>=12.0.0->zenml[server]) (0.2.13)\n",
            "Requirement already satisfied: platformdirs>=2.5 in /usr/local/lib/python3.11/dist-packages (from jupyter-core>=4.6.1->notebook>=4.4.1->widgetsnbextension~=3.6.0->ipywidgets<9,>=7.5.1->rich[jupyter]>=12.0.0->zenml[server]) (4.3.6)\n",
            "Requirement already satisfied: notebook-shim>=0.2.3 in /usr/local/lib/python3.11/dist-packages (from nbclassic>=0.4.7->notebook>=4.4.1->widgetsnbextension~=3.6.0->ipywidgets<9,>=7.5.1->rich[jupyter]>=12.0.0->zenml[server]) (0.2.4)\n",
            "Requirement already satisfied: beautifulsoup4 in /usr/local/lib/python3.11/dist-packages (from nbconvert>=5->notebook>=4.4.1->widgetsnbextension~=3.6.0->ipywidgets<9,>=7.5.1->rich[jupyter]>=12.0.0->zenml[server]) (4.12.3)\n",
            "Requirement already satisfied: bleach!=5.0.0 in /usr/local/lib/python3.11/dist-packages (from bleach[css]!=5.0.0->nbconvert>=5->notebook>=4.4.1->widgetsnbextension~=3.6.0->ipywidgets<9,>=7.5.1->rich[jupyter]>=12.0.0->zenml[server]) (6.2.0)\n",
            "Requirement already satisfied: defusedxml in /usr/local/lib/python3.11/dist-packages (from nbconvert>=5->notebook>=4.4.1->widgetsnbextension~=3.6.0->ipywidgets<9,>=7.5.1->rich[jupyter]>=12.0.0->zenml[server]) (0.7.1)\n",
            "Requirement already satisfied: jupyterlab-pygments in /usr/local/lib/python3.11/dist-packages (from nbconvert>=5->notebook>=4.4.1->widgetsnbextension~=3.6.0->ipywidgets<9,>=7.5.1->rich[jupyter]>=12.0.0->zenml[server]) (0.3.0)\n",
            "Requirement already satisfied: mistune<4,>=2.0.3 in /usr/local/lib/python3.11/dist-packages (from nbconvert>=5->notebook>=4.4.1->widgetsnbextension~=3.6.0->ipywidgets<9,>=7.5.1->rich[jupyter]>=12.0.0->zenml[server]) (3.1.1)\n",
            "Requirement already satisfied: nbclient>=0.5.0 in /usr/local/lib/python3.11/dist-packages (from nbconvert>=5->notebook>=4.4.1->widgetsnbextension~=3.6.0->ipywidgets<9,>=7.5.1->rich[jupyter]>=12.0.0->zenml[server]) (0.10.2)\n",
            "Requirement already satisfied: pandocfilters>=1.4.1 in /usr/local/lib/python3.11/dist-packages (from nbconvert>=5->notebook>=4.4.1->widgetsnbextension~=3.6.0->ipywidgets<9,>=7.5.1->rich[jupyter]>=12.0.0->zenml[server]) (1.5.1)\n",
            "Requirement already satisfied: fastjsonschema>=2.15 in /usr/local/lib/python3.11/dist-packages (from nbformat->notebook>=4.4.1->widgetsnbextension~=3.6.0->ipywidgets<9,>=7.5.1->rich[jupyter]>=12.0.0->zenml[server]) (2.21.1)\n",
            "Requirement already satisfied: jsonschema>=2.6 in /usr/local/lib/python3.11/dist-packages (from nbformat->notebook>=4.4.1->widgetsnbextension~=3.6.0->ipywidgets<9,>=7.5.1->rich[jupyter]>=12.0.0->zenml[server]) (4.23.0)\n",
            "Requirement already satisfied: argon2-cffi-bindings in /usr/local/lib/python3.11/dist-packages (from argon2-cffi->notebook>=4.4.1->widgetsnbextension~=3.6.0->ipywidgets<9,>=7.5.1->rich[jupyter]>=12.0.0->zenml[server]) (21.2.0)\n",
            "Requirement already satisfied: webencodings in /usr/local/lib/python3.11/dist-packages (from bleach!=5.0.0->bleach[css]!=5.0.0->nbconvert>=5->notebook>=4.4.1->widgetsnbextension~=3.6.0->ipywidgets<9,>=7.5.1->rich[jupyter]>=12.0.0->zenml[server]) (0.5.1)\n",
            "Requirement already satisfied: tinycss2<1.5,>=1.1.0 in /usr/local/lib/python3.11/dist-packages (from bleach[css]!=5.0.0->nbconvert>=5->notebook>=4.4.1->widgetsnbextension~=3.6.0->ipywidgets<9,>=7.5.1->rich[jupyter]>=12.0.0->zenml[server]) (1.4.0)\n",
            "Requirement already satisfied: jsonschema-specifications>=2023.03.6 in /usr/local/lib/python3.11/dist-packages (from jsonschema>=2.6->nbformat->notebook>=4.4.1->widgetsnbextension~=3.6.0->ipywidgets<9,>=7.5.1->rich[jupyter]>=12.0.0->zenml[server]) (2024.10.1)\n",
            "Requirement already satisfied: referencing>=0.28.4 in /usr/local/lib/python3.11/dist-packages (from jsonschema>=2.6->nbformat->notebook>=4.4.1->widgetsnbextension~=3.6.0->ipywidgets<9,>=7.5.1->rich[jupyter]>=12.0.0->zenml[server]) (0.36.2)\n",
            "Requirement already satisfied: rpds-py>=0.7.1 in /usr/local/lib/python3.11/dist-packages (from jsonschema>=2.6->nbformat->notebook>=4.4.1->widgetsnbextension~=3.6.0->ipywidgets<9,>=7.5.1->rich[jupyter]>=12.0.0->zenml[server]) (0.22.3)\n",
            "Requirement already satisfied: jupyter-server<3,>=1.8 in /usr/local/lib/python3.11/dist-packages (from notebook-shim>=0.2.3->nbclassic>=0.4.7->notebook>=4.4.1->widgetsnbextension~=3.6.0->ipywidgets<9,>=7.5.1->rich[jupyter]>=12.0.0->zenml[server]) (1.24.0)\n",
            "Requirement already satisfied: soupsieve>1.2 in /usr/local/lib/python3.11/dist-packages (from beautifulsoup4->nbconvert>=5->notebook>=4.4.1->widgetsnbextension~=3.6.0->ipywidgets<9,>=7.5.1->rich[jupyter]>=12.0.0->zenml[server]) (2.6)\n",
            "Requirement already satisfied: websocket-client in /usr/local/lib/python3.11/dist-packages (from jupyter-server<3,>=1.8->notebook-shim>=0.2.3->nbclassic>=0.4.7->notebook>=4.4.1->widgetsnbextension~=3.6.0->ipywidgets<9,>=7.5.1->rich[jupyter]>=12.0.0->zenml[server]) (1.8.0)\n",
            "\u001b[2K\u001b[32m⠧\u001b[0m Installing integrations...\n",
            "\u001b[1A\u001b[2KRequirement already satisfied: pyparsing in /usr/local/lib/python3.11/dist-packages (3.2.1)\n"
          ]
        },
        {
          "output_type": "execute_result",
          "data": {
            "text/plain": [
              "{'status': 'ok', 'restart': True}"
            ]
          },
          "metadata": {},
          "execution_count": 6
        }
      ],
      "source": [
        "%pip install \"zenml[server]\"\n",
        "!zenml integration install sklearn -y\n",
        "%pip install pyparsing\n",
        "\n",
        "import IPython\n",
        "\n",
        "IPython.Application.instance().kernel.do_shutdown(restart=True)"
      ]
    },
    {
      "cell_type": "code",
      "source": [
        "ngrok_authtoken = \"2sPSTRBlZN2EokGq13FMrlrvITr_SmdhSuRZFureCs8MGyuY\""
      ],
      "metadata": {
        "id": "HRuArG5z6FK0"
      },
      "execution_count": 1,
      "outputs": []
    },
    {
      "cell_type": "code",
      "source": [
        "!rm -rf .zen\n",
        "!zenml init"
      ],
      "metadata": {
        "colab": {
          "base_uri": "https://localhost:8080/"
        },
        "collapsed": true,
        "id": "SmDpdoH46KIg",
        "outputId": "9493e83a-8dcd-4051-9893-ed76009adb5d"
      },
      "execution_count": 2,
      "outputs": [
        {
          "output_type": "stream",
          "name": "stdout",
          "text": [
            "\u001b[?25l\u001b[32m⠋\u001b[0m Initializing ZenML repository at /content.\n",
            "\r\u001b[2K\u001b[1A\u001b[2K\u001b[32m⠙\u001b[0m Initializing ZenML repository at /content.\n",
            "\u001b[2K\u001b[1A\u001b[2K\u001b[32m⠹\u001b[0m Initializing ZenML repository at /content.\n",
            "\u001b[2K\u001b[1A\u001b[2K\u001b[32m⠸\u001b[0m Initializing ZenML repository at /content.\n",
            "\u001b[2K\u001b[1A\u001b[2K\u001b[32m⠼\u001b[0m Initializing ZenML repository at /content.\n",
            "\u001b[2K\u001b[1A\u001b[2K\u001b[32m⠴\u001b[0m Initializing ZenML repository at /content.\n",
            "\u001b[2K\u001b[1A\u001b[2K\u001b[32m⠦\u001b[0m Initializing ZenML repository at /content.\n",
            "\u001b[2K\u001b[1A\u001b[2K\u001b[32m⠧\u001b[0m Initializing ZenML repository at /content.\n",
            "\u001b[2K\u001b[1A\u001b[2K\u001b[32m⠇\u001b[0m Initializing ZenML repository at /content.\n",
            "\u001b[2K\u001b[1A\u001b[2K\u001b[32m⠏\u001b[0m Initializing ZenML repository at /content.\n",
            "\u001b[2K\u001b[1A\u001b[2K\u001b[32m⠋\u001b[0m Initializing ZenML repository at /content.\n",
            "\u001b[2K\u001b[1A\u001b[2K\u001b[32m⠹\u001b[0m Initializing ZenML repository at /content.\n",
            "\u001b[2K\u001b[1A\u001b[2K\u001b[32m⠸\u001b[0m Initializing ZenML repository at /content.\n",
            "\u001b[1;35mSetting the repo active workspace to 'default'.\u001b[0m\n",
            "\u001b[33mSetting the repo active stack to default.\u001b[0m\n",
            "\u001b[2K\u001b[1A\u001b[2K\u001b[2;36mZenML repository initialized at \u001b[0m\u001b[2;35m/\u001b[0m\u001b[2;95mcontent.\u001b[0m\n",
            "\u001b[2;32m⠼\u001b[0m\u001b[2;36m Initializing ZenML repository at /content.\u001b[0m\n",
            "\u001b[2K\u001b[1A\u001b[2K\u001b[32m⠼\u001b[0m Initializing ZenML repository at /content.\n",
            "\n",
            "\u001b[1A\u001b[2K\u001b[1A\u001b[2K\u001b[2;36mThe local active stack was initialized to \u001b[0m\u001b[2;32m'default'\u001b[0m\u001b[2;36m. This local configuration will only take effect \u001b[0m\n",
            "\u001b[2;36mwhen you're running ZenML from the initialized repository root, or from a subdirectory. For more \u001b[0m\n",
            "\u001b[2;36minformation on repositories and configurations, please visit \u001b[0m\n",
            "\u001b[2;4;94mhttps://docs.zenml.io/user-guide/production-guide/understand-stacks.\u001b[0m\n"
          ]
        }
      ]
    },
    {
      "cell_type": "code",
      "source": [
        "import numpy as np\n",
        "from sklearn.base import ClassifierMixin\n",
        "from sklearn.svm import SVC\n",
        "from sklearn.datasets import load_digits\n",
        "from sklearn.model_selection import train_test_split\n",
        "from sklearn.preprocessing import StandardScaler  # Import scaler\n",
        "from sklearn.metrics import classification_report, confusion_matrix  # Import metrics\n",
        "\n",
        "def train_test() -> None:\n",
        "    \"\"\"Train and test a Scikit-learn SVC classifier on digits with improvements\"\"\"\n",
        "\n",
        "    digits = load_digits()\n",
        "    data = digits.images.reshape((len(digits.images), -1))\n",
        "\n",
        "    # Scale the data\n",
        "    scaler = StandardScaler()\n",
        "    data = scaler.fit_transform(data)\n",
        "\n",
        "    X_train, X_test, y_train, y_test = train_test_split(\n",
        "        data, digits.target, test_size=0.2, shuffle=True  # Shuffle is True\n",
        "    )\n",
        "\n",
        "    model = SVC(gamma='scale')  # 'scale' sets gamma automatically based on data\n",
        "    model.fit(X_train, y_train)\n",
        "\n",
        "    test_acc = model.score(X_test, y_test)\n",
        "    print(f\"Test accuracy: {test_acc*100}%\")\n",
        "\n",
        "    # More detailed evaluation\n",
        "    y_pred = model.predict(X_test)\n",
        "    print(classification_report(y_test, y_pred))\n",
        "    print(confusion_matrix(y_test, y_pred))\n",
        "\n",
        "train_test()"
      ],
      "metadata": {
        "colab": {
          "base_uri": "https://localhost:8080/"
        },
        "id": "wuTtc0J07hKb",
        "outputId": "28560ceb-0393-4443-ec82-8e2be472682c"
      },
      "execution_count": 3,
      "outputs": [
        {
          "output_type": "stream",
          "name": "stdout",
          "text": [
            "Test accuracy: 98.61111111111111%\n",
            "              precision    recall  f1-score   support\n",
            "\n",
            "           0       1.00      1.00      1.00        58\n",
            "           1       1.00      1.00      1.00        36\n",
            "           2       0.96      0.96      0.96        23\n",
            "           3       0.97      0.97      0.97        34\n",
            "           4       1.00      1.00      1.00        32\n",
            "           5       0.97      1.00      0.98        32\n",
            "           6       1.00      1.00      1.00        32\n",
            "           7       0.95      1.00      0.97        36\n",
            "           8       1.00      0.97      0.99        35\n",
            "           9       1.00      0.95      0.98        42\n",
            "\n",
            "    accuracy                           0.99       360\n",
            "   macro avg       0.98      0.99      0.98       360\n",
            "weighted avg       0.99      0.99      0.99       360\n",
            "\n",
            "[[58  0  0  0  0  0  0  0  0  0]\n",
            " [ 0 36  0  0  0  0  0  0  0  0]\n",
            " [ 0  0 22  0  0  0  0  1  0  0]\n",
            " [ 0  0  1 33  0  0  0  0  0  0]\n",
            " [ 0  0  0  0 32  0  0  0  0  0]\n",
            " [ 0  0  0  0  0 32  0  0  0  0]\n",
            " [ 0  0  0  0  0  0 32  0  0  0]\n",
            " [ 0  0  0  0  0  0  0 36  0  0]\n",
            " [ 0  0  0  1  0  0  0  0 34  0]\n",
            " [ 0  0  0  0  0  1  0  1  0 40]]\n"
          ]
        }
      ]
    },
    {
      "cell_type": "code",
      "source": [
        "from zenml import step\n",
        "from typing_extensions import Annotated\n",
        "import pandas as pd\n",
        "from typing import Tuple\n",
        "\n",
        "@step\n",
        "def importer() -> Tuple[\n",
        "    Annotated[np.ndarray, \"X_train\"],\n",
        "    Annotated[np.ndarray, \"X_test\"],\n",
        "    Annotated[np.ndarray, \"y_train\"],\n",
        "    Annotated[np.ndarray, \"y_test\"],\n",
        "]:\n",
        "    \"\"\"Load the digits dataset as numpy arrays\"\"\"\n",
        "    digits = load_digits()\n",
        "\n",
        "    data = digits.images.reshape((len(digits.images), -1))\n",
        "\n",
        "    X_train, X_test, y_train, y_test = train_test_split(\n",
        "        data, digits.target, test_size=0.2, shuffle=False\n",
        "    )\n",
        "    return X_train, X_test, y_train, y_test\n",
        "\n",
        "\n",
        "@step\n",
        "def svc_trainer(\n",
        "    X_train: np.ndarray,\n",
        "    y_train: np.ndarray,\n",
        ") -> ClassifierMixin:\n",
        "    \"\"\"Train and return a Scikit-learn SVC classifier\"\"\"\n",
        "    model = SVC(gamma=0.001)\n",
        "    model.fit(X_train, y_train)\n",
        "    return model\n",
        "\n",
        "\n",
        "@step\n",
        "def evaluator(\n",
        "    model: ClassifierMixin,\n",
        "    X_test: np.ndarray,\n",
        "    y_test: np.ndarray,\n",
        ") -> float:\n",
        "    \"\"\"Calculate classification accuracy\"\"\"\n",
        "    test_acc = model.score(X_test, y_test)\n",
        "    print(f\"Test accuracy: {test_acc*100}%\")\n",
        "    return test_acc"
      ],
      "metadata": {
        "id": "V9UrZKzj8zYM"
      },
      "execution_count": 4,
      "outputs": []
    },
    {
      "cell_type": "code",
      "source": [
        "from zenml import pipeline\n",
        "\n",
        "@pipeline\n",
        "def digits_pipeline():\n",
        "  \"\"\"Links all the steps together in a pipeline\"\"\"\n",
        "  X_train, X_test, y_train, y_test = importer()\n",
        "  model = svc_trainer(X_train=X_train, y_train=y_train)\n",
        "  evaluator(X_test=X_test, y_test=y_test, model=model)"
      ],
      "metadata": {
        "id": "YZ3Bb95Pod4p"
      },
      "execution_count": 5,
      "outputs": []
    },
    {
      "cell_type": "code",
      "source": [
        "digits_svc_pipeline = digits_pipeline()"
      ],
      "metadata": {
        "colab": {
          "base_uri": "https://localhost:8080/"
        },
        "collapsed": true,
        "id": "Iu9Px5oqo00p",
        "outputId": "49b3a90d-1bed-4681-9643-1d4feeb81aa4"
      },
      "execution_count": 6,
      "outputs": [
        {
          "output_type": "stream",
          "name": "stdout",
          "text": [
            "\u001b[1;35mInitiating a new run for the pipeline: \u001b[0m\u001b[1;36mdigits_pipeline\u001b[1;35m.\u001b[0m\n"
          ]
        },
        {
          "output_type": "stream",
          "name": "stderr",
          "text": [
            "/usr/local/lib/python3.11/dist-packages/dask/dataframe/__init__.py:42: FutureWarning: \n",
            "Dask dataframe query planning is disabled because dask-expr is not installed.\n",
            "\n",
            "You can install it with `pip install dask[dataframe]` or `conda install dask`.\n",
            "This will raise in a future version.\n",
            "\n",
            "  warnings.warn(msg, FutureWarning)\n"
          ]
        },
        {
          "output_type": "stream",
          "name": "stdout",
          "text": [
            "\u001b[1;35mUsing user: \u001b[0m\u001b[1;36mdefault\u001b[1;35m\u001b[0m\n",
            "\u001b[1;35mUsing stack: \u001b[0m\u001b[1;36mdefault\u001b[1;35m\u001b[0m\n",
            "\u001b[1;35m  artifact_store: \u001b[0m\u001b[1;36mdefault\u001b[1;35m\u001b[0m\n",
            "\u001b[1;35m  orchestrator: \u001b[0m\u001b[1;36mdefault\u001b[1;35m\u001b[0m\n",
            "\u001b[1;35mYou can visualize your pipeline runs in the \u001b[0m\u001b[1;36mZenML Dashboard\u001b[1;35m. In order to try it locally, please run \u001b[0m\u001b[1;36mzenml login --local\u001b[1;35m.\u001b[0m\n",
            "\u001b[1;35mUsing cached version of step \u001b[0m\u001b[1;36mimporter\u001b[1;35m.\u001b[0m\n",
            "\u001b[1;35mUsing cached version of step \u001b[0m\u001b[1;36msvc_trainer\u001b[1;35m.\u001b[0m\n",
            "\u001b[1;35mUsing cached version of step \u001b[0m\u001b[1;36mevaluator\u001b[1;35m.\u001b[0m\n",
            "\u001b[1;35mAll steps of the pipeline run were cached.\u001b[0m\n"
          ]
        }
      ]
    },
    {
      "cell_type": "code",
      "source": [
        "!ngrok config add-authtoken \"2sPSTRBlZN2EokGq13FMrlrvITr_SmdhSuRZFureCs8MGyuY\""
      ],
      "metadata": {
        "colab": {
          "base_uri": "https://localhost:8080/"
        },
        "id": "XL0d0WS2rps4",
        "outputId": "75fc0c0e-66c4-417b-d352-128934f588a1"
      },
      "execution_count": 7,
      "outputs": [
        {
          "output_type": "stream",
          "name": "stdout",
          "text": [
            "Authtoken saved to configuration file: /root/.config/ngrok/ngrok.yml\n"
          ]
        }
      ]
    },
    {
      "cell_type": "code",
      "source": [
        "%pip install pyngrok"
      ],
      "metadata": {
        "collapsed": true,
        "colab": {
          "base_uri": "https://localhost:8080/"
        },
        "id": "eaB67aGlqS-N",
        "outputId": "cebbac8d-b6a6-4bad-d476-1cfecf5982f3"
      },
      "execution_count": 8,
      "outputs": [
        {
          "output_type": "stream",
          "name": "stdout",
          "text": [
            "Requirement already satisfied: pyngrok in /usr/local/lib/python3.11/dist-packages (7.2.3)\n",
            "Requirement already satisfied: PyYAML>=5.1 in /usr/local/lib/python3.11/dist-packages (from pyngrok) (6.0.2)\n"
          ]
        }
      ]
    },
    {
      "cell_type": "code",
      "source": [
        "from zenml.environment import Environment\n",
        "\n",
        "def start_zenml_dashboard(port=8237):\n",
        "  if Environment.in_google_colab():\n",
        "    from pyngrok import ngrok\n",
        "\n",
        "    public_url = ngrok.connect(port)\n",
        "    print(f\"Dashboard accessible at {public_url}\")\n",
        "    !zenml up --blocking --port {port}\n",
        "\n",
        "  else:\n",
        "    print(f\"Dashboard accessible at http://localhost:{port}\")\n",
        "    !zenml up --port {port}\n",
        "\n",
        "start_zenml_dashboard()"
      ],
      "metadata": {
        "colab": {
          "base_uri": "https://localhost:8080/"
        },
        "collapsed": true,
        "id": "iZqKq5URpGms",
        "outputId": "2d37ad01-e53b-4fdb-d24c-ecd863236c81"
      },
      "execution_count": 9,
      "outputs": [
        {
          "output_type": "stream",
          "name": "stderr",
          "text": [
            "INFO:pyngrok.ngrok:Opening tunnel named: http-8237-f0e9c5a6-339f-440e-88cf-ff8f8e318335\n"
          ]
        },
        {
          "output_type": "stream",
          "name": "stdout",
          "text": [
            "\u001b[1;35mOpening tunnel named: http-8237-f0e9c5a6-339f-440e-88cf-ff8f8e318335\u001b[0m\n"
          ]
        },
        {
          "output_type": "stream",
          "name": "stderr",
          "text": [
            "INFO:pyngrok.process.ngrok:t=2025-02-01T05:09:12+0000 lvl=info msg=\"no configuration paths supplied\"\n"
          ]
        },
        {
          "output_type": "stream",
          "name": "stdout",
          "text": [
            "\u001b[1;35mt=2025-02-01T05:09:12+0000 lvl=info msg=\"no configuration paths supplied\"\u001b[0m\n"
          ]
        },
        {
          "output_type": "stream",
          "name": "stderr",
          "text": [
            "INFO:pyngrok.process.ngrok:t=2025-02-01T05:09:12+0000 lvl=info msg=\"using configuration at default config path\" path=/root/.config/ngrok/ngrok.yml\n"
          ]
        },
        {
          "output_type": "stream",
          "name": "stdout",
          "text": [
            "\u001b[1;35mt=2025-02-01T05:09:12+0000 lvl=info msg=\"using configuration at default config path\" path=/root/.config/ngrok/ngrok.yml\u001b[0m\n"
          ]
        },
        {
          "output_type": "stream",
          "name": "stderr",
          "text": [
            "INFO:pyngrok.process.ngrok:t=2025-02-01T05:09:12+0000 lvl=info msg=\"open config file\" path=/root/.config/ngrok/ngrok.yml err=nil\n"
          ]
        },
        {
          "output_type": "stream",
          "name": "stdout",
          "text": [
            "\u001b[1;35mt=2025-02-01T05:09:12+0000 lvl=info msg=\"open config file\" path=/root/.config/ngrok/ngrok.yml err=nil\u001b[0m\n"
          ]
        },
        {
          "output_type": "stream",
          "name": "stderr",
          "text": [
            "INFO:pyngrok.process.ngrok:t=2025-02-01T05:09:12+0000 lvl=info msg=\"starting web service\" obj=web addr=127.0.0.1:4040 allow_hosts=[]\n"
          ]
        },
        {
          "output_type": "stream",
          "name": "stdout",
          "text": [
            "\u001b[1;35mt=2025-02-01T05:09:12+0000 lvl=info msg=\"starting web service\" obj=web addr=127.0.0.1:4040 allow_hosts=[]\u001b[0m\n"
          ]
        },
        {
          "output_type": "stream",
          "name": "stderr",
          "text": [
            "INFO:pyngrok.process.ngrok:t=2025-02-01T05:09:13+0000 lvl=info msg=\"client session established\" obj=tunnels.session\n"
          ]
        },
        {
          "output_type": "stream",
          "name": "stdout",
          "text": [
            "\u001b[1;35mt=2025-02-01T05:09:13+0000 lvl=info msg=\"client session established\" obj=tunnels.session\u001b[0m\n"
          ]
        },
        {
          "output_type": "stream",
          "name": "stderr",
          "text": [
            "INFO:pyngrok.process.ngrok:t=2025-02-01T05:09:13+0000 lvl=info msg=\"tunnel session started\" obj=tunnels.session\n"
          ]
        },
        {
          "output_type": "stream",
          "name": "stdout",
          "text": [
            "\u001b[1;35mt=2025-02-01T05:09:13+0000 lvl=info msg=\"tunnel session started\" obj=tunnels.session\u001b[0m\n"
          ]
        },
        {
          "output_type": "stream",
          "name": "stderr",
          "text": [
            "INFO:pyngrok.process.ngrok:t=2025-02-01T05:09:13+0000 lvl=info msg=start pg=/api/tunnels id=f1236babe7fa32d8\n"
          ]
        },
        {
          "output_type": "stream",
          "name": "stdout",
          "text": [
            "\u001b[1;35mt=2025-02-01T05:09:13+0000 lvl=info msg=start pg=/api/tunnels id=f1236babe7fa32d8\u001b[0m\n"
          ]
        },
        {
          "output_type": "stream",
          "name": "stderr",
          "text": [
            "INFO:pyngrok.process.ngrok:t=2025-02-01T05:09:13+0000 lvl=info msg=end pg=/api/tunnels id=f1236babe7fa32d8 status=200 dur=574.236µs\n"
          ]
        },
        {
          "output_type": "stream",
          "name": "stdout",
          "text": [
            "\u001b[1;35mt=2025-02-01T05:09:13+0000 lvl=info msg=end pg=/api/tunnels id=f1236babe7fa32d8 status=200 dur=574.236µs\u001b[0m\n"
          ]
        },
        {
          "output_type": "stream",
          "name": "stderr",
          "text": [
            "INFO:pyngrok.process.ngrok:t=2025-02-01T05:09:13+0000 lvl=info msg=start pg=/api/tunnels id=d8dd0b0cf5442e87\n"
          ]
        },
        {
          "output_type": "stream",
          "name": "stdout",
          "text": [
            "\u001b[1;35mt=2025-02-01T05:09:13+0000 lvl=info msg=start pg=/api/tunnels id=d8dd0b0cf5442e87\u001b[0m\n"
          ]
        },
        {
          "output_type": "stream",
          "name": "stderr",
          "text": [
            "INFO:pyngrok.process.ngrok:t=2025-02-01T05:09:13+0000 lvl=info msg=end pg=/api/tunnels id=d8dd0b0cf5442e87 status=200 dur=220.072µs\n"
          ]
        },
        {
          "output_type": "stream",
          "name": "stdout",
          "text": [
            "\u001b[1;35mt=2025-02-01T05:09:13+0000 lvl=info msg=end pg=/api/tunnels id=d8dd0b0cf5442e87 status=200 dur=220.072µs\u001b[0m\n"
          ]
        },
        {
          "output_type": "stream",
          "name": "stderr",
          "text": [
            "INFO:pyngrok.process.ngrok:t=2025-02-01T05:09:13+0000 lvl=info msg=start pg=/api/tunnels id=efee6dd71dfd3548\n"
          ]
        },
        {
          "output_type": "stream",
          "name": "stdout",
          "text": [
            "\u001b[1;35mt=2025-02-01T05:09:13+0000 lvl=info msg=start pg=/api/tunnels id=efee6dd71dfd3548\u001b[0m\n"
          ]
        },
        {
          "output_type": "stream",
          "name": "stderr",
          "text": [
            "INFO:pyngrok.process.ngrok:t=2025-02-01T05:09:13+0000 lvl=info msg=\"started tunnel\" obj=tunnels name=http-8237-f0e9c5a6-339f-440e-88cf-ff8f8e318335 addr=http://localhost:8237 url=https://d6e4-104-199-214-154.ngrok-free.app\n"
          ]
        },
        {
          "output_type": "stream",
          "name": "stdout",
          "text": [
            "Dashboard accessible at NgrokTunnel: \"https://d6e4-104-199-214-154.ngrok-free.app\" -> \"http://localhost:8237\"\n",
            "\u001b[1;35mt=2025-02-01T05:09:13+0000 lvl=info msg=\"started tunnel\" obj=tunnels name=http-8237-f0e9c5a6-339f-440e-88cf-ff8f8e318335 addr=\u001b[0m\u001b[34mhttp://localhost:8237\u001b[1;35m url=\u001b[0m\u001b[34mhttps://d6e4-104-199-214-154.ngrok-free.app\u001b[1;35m\u001b[0m\n"
          ]
        },
        {
          "output_type": "stream",
          "name": "stderr",
          "text": [
            "INFO:pyngrok.process.ngrok:t=2025-02-01T05:09:13+0000 lvl=info msg=end pg=/api/tunnels id=efee6dd71dfd3548 status=201 dur=192.303877ms\n"
          ]
        },
        {
          "output_type": "stream",
          "name": "stdout",
          "text": [
            "\u001b[1;35mt=2025-02-01T05:09:13+0000 lvl=info msg=end pg=/api/tunnels id=efee6dd71dfd3548 status=201 dur=192.303877ms\u001b[0m\n"
          ]
        },
        {
          "output_type": "stream",
          "name": "stderr",
          "text": [
            "WARNING:pyngrok.process.ngrok:t=2025-02-01T05:09:27+0000 lvl=warn msg=\"failed to open private leg\" id=518a7fe2049f privaddr=localhost:8237 err=\"dial tcp 127.0.0.1:8237: connect: connection refused\"\n"
          ]
        },
        {
          "output_type": "stream",
          "name": "stdout",
          "text": [
            "\u001b[33mt=2025-02-01T05:09:27+0000 lvl=warn msg=\"failed to open private leg\" id=518a7fe2049f privaddr=localhost:8237 err=\"dial tcp 127.0.0.1:8237: connect: connection refused\"\u001b[0m\n"
          ]
        },
        {
          "output_type": "stream",
          "name": "stderr",
          "text": [
            "WARNING:pyngrok.process.ngrok:t=2025-02-01T05:09:29+0000 lvl=warn msg=\"failed to open private leg\" id=c4236397ec45 privaddr=localhost:8237 err=\"dial tcp 127.0.0.1:8237: connect: connection refused\"\n"
          ]
        },
        {
          "output_type": "stream",
          "name": "stdout",
          "text": [
            "\u001b[33mt=2025-02-01T05:09:29+0000 lvl=warn msg=\"failed to open private leg\" id=c4236397ec45 privaddr=localhost:8237 err=\"dial tcp 127.0.0.1:8237: connect: connection refused\"\u001b[0m\n",
            "\u001b[33mThe `zenml up` command is deprecated and will be removed in a future release. Please use the `zenml \u001b[0m\n",
            "\u001b[33mlogin --local` command instead.\u001b[0m\n",
            "\u001b[2;36mCalling `zenml login --local`\u001b[0m\u001b[2;33m...\u001b[0m\n",
            "\u001b[2;36mThe local ZenML dashboard is about to deploy in a blocking process.\u001b[0m\n",
            "\u001b[1;35mDeploying a local daemon ZenML server.\u001b[0m\n",
            "\u001b[1;35mNot writing the global configuration to disk in a ZenML server environment.\u001b[0m\n",
            "\u001b[1;35mInitializing the ZenML global configuration version to 0.73.0\u001b[0m\n",
            "\u001b[1;35mNot writing the global configuration to disk in a ZenML server environment.\u001b[0m\n",
            "\u001b[1;35mStarting ZenML Server as blocking process... press CTRL+C once to stop it.\u001b[0m\n",
            "\u001b[32mINFO\u001b[0m:     Started server process [\u001b[36m11902\u001b[0m]\n",
            "\u001b[32mINFO\u001b[0m:     Waiting for application startup.\n",
            "\u001b[1;35mNot writing the global configuration to disk in a ZenML server environment.\u001b[0m\n",
            "\u001b[1;35mNot writing the global configuration to disk in a ZenML server environment.\u001b[0m\n",
            "\u001b[32mINFO\u001b[0m:     Application startup complete.\n",
            "\u001b[32mINFO\u001b[0m:     Uvicorn running on \u001b[1mhttp://127.0.0.1:8237\u001b[0m (Press CTRL+C to quit)\n"
          ]
        },
        {
          "output_type": "stream",
          "name": "stderr",
          "text": [
            "INFO:pyngrok.process.ngrok:t=2025-02-01T05:09:46+0000 lvl=info msg=\"join connections\" obj=join id=eaafebf9976a l=127.0.0.1:8237 r=112.196.126.3:50011\n"
          ]
        },
        {
          "output_type": "stream",
          "name": "stdout",
          "text": [
            "\u001b[1;35mt=2025-02-01T05:09:46+0000 lvl=info msg=\"join connections\" obj=join id=eaafebf9976a l=127.0.0.1:8237 r=112.196.126.3:50011\u001b[0m\n",
            "\u001b[32mINFO\u001b[0m:     112.196.126.3:0 - \"\u001b[1mGET / HTTP/1.1\u001b[0m\" \u001b[32m200 OK\u001b[0m\n"
          ]
        },
        {
          "output_type": "stream",
          "name": "stderr",
          "text": [
            "INFO:pyngrok.process.ngrok:t=2025-02-01T05:09:47+0000 lvl=info msg=\"join connections\" obj=join id=35a74232b5da l=127.0.0.1:8237 r=112.196.126.3:50011\n"
          ]
        },
        {
          "output_type": "stream",
          "name": "stdout",
          "text": [
            "\u001b[32mINFO\u001b[0m:     112.196.126.3:0 - \"\u001b[1mGET /assets/index-CxO6541P.js HTTP/1.1\u001b[0m\" \u001b[32m200 OK\u001b[0m\n",
            "\u001b[1;35mt=2025-02-01T05:09:47+0000 lvl=info msg=\"join connections\" obj=join id=35a74232b5da l=127.0.0.1:8237 r=112.196.126.3:50011\u001b[0m\n",
            "\u001b[32mINFO\u001b[0m:     112.196.126.3:0 - \"\u001b[1mGET /assets/%40radix-DeK6qiuw.js HTTP/1.1\u001b[0m\" \u001b[32m200 OK\u001b[0m\n"
          ]
        },
        {
          "output_type": "stream",
          "name": "stderr",
          "text": [
            "INFO:pyngrok.process.ngrok:t=2025-02-01T05:09:47+0000 lvl=info msg=\"join connections\" obj=join id=9e70e33321a7 l=127.0.0.1:8237 r=112.196.126.3:50011\n"
          ]
        },
        {
          "output_type": "stream",
          "name": "stdout",
          "text": [
            "\u001b[1;35mt=2025-02-01T05:09:47+0000 lvl=info msg=\"join connections\" obj=join id=9e70e33321a7 l=127.0.0.1:8237 r=112.196.126.3:50011\u001b[0m\n",
            "\u001b[32mINFO\u001b[0m:     112.196.126.3:0 - \"\u001b[1mGET /assets/%40tanstack-DT5WLu9C.js HTTP/1.1\u001b[0m\" \u001b[32m200 OK\u001b[0m\n"
          ]
        },
        {
          "output_type": "stream",
          "name": "stderr",
          "text": [
            "INFO:pyngrok.process.ngrok:t=2025-02-01T05:09:49+0000 lvl=info msg=\"join connections\" obj=join id=ba85b002d7a3 l=127.0.0.1:8237 r=112.196.126.3:50011\n"
          ]
        },
        {
          "output_type": "stream",
          "name": "stdout",
          "text": [
            "\u001b[32mINFO\u001b[0m:     112.196.126.3:0 - \"\u001b[1mGET /assets/%40reactflow-C26Olbza.css HTTP/1.1\u001b[0m\" \u001b[32m200 OK\u001b[0m\n",
            "\u001b[32mINFO\u001b[0m:     112.196.126.3:0 - \"\u001b[1mGET /assets/index-B6U0OkEN.css HTTP/1.1\u001b[0m\" \u001b[32m200 OK\u001b[0m\n",
            "\u001b[1;35mt=2025-02-01T05:09:49+0000 lvl=info msg=\"join connections\" obj=join id=ba85b002d7a3 l=127.0.0.1:8237 r=112.196.126.3:50011\u001b[0m\n"
          ]
        },
        {
          "output_type": "stream",
          "name": "stderr",
          "text": [
            "INFO:pyngrok.process.ngrok:t=2025-02-01T05:09:49+0000 lvl=info msg=\"join connections\" obj=join id=a4b6873cea65 l=127.0.0.1:8237 r=112.196.126.3:50011\n"
          ]
        },
        {
          "output_type": "stream",
          "name": "stdout",
          "text": [
            "\u001b[1;35mt=2025-02-01T05:09:49+0000 lvl=info msg=\"join connections\" obj=join id=a4b6873cea65 l=127.0.0.1:8237 r=112.196.126.3:50011\u001b[0m\n",
            "\u001b[32mINFO\u001b[0m:     112.196.126.3:0 - \"\u001b[1mGET /assets/%40reactflow-6JPoencd.js HTTP/1.1\u001b[0m\" \u001b[32m200 OK\u001b[0m\n",
            "\u001b[32mINFO\u001b[0m:     112.196.126.3:0 - \"\u001b[1mGET /assets/%40react-router-B3Z5rLr2.js HTTP/1.1\u001b[0m\" \u001b[32m200 OK\u001b[0m\n",
            "\u001b[32mINFO\u001b[0m:     112.196.126.3:0 - \"\u001b[1mGET /assets/inter-cyrillic-ext-400-normal-Dc4VJyIJ.woff2 HTTP/1.1\u001b[0m\" \u001b[32m200 OK\u001b[0m\n",
            "\u001b[32mINFO\u001b[0m:     112.196.126.3:0 - \"\u001b[1mGET /assets/inter-cyrillic-400-normal-BLGc9T1a.woff2 HTTP/1.1\u001b[0m\" \u001b[32m200 OK\u001b[0m\n"
          ]
        },
        {
          "output_type": "stream",
          "name": "stderr",
          "text": [
            "INFO:pyngrok.process.ngrok:t=2025-02-01T05:09:50+0000 lvl=info msg=\"join connections\" obj=join id=569283909b96 l=127.0.0.1:8237 r=112.196.126.3:50011\n"
          ]
        },
        {
          "output_type": "stream",
          "name": "stdout",
          "text": [
            "\u001b[32mINFO\u001b[0m:     112.196.126.3:0 - \"\u001b[1mGET /assets/inter-greek-ext-400-normal-Bput3-QP.woff2 HTTP/1.1\u001b[0m\" \u001b[32m200 OK\u001b[0m\n",
            "\u001b[32mINFO\u001b[0m:     112.196.126.3:0 - \"\u001b[1mGET /assets/inter-greek-400-normal-DxZsaF_h.woff2 HTTP/1.1\u001b[0m\" \u001b[32m200 OK\u001b[0m\n",
            "\u001b[32mINFO\u001b[0m:     112.196.126.3:0 - \"\u001b[1mGET /assets/inter-vietnamese-400-normal-DMkecbls.woff2 HTTP/1.1\u001b[0m\" \u001b[32m200 OK\u001b[0m\n",
            "\u001b[1;35mt=2025-02-01T05:09:50+0000 lvl=info msg=\"join connections\" obj=join id=569283909b96 l=127.0.0.1:8237 r=112.196.126.3:50011\u001b[0m\n"
          ]
        },
        {
          "output_type": "stream",
          "name": "stderr",
          "text": [
            "INFO:pyngrok.process.ngrok:t=2025-02-01T05:09:50+0000 lvl=info msg=\"join connections\" obj=join id=2db5c6a22611 l=127.0.0.1:8237 r=112.196.126.3:50011\n"
          ]
        },
        {
          "output_type": "stream",
          "name": "stdout",
          "text": [
            "\u001b[1;35mt=2025-02-01T05:09:50+0000 lvl=info msg=\"join connections\" obj=join id=2db5c6a22611 l=127.0.0.1:8237 r=112.196.126.3:50011\u001b[0m\n"
          ]
        },
        {
          "output_type": "stream",
          "name": "stderr",
          "text": [
            "INFO:pyngrok.process.ngrok:t=2025-02-01T05:09:50+0000 lvl=info msg=\"join connections\" obj=join id=5bb6bebfc8e6 l=127.0.0.1:8237 r=112.196.126.3:50011\n"
          ]
        },
        {
          "output_type": "stream",
          "name": "stdout",
          "text": [
            "\u001b[32mINFO\u001b[0m:     112.196.126.3:0 - \"\u001b[1mGET /assets/inter-latin-400-normal-BOOGhInR.woff2 HTTP/1.1\u001b[0m\" \u001b[32m200 OK\u001b[0m\n",
            "\u001b[32mINFO\u001b[0m:     112.196.126.3:0 - \"\u001b[1mGET /assets/inter-latin-ext-400-normal-hnt3BR84.woff2 HTTP/1.1\u001b[0m\" \u001b[32m200 OK\u001b[0m\n",
            "\u001b[1;35mt=2025-02-01T05:09:50+0000 lvl=info msg=\"join connections\" obj=join id=5bb6bebfc8e6 l=127.0.0.1:8237 r=112.196.126.3:50011\u001b[0m\n"
          ]
        },
        {
          "output_type": "stream",
          "name": "stderr",
          "text": [
            "INFO:pyngrok.process.ngrok:t=2025-02-01T05:09:50+0000 lvl=info msg=\"join connections\" obj=join id=0a20a86c08da l=127.0.0.1:8237 r=112.196.126.3:50011\n"
          ]
        },
        {
          "output_type": "stream",
          "name": "stdout",
          "text": [
            "\u001b[1;35mt=2025-02-01T05:09:50+0000 lvl=info msg=\"join connections\" obj=join id=0a20a86c08da l=127.0.0.1:8237 r=112.196.126.3:50011\u001b[0m\n",
            "\u001b[32mINFO\u001b[0m:     112.196.126.3:0 - \"\u001b[1mGET /assets/inter-cyrillic-ext-500-normal-BShVwWPj.woff2 HTTP/1.1\u001b[0m\" \u001b[32m200 OK\u001b[0m\n",
            "\u001b[32mINFO\u001b[0m:     112.196.126.3:0 - \"\u001b[1mGET /assets/inter-cyrillic-500-normal-D4Vwzodn.woff2 HTTP/1.1\u001b[0m\" \u001b[32m200 OK\u001b[0m\n",
            "\u001b[32mINFO\u001b[0m:     112.196.126.3:0 - \"\u001b[1mGET /assets/inter-greek-ext-500-normal-B6guLgqG.woff2 HTTP/1.1\u001b[0m\" \u001b[32m200 OK\u001b[0m\n",
            "\u001b[32mINFO\u001b[0m:     112.196.126.3:0 - \"\u001b[1mGET /api/v1/info HTTP/1.1\u001b[0m\" \u001b[32m200 OK\u001b[0m\n",
            "\u001b[32mINFO\u001b[0m:     112.196.126.3:0 - \"\u001b[1mGET /favicon.ico HTTP/1.1\u001b[0m\" \u001b[32m200 OK\u001b[0m\n"
          ]
        },
        {
          "output_type": "stream",
          "name": "stderr",
          "text": [
            "INFO:pyngrok.process.ngrok:t=2025-02-01T05:09:50+0000 lvl=info msg=\"join connections\" obj=join id=8eecaa140697 l=127.0.0.1:8237 r=112.196.126.3:50011\n"
          ]
        },
        {
          "output_type": "stream",
          "name": "stdout",
          "text": [
            "\u001b[1;35mt=2025-02-01T05:09:50+0000 lvl=info msg=\"join connections\" obj=join id=8eecaa140697 l=127.0.0.1:8237 r=112.196.126.3:50011\u001b[0m\n"
          ]
        },
        {
          "output_type": "stream",
          "name": "stderr",
          "text": [
            "INFO:pyngrok.process.ngrok:t=2025-02-01T05:09:50+0000 lvl=info msg=\"join connections\" obj=join id=4a95d2de59f1 l=127.0.0.1:8237 r=112.196.126.3:50011\n"
          ]
        },
        {
          "output_type": "stream",
          "name": "stdout",
          "text": [
            "\u001b[1;35mt=2025-02-01T05:09:50+0000 lvl=info msg=\"join connections\" obj=join id=4a95d2de59f1 l=127.0.0.1:8237 r=112.196.126.3:50011\u001b[0m\n"
          ]
        },
        {
          "output_type": "stream",
          "name": "stderr",
          "text": [
            "INFO:pyngrok.process.ngrok:t=2025-02-01T05:09:50+0000 lvl=info msg=\"join connections\" obj=join id=a80f2d8326de l=127.0.0.1:8237 r=112.196.126.3:50011\n"
          ]
        },
        {
          "output_type": "stream",
          "name": "stdout",
          "text": [
            "\u001b[1;35mt=2025-02-01T05:09:50+0000 lvl=info msg=\"join connections\" obj=join id=a80f2d8326de l=127.0.0.1:8237 r=112.196.126.3:50011\u001b[0m\n",
            "\u001b[32mINFO\u001b[0m:     112.196.126.3:0 - \"\u001b[1mGET /assets/inter-greek-500-normal-CeQXL5ds.woff2 HTTP/1.1\u001b[0m\" \u001b[32m200 OK\u001b[0m\n",
            "\u001b[32mINFO\u001b[0m:     112.196.126.3:0 - \"\u001b[1mGET /assets/inter-vietnamese-500-normal-DOriooB6.woff2 HTTP/1.1\u001b[0m\" \u001b[32m200 OK\u001b[0m\n"
          ]
        },
        {
          "output_type": "stream",
          "name": "stderr",
          "text": [
            "INFO:pyngrok.process.ngrok:t=2025-02-01T05:09:51+0000 lvl=info msg=\"join connections\" obj=join id=30bfa6d0f075 l=127.0.0.1:8237 r=112.196.126.3:50011\n"
          ]
        },
        {
          "output_type": "stream",
          "name": "stdout",
          "text": [
            "\u001b[1;35mt=2025-02-01T05:09:51+0000 lvl=info msg=\"join connections\" obj=join id=30bfa6d0f075 l=127.0.0.1:8237 r=112.196.126.3:50011\u001b[0m\n"
          ]
        },
        {
          "output_type": "stream",
          "name": "stderr",
          "text": [
            "INFO:pyngrok.process.ngrok:t=2025-02-01T05:09:51+0000 lvl=info msg=\"join connections\" obj=join id=940672ea25e3 l=127.0.0.1:8237 r=112.196.126.3:50011\n"
          ]
        },
        {
          "output_type": "stream",
          "name": "stdout",
          "text": [
            "\u001b[1;35mt=2025-02-01T05:09:51+0000 lvl=info msg=\"join connections\" obj=join id=940672ea25e3 l=127.0.0.1:8237 r=112.196.126.3:50011\u001b[0m\n"
          ]
        },
        {
          "output_type": "stream",
          "name": "stderr",
          "text": [
            "INFO:pyngrok.process.ngrok:t=2025-02-01T05:09:51+0000 lvl=info msg=\"join connections\" obj=join id=9dbeff4ee4b3 l=127.0.0.1:8237 r=112.196.126.3:50011\n"
          ]
        },
        {
          "output_type": "stream",
          "name": "stdout",
          "text": [
            "\u001b[1;35mt=2025-02-01T05:09:51+0000 lvl=info msg=\"join connections\" obj=join id=9dbeff4ee4b3 l=127.0.0.1:8237 r=112.196.126.3:50011\u001b[0m\n"
          ]
        },
        {
          "output_type": "stream",
          "name": "stderr",
          "text": [
            "INFO:pyngrok.process.ngrok:t=2025-02-01T05:09:51+0000 lvl=info msg=\"join connections\" obj=join id=bc1583d46a37 l=127.0.0.1:8237 r=112.196.126.3:50011\n"
          ]
        },
        {
          "output_type": "stream",
          "name": "stdout",
          "text": [
            "\u001b[1;35mt=2025-02-01T05:09:51+0000 lvl=info msg=\"join connections\" obj=join id=bc1583d46a37 l=127.0.0.1:8237 r=112.196.126.3:50011\u001b[0m\n"
          ]
        },
        {
          "output_type": "stream",
          "name": "stderr",
          "text": [
            "INFO:pyngrok.process.ngrok:t=2025-02-01T05:09:51+0000 lvl=info msg=\"join connections\" obj=join id=ba801499b723 l=127.0.0.1:8237 r=112.196.126.3:50011\n"
          ]
        },
        {
          "output_type": "stream",
          "name": "stdout",
          "text": [
            "\u001b[1;35mt=2025-02-01T05:09:51+0000 lvl=info msg=\"join connections\" obj=join id=ba801499b723 l=127.0.0.1:8237 r=112.196.126.3:50011\u001b[0m\n"
          ]
        },
        {
          "output_type": "stream",
          "name": "stderr",
          "text": [
            "INFO:pyngrok.process.ngrok:t=2025-02-01T05:09:51+0000 lvl=info msg=\"join connections\" obj=join id=50fc7b0d9b89 l=127.0.0.1:8237 r=112.196.126.3:50011\n"
          ]
        },
        {
          "output_type": "stream",
          "name": "stdout",
          "text": [
            "\u001b[1;35mt=2025-02-01T05:09:51+0000 lvl=info msg=\"join connections\" obj=join id=50fc7b0d9b89 l=127.0.0.1:8237 r=112.196.126.3:50011\u001b[0m\n"
          ]
        },
        {
          "output_type": "stream",
          "name": "stderr",
          "text": [
            "INFO:pyngrok.process.ngrok:t=2025-02-01T05:09:51+0000 lvl=info msg=\"join connections\" obj=join id=564536ca67d0 l=127.0.0.1:8237 r=112.196.126.3:50011\n"
          ]
        },
        {
          "output_type": "stream",
          "name": "stdout",
          "text": [
            "\u001b[32mINFO\u001b[0m:     112.196.126.3:0 - \"\u001b[1mGET /assets/CodeSnippet-Bbx6fIb6.css HTTP/1.1\u001b[0m\" \u001b[32m200 OK\u001b[0m\n",
            "\u001b[32mINFO\u001b[0m:     112.196.126.3:0 - \"\u001b[1mGET /assets/inter-latin-500-normal-D2bGa7uu.woff2 HTTP/1.1\u001b[0m\" \u001b[32m200 OK\u001b[0m\n",
            "\u001b[32mINFO\u001b[0m:     112.196.126.3:0 - \"\u001b[1mGET /assets/inter-latin-ext-500-normal-CIS2RHJS.woff2 HTTP/1.1\u001b[0m\" \u001b[32m200 OK\u001b[0m\n",
            "\u001b[32mINFO\u001b[0m:     112.196.126.3:0 - \"\u001b[1mGET /assets/inter-greek-600-normal-Dhlb-90d.woff2 HTTP/1.1\u001b[0m\" \u001b[32m200 OK\u001b[0m\n",
            "\u001b[1;35mt=2025-02-01T05:09:51+0000 lvl=info msg=\"join connections\" obj=join id=564536ca67d0 l=127.0.0.1:8237 r=112.196.126.3:50011\u001b[0m\n",
            "\u001b[32mINFO\u001b[0m:     112.196.126.3:0 - \"\u001b[1mGET /assets/inter-cyrillic-600-normal-BGBWG807.woff2 HTTP/1.1\u001b[0m\" \u001b[32m200 OK\u001b[0m\n",
            "\u001b[32mINFO\u001b[0m:     112.196.126.3:0 - \"\u001b[1mGET /assets/inter-greek-ext-600-normal-Cnui8OiR.woff2 HTTP/1.1\u001b[0m\" \u001b[32m200 OK\u001b[0m\n",
            "\u001b[32mINFO\u001b[0m:     112.196.126.3:0 - \"\u001b[1mGET /assets/inter-cyrillic-ext-600-normal-CaqZN2hq.woff2 HTTP/1.1\u001b[0m\" \u001b[32m200 OK\u001b[0m\n"
          ]
        },
        {
          "output_type": "stream",
          "name": "stderr",
          "text": [
            "INFO:pyngrok.process.ngrok:t=2025-02-01T05:09:52+0000 lvl=info msg=\"join connections\" obj=join id=fb6ce2cddc30 l=127.0.0.1:8237 r=112.196.126.3:50011\n"
          ]
        },
        {
          "output_type": "stream",
          "name": "stdout",
          "text": [
            "\u001b[32mINFO\u001b[0m:     112.196.126.3:0 - \"\u001b[1mGET /assets/inter-latin-ext-600-normal-BnYJhD27.woff2 HTTP/1.1\u001b[0m\" \u001b[32m200 OK\u001b[0m\n",
            "\u001b[32mINFO\u001b[0m:     112.196.126.3:0 - \"\u001b[1mGET /assets/page-BXgXP-Qj.js HTTP/1.1\u001b[0m\" \u001b[32m200 OK\u001b[0m\n",
            "\u001b[32mINFO\u001b[0m:     112.196.126.3:0 - \"\u001b[1mGET /assets/inter-latin-600-normal-D273HNI0.woff2 HTTP/1.1\u001b[0m\" \u001b[32m200 OK\u001b[0m\n",
            "\u001b[1;35mt=2025-02-01T05:09:52+0000 lvl=info msg=\"join connections\" obj=join id=fb6ce2cddc30 l=127.0.0.1:8237 r=112.196.126.3:50011\u001b[0m\n"
          ]
        },
        {
          "output_type": "stream",
          "name": "stderr",
          "text": [
            "INFO:pyngrok.process.ngrok:t=2025-02-01T05:09:52+0000 lvl=info msg=\"join connections\" obj=join id=5b386f354336 l=127.0.0.1:8237 r=112.196.126.3:50011\n"
          ]
        },
        {
          "output_type": "stream",
          "name": "stdout",
          "text": [
            "\u001b[32mINFO\u001b[0m:     112.196.126.3:0 - \"\u001b[1mGET /assets/inter-vietnamese-600-normal-Cc8MFFhd.woff2 HTTP/1.1\u001b[0m\" \u001b[32m200 OK\u001b[0m\n",
            "\u001b[32mINFO\u001b[0m:     112.196.126.3:0 - \"\u001b[1mGET /assets/inter-cyrillic-400-normal-ZzOtrSSW.woff HTTP/1.1\u001b[0m\" \u001b[32m200 OK\u001b[0m\n",
            "\u001b[1;35mt=2025-02-01T05:09:52+0000 lvl=info msg=\"join connections\" obj=join id=5b386f354336 l=127.0.0.1:8237 r=112.196.126.3:50011\u001b[0m\n",
            "\u001b[32mINFO\u001b[0m:     112.196.126.3:0 - \"\u001b[1mGET /assets/inter-cyrillic-ext-400-normal-BPnxn4xp.woff HTTP/1.1\u001b[0m\" \u001b[32m200 OK\u001b[0m\n",
            "\u001b[32mINFO\u001b[0m:     112.196.126.3:0 - \"\u001b[1mGET /assets/inter-greek-ext-400-normal-DCpCPQOf.woff HTTP/1.1\u001b[0m\" \u001b[32m200 OK\u001b[0m\n",
            "\u001b[32mINFO\u001b[0m:     112.196.126.3:0 - \"\u001b[1mGET /assets/link-external-b9AXw_sW.js HTTP/1.1\u001b[0m\" \u001b[32m200 OK\u001b[0m\n"
          ]
        },
        {
          "output_type": "stream",
          "name": "stderr",
          "text": [
            "INFO:pyngrok.process.ngrok:t=2025-02-01T05:09:52+0000 lvl=info msg=\"join connections\" obj=join id=bd6236b5c208 l=127.0.0.1:8237 r=112.196.126.3:50011\n"
          ]
        },
        {
          "output_type": "stream",
          "name": "stdout",
          "text": [
            "\u001b[32mINFO\u001b[0m:     112.196.126.3:0 - \"\u001b[1mGET /assets/inter-greek-400-normal-BZzXV7-1.woff HTTP/1.1\u001b[0m\" \u001b[32m200 OK\u001b[0m\n",
            "\u001b[32mINFO\u001b[0m:     112.196.126.3:0 - \"\u001b[1mGET /assets/login-command-CkqxPtV3.js HTTP/1.1\u001b[0m\" \u001b[32m200 OK\u001b[0m\n",
            "\u001b[32mINFO\u001b[0m:     112.196.126.3:0 - \"\u001b[1mGET /assets/inter-vietnamese-400-normal-BUNmGMP1.woff HTTP/1.1\u001b[0m\" \u001b[32m200 OK\u001b[0m\n",
            "\u001b[1;35mt=2025-02-01T05:09:52+0000 lvl=info msg=\"join connections\" obj=join id=bd6236b5c208 l=127.0.0.1:8237 r=112.196.126.3:50011\u001b[0m\n"
          ]
        },
        {
          "output_type": "stream",
          "name": "stderr",
          "text": [
            "INFO:pyngrok.process.ngrok:t=2025-02-01T05:09:52+0000 lvl=info msg=\"join connections\" obj=join id=1a8e77b829e7 l=127.0.0.1:8237 r=112.196.126.3:50011\n"
          ]
        },
        {
          "output_type": "stream",
          "name": "stdout",
          "text": [
            "\u001b[1;35mt=2025-02-01T05:09:52+0000 lvl=info msg=\"join connections\" obj=join id=1a8e77b829e7 l=127.0.0.1:8237 r=112.196.126.3:50011\u001b[0m\n"
          ]
        },
        {
          "output_type": "stream",
          "name": "stderr",
          "text": [
            "INFO:pyngrok.process.ngrok:t=2025-02-01T05:09:52+0000 lvl=info msg=\"join connections\" obj=join id=b14542dda980 l=127.0.0.1:8237 r=112.196.126.3:50011\n"
          ]
        },
        {
          "output_type": "stream",
          "name": "stdout",
          "text": [
            "\u001b[1;35mt=2025-02-01T05:09:52+0000 lvl=info msg=\"join connections\" obj=join id=b14542dda980 l=127.0.0.1:8237 r=112.196.126.3:50011\u001b[0m\n"
          ]
        },
        {
          "output_type": "stream",
          "name": "stderr",
          "text": [
            "INFO:pyngrok.process.ngrok:t=2025-02-01T05:09:52+0000 lvl=info msg=\"join connections\" obj=join id=fa0317ac7288 l=127.0.0.1:8237 r=112.196.126.3:50011\n"
          ]
        },
        {
          "output_type": "stream",
          "name": "stdout",
          "text": [
            "\u001b[1;35mt=2025-02-01T05:09:52+0000 lvl=info msg=\"join connections\" obj=join id=fa0317ac7288 l=127.0.0.1:8237 r=112.196.126.3:50011\u001b[0m\n"
          ]
        },
        {
          "output_type": "stream",
          "name": "stderr",
          "text": [
            "INFO:pyngrok.process.ngrok:t=2025-02-01T05:09:52+0000 lvl=info msg=\"join connections\" obj=join id=d101c8f7b4fd l=127.0.0.1:8237 r=112.196.126.3:50011\n"
          ]
        },
        {
          "output_type": "stream",
          "name": "stdout",
          "text": [
            "\u001b[1;35mt=2025-02-01T05:09:52+0000 lvl=info msg=\"join connections\" obj=join id=d101c8f7b4fd l=127.0.0.1:8237 r=112.196.126.3:50011\u001b[0m\n"
          ]
        },
        {
          "output_type": "stream",
          "name": "stderr",
          "text": [
            "INFO:pyngrok.process.ngrok:t=2025-02-01T05:09:52+0000 lvl=info msg=\"join connections\" obj=join id=ee7c9b787f5d l=127.0.0.1:8237 r=112.196.126.3:50011\n"
          ]
        },
        {
          "output_type": "stream",
          "name": "stdout",
          "text": [
            "\u001b[32mINFO\u001b[0m:     112.196.126.3:0 - \"\u001b[1mGET /assets/CodeSnippet-Qh1ae_DJ.js HTTP/1.1\u001b[0m\" \u001b[32m200 OK\u001b[0m\n",
            "\u001b[32mINFO\u001b[0m:     112.196.126.3:0 - \"\u001b[1mGET /assets/copy-C8XQA2Ug.js HTTP/1.1\u001b[0m\" \u001b[32m200 OK\u001b[0m\n",
            "\u001b[1;35mt=2025-02-01T05:09:52+0000 lvl=info msg=\"join connections\" obj=join id=ee7c9b787f5d l=127.0.0.1:8237 r=112.196.126.3:50011\u001b[0m\n",
            "\u001b[32mINFO\u001b[0m:     112.196.126.3:0 - \"\u001b[1mGET /assets/inter-latin-ext-400-normal-C1t-h-pH.woff HTTP/1.1\u001b[0m\" \u001b[32m200 OK\u001b[0m\n",
            "\u001b[32mINFO\u001b[0m:     112.196.126.3:0 - \"\u001b[1mGET /assets/inter-latin-400-normal-gitzw0hO.woff HTTP/1.1\u001b[0m\" \u001b[32m200 OK\u001b[0m\n"
          ]
        },
        {
          "output_type": "stream",
          "name": "stderr",
          "text": [
            "INFO:pyngrok.process.ngrok:t=2025-02-01T05:09:53+0000 lvl=info msg=\"join connections\" obj=join id=8d2cff6a2b05 l=127.0.0.1:8237 r=112.196.126.3:50011\n"
          ]
        },
        {
          "output_type": "stream",
          "name": "stdout",
          "text": [
            "\u001b[32mINFO\u001b[0m:     112.196.126.3:0 - \"\u001b[1mGET /assets/inter-cyrillic-ext-500-normal-CUiC4oBV.woff HTTP/1.1\u001b[0m\" \u001b[32m200 OK\u001b[0m\n",
            "\u001b[1;35mt=2025-02-01T05:09:53+0000 lvl=info msg=\"join connections\" obj=join id=8d2cff6a2b05 l=127.0.0.1:8237 r=112.196.126.3:50011\u001b[0m\n"
          ]
        },
        {
          "output_type": "stream",
          "name": "stderr",
          "text": [
            "INFO:pyngrok.process.ngrok:t=2025-02-01T05:09:53+0000 lvl=info msg=\"join connections\" obj=join id=193e060ab74d l=127.0.0.1:8237 r=112.196.126.3:50011\n"
          ]
        },
        {
          "output_type": "stream",
          "name": "stdout",
          "text": [
            "\u001b[32mINFO\u001b[0m:     112.196.126.3:0 - \"\u001b[1mGET /assets/inter-cyrillic-500-normal-DH2hs3aW.woff HTTP/1.1\u001b[0m\" \u001b[32m200 OK\u001b[0m\n",
            "\u001b[1;35mt=2025-02-01T05:09:53+0000 lvl=info msg=\"join connections\" obj=join id=193e060ab74d l=127.0.0.1:8237 r=112.196.126.3:50011\u001b[0m\n"
          ]
        },
        {
          "output_type": "stream",
          "name": "stderr",
          "text": [
            "INFO:pyngrok.process.ngrok:t=2025-02-01T05:09:53+0000 lvl=info msg=\"join connections\" obj=join id=e80435388bcb l=127.0.0.1:8237 r=112.196.126.3:50011\n"
          ]
        },
        {
          "output_type": "stream",
          "name": "stdout",
          "text": [
            "\u001b[1;35mt=2025-02-01T05:09:53+0000 lvl=info msg=\"join connections\" obj=join id=e80435388bcb l=127.0.0.1:8237 r=112.196.126.3:50011\u001b[0m\n"
          ]
        },
        {
          "output_type": "stream",
          "name": "stderr",
          "text": [
            "INFO:pyngrok.process.ngrok:t=2025-02-01T05:09:53+0000 lvl=info msg=\"join connections\" obj=join id=524a5769c607 l=127.0.0.1:8237 r=112.196.126.3:50011\n"
          ]
        },
        {
          "output_type": "stream",
          "name": "stdout",
          "text": [
            "\u001b[32mINFO\u001b[0m:     112.196.126.3:0 - \"\u001b[1mGET /assets/inter-greek-ext-500-normal-M2hEX8vc.woff HTTP/1.1\u001b[0m\" \u001b[32m200 OK\u001b[0m\n",
            "\u001b[32mINFO\u001b[0m:     112.196.126.3:0 - \"\u001b[1mGET /assets/inter-greek-500-normal-d_eO-yCQ.woff HTTP/1.1\u001b[0m\" \u001b[32m200 OK\u001b[0m\n",
            "\u001b[1;35mt=2025-02-01T05:09:53+0000 lvl=info msg=\"join connections\" obj=join id=524a5769c607 l=127.0.0.1:8237 r=112.196.126.3:50011\u001b[0m\n"
          ]
        },
        {
          "output_type": "stream",
          "name": "stderr",
          "text": [
            "INFO:pyngrok.process.ngrok:t=2025-02-01T05:09:53+0000 lvl=info msg=\"join connections\" obj=join id=9d264695db6a l=127.0.0.1:8237 r=112.196.126.3:50011\n"
          ]
        },
        {
          "output_type": "stream",
          "name": "stdout",
          "text": [
            "\u001b[1;35mt=2025-02-01T05:09:53+0000 lvl=info msg=\"join connections\" obj=join id=9d264695db6a l=127.0.0.1:8237 r=112.196.126.3:50011\u001b[0m\n"
          ]
        },
        {
          "output_type": "stream",
          "name": "stderr",
          "text": [
            "INFO:pyngrok.process.ngrok:t=2025-02-01T05:09:53+0000 lvl=info msg=\"join connections\" obj=join id=140bd648d19b l=127.0.0.1:8237 r=112.196.126.3:50011\n"
          ]
        },
        {
          "output_type": "stream",
          "name": "stdout",
          "text": [
            "\u001b[1;35mt=2025-02-01T05:09:53+0000 lvl=info msg=\"join connections\" obj=join id=140bd648d19b l=127.0.0.1:8237 r=112.196.126.3:50011\u001b[0m\n"
          ]
        },
        {
          "output_type": "stream",
          "name": "stderr",
          "text": [
            "INFO:pyngrok.process.ngrok:t=2025-02-01T05:09:53+0000 lvl=info msg=\"join connections\" obj=join id=918c6cd41aaa l=127.0.0.1:8237 r=112.196.126.3:50011\n"
          ]
        },
        {
          "output_type": "stream",
          "name": "stdout",
          "text": [
            "\u001b[1;35mt=2025-02-01T05:09:53+0000 lvl=info msg=\"join connections\" obj=join id=918c6cd41aaa l=127.0.0.1:8237 r=112.196.126.3:50011\u001b[0m\n"
          ]
        },
        {
          "output_type": "stream",
          "name": "stderr",
          "text": [
            "INFO:pyngrok.process.ngrok:t=2025-02-01T05:09:53+0000 lvl=info msg=\"join connections\" obj=join id=841e1b91e66b l=127.0.0.1:8237 r=112.196.126.3:50011\n"
          ]
        },
        {
          "output_type": "stream",
          "name": "stdout",
          "text": [
            "\u001b[1;35mt=2025-02-01T05:09:53+0000 lvl=info msg=\"join connections\" obj=join id=841e1b91e66b l=127.0.0.1:8237 r=112.196.126.3:50011\u001b[0m\n"
          ]
        },
        {
          "output_type": "stream",
          "name": "stderr",
          "text": [
            "INFO:pyngrok.process.ngrok:t=2025-02-01T05:09:53+0000 lvl=info msg=\"join connections\" obj=join id=3b82efddfd50 l=127.0.0.1:8237 r=112.196.126.3:50011\n"
          ]
        },
        {
          "output_type": "stream",
          "name": "stdout",
          "text": [
            "\u001b[1;35mt=2025-02-01T05:09:53+0000 lvl=info msg=\"join connections\" obj=join id=3b82efddfd50 l=127.0.0.1:8237 r=112.196.126.3:50011\u001b[0m\n"
          ]
        },
        {
          "output_type": "stream",
          "name": "stderr",
          "text": [
            "INFO:pyngrok.process.ngrok:t=2025-02-01T05:09:53+0000 lvl=info msg=\"join connections\" obj=join id=f92cb2fa8a3f l=127.0.0.1:8237 r=112.196.126.3:50011\n"
          ]
        },
        {
          "output_type": "stream",
          "name": "stdout",
          "text": [
            "\u001b[1;35mt=2025-02-01T05:09:53+0000 lvl=info msg=\"join connections\" obj=join id=f92cb2fa8a3f l=127.0.0.1:8237 r=112.196.126.3:50011\u001b[0m\n"
          ]
        },
        {
          "output_type": "stream",
          "name": "stderr",
          "text": [
            "INFO:pyngrok.process.ngrok:t=2025-02-01T05:09:53+0000 lvl=info msg=\"join connections\" obj=join id=0e020b6fdd6e l=127.0.0.1:8237 r=112.196.126.3:50011\n"
          ]
        },
        {
          "output_type": "stream",
          "name": "stdout",
          "text": [
            "\u001b[1;35mt=2025-02-01T05:09:53+0000 lvl=info msg=\"join connections\" obj=join id=0e020b6fdd6e l=127.0.0.1:8237 r=112.196.126.3:50011\u001b[0m\n"
          ]
        },
        {
          "output_type": "stream",
          "name": "stderr",
          "text": [
            "INFO:pyngrok.process.ngrok:t=2025-02-01T05:09:53+0000 lvl=info msg=\"join connections\" obj=join id=c0431f32acce l=127.0.0.1:8237 r=112.196.126.3:50011\n"
          ]
        },
        {
          "output_type": "stream",
          "name": "stdout",
          "text": [
            "\u001b[1;35mt=2025-02-01T05:09:53+0000 lvl=info msg=\"join connections\" obj=join id=c0431f32acce l=127.0.0.1:8237 r=112.196.126.3:50011\u001b[0m\n"
          ]
        },
        {
          "output_type": "stream",
          "name": "stderr",
          "text": [
            "INFO:pyngrok.process.ngrok:t=2025-02-01T05:09:53+0000 lvl=info msg=\"join connections\" obj=join id=72b095d5e1f1 l=127.0.0.1:8237 r=112.196.126.3:50011\n"
          ]
        },
        {
          "output_type": "stream",
          "name": "stdout",
          "text": [
            "\u001b[1;35mt=2025-02-01T05:09:53+0000 lvl=info msg=\"join connections\" obj=join id=72b095d5e1f1 l=127.0.0.1:8237 r=112.196.126.3:50011\u001b[0m\n",
            "\u001b[32mINFO\u001b[0m:     112.196.126.3:0 - \"\u001b[1mGET /assets/inter-vietnamese-500-normal-DQPw2Hwd.woff HTTP/1.1\u001b[0m\" \u001b[32m200 OK\u001b[0m\n",
            "\u001b[32mINFO\u001b[0m:     112.196.126.3:0 - \"\u001b[1mGET /assets/inter-latin-ext-500-normal-UMdmhHu2.woff HTTP/1.1\u001b[0m\" \u001b[32m200 OK\u001b[0m\n",
            "\u001b[32mINFO\u001b[0m:     112.196.126.3:0 - \"\u001b[1mGET /api/v1/info HTTP/1.1\u001b[0m\" \u001b[32m200 OK\u001b[0m\n",
            "\u001b[32mINFO\u001b[0m:     112.196.126.3:0 - \"\u001b[1mGET /assets/cloud-squares-DeRLMopf.svg HTTP/1.1\u001b[0m\" \u001b[32m200 OK\u001b[0m\n",
            "\u001b[32mINFO\u001b[0m:     112.196.126.3:0 - \"\u001b[1mGET /assets/inter-latin-500-normal-D2bGa7uu.woff2 HTTP/1.1\u001b[0m\" \u001b[32m200 OK\u001b[0m\n",
            "\u001b[32mINFO\u001b[0m:     112.196.126.3:0 - \"\u001b[1mGET /api/v1/settings HTTP/1.1\u001b[0m\" \u001b[32m200 OK\u001b[0m\n",
            "\u001b[32mINFO\u001b[0m:     112.196.126.3:0 - \"\u001b[1mGET /assets/inter-latin-600-normal-D273HNI0.woff2 HTTP/1.1\u001b[0m\" \u001b[32m200 OK\u001b[0m\n",
            "\u001b[32mINFO\u001b[0m:     112.196.126.3:0 - \"\u001b[1mGET /api/v1/onboarding_state HTTP/1.1\u001b[0m\" \u001b[32m200 OK\u001b[0m\n",
            "\u001b[32mINFO\u001b[0m:     112.196.126.3:0 - \"\u001b[1mGET /api/v1/current-user HTTP/1.1\u001b[0m\" \u001b[32m200 OK\u001b[0m\n",
            "\u001b[32mINFO\u001b[0m:     112.196.126.3:0 - \"\u001b[1mGET /assets/inter-latin-500-normal-deR1Tlfd.woff HTTP/1.1\u001b[0m\" \u001b[32m200 OK\u001b[0m\n",
            "\u001b[32mINFO\u001b[0m:     112.196.126.3:0 - \"\u001b[1mGET /assets/inter-cyrillic-ext-600-normal-Bt9VVOA-.woff HTTP/1.1\u001b[0m\" \u001b[32m200 OK\u001b[0m\n",
            "\u001b[32mINFO\u001b[0m:     112.196.126.3:0 - \"\u001b[1mGET /assets/inter-cyrillic-600-normal-BuzJQFbW.woff HTTP/1.1\u001b[0m\" \u001b[32m200 OK\u001b[0m\n",
            "\u001b[32mINFO\u001b[0m:     112.196.126.3:0 - \"\u001b[1mGET /assets/inter-greek-ext-600-normal-C9WLioJ8.woff HTTP/1.1\u001b[0m\" \u001b[32m200 OK\u001b[0m\n"
          ]
        },
        {
          "output_type": "stream",
          "name": "stderr",
          "text": [
            "INFO:pyngrok.process.ngrok:t=2025-02-01T05:09:55+0000 lvl=info msg=\"join connections\" obj=join id=018869e3397d l=127.0.0.1:8237 r=112.196.126.3:50011\n"
          ]
        },
        {
          "output_type": "stream",
          "name": "stdout",
          "text": [
            "\u001b[1;35mt=2025-02-01T05:09:55+0000 lvl=info msg=\"join connections\" obj=join id=018869e3397d l=127.0.0.1:8237 r=112.196.126.3:50011\u001b[0m\n"
          ]
        },
        {
          "output_type": "stream",
          "name": "stderr",
          "text": [
            "INFO:pyngrok.process.ngrok:t=2025-02-01T05:09:55+0000 lvl=info msg=\"join connections\" obj=join id=9adae268b553 l=127.0.0.1:8237 r=112.196.126.3:50011\n"
          ]
        },
        {
          "output_type": "stream",
          "name": "stdout",
          "text": [
            "\u001b[1;35mt=2025-02-01T05:09:55+0000 lvl=info msg=\"join connections\" obj=join id=9adae268b553 l=127.0.0.1:8237 r=112.196.126.3:50011\u001b[0m\n",
            "\u001b[32mINFO\u001b[0m:     112.196.126.3:0 - \"\u001b[1mGET /assets/inter-latin-400-normal-BOOGhInR.woff2 HTTP/1.1\u001b[0m\" \u001b[32m200 OK\u001b[0m\n",
            "\u001b[32mINFO\u001b[0m:     112.196.126.3:0 - \"\u001b[1mGET /assets/inter-greek-600-normal-CwicyhtI.woff HTTP/1.1\u001b[0m\" \u001b[32m200 OK\u001b[0m\n",
            "\u001b[32mINFO\u001b[0m:     112.196.126.3:0 - \"\u001b[1mGET /assets/inter-latin-ext-600-normal-CAF0vJDd.woff HTTP/1.1\u001b[0m\" \u001b[32m200 OK\u001b[0m\n",
            "\u001b[32mINFO\u001b[0m:     112.196.126.3:0 - \"\u001b[1mGET /assets/inter-vietnamese-600-normal-Cm6aH8_k.woff HTTP/1.1\u001b[0m\" \u001b[32m200 OK\u001b[0m\n",
            "\u001b[32mINFO\u001b[0m:     112.196.126.3:0 - \"\u001b[1mGET /assets/inter-latin-600-normal-B5cFAncS.woff HTTP/1.1\u001b[0m\" \u001b[32m200 OK\u001b[0m\n",
            "\u001b[32mINFO\u001b[0m:     112.196.126.3:0 - \"\u001b[1mGET /assets/mcp-Cb1aMeoq.webp HTTP/1.1\u001b[0m\" \u001b[32m200 OK\u001b[0m\n"
          ]
        },
        {
          "output_type": "stream",
          "name": "stderr",
          "text": [
            "INFO:pyngrok.process.ngrok:t=2025-02-01T05:09:56+0000 lvl=info msg=\"join connections\" obj=join id=e7530419bd2b l=127.0.0.1:8237 r=112.196.126.3:50011\n"
          ]
        },
        {
          "output_type": "stream",
          "name": "stdout",
          "text": [
            "\u001b[1;35mt=2025-02-01T05:09:56+0000 lvl=info msg=\"join connections\" obj=join id=e7530419bd2b l=127.0.0.1:8237 r=112.196.126.3:50011\u001b[0m\n"
          ]
        },
        {
          "output_type": "stream",
          "name": "stderr",
          "text": [
            "INFO:pyngrok.process.ngrok:t=2025-02-01T05:09:56+0000 lvl=info msg=\"join connections\" obj=join id=97a40104c551 l=127.0.0.1:8237 r=112.196.126.3:50011\n"
          ]
        },
        {
          "output_type": "stream",
          "name": "stdout",
          "text": [
            "\u001b[1;35mt=2025-02-01T05:09:56+0000 lvl=info msg=\"join connections\" obj=join id=97a40104c551 l=127.0.0.1:8237 r=112.196.126.3:50011\u001b[0m\n"
          ]
        },
        {
          "output_type": "stream",
          "name": "stderr",
          "text": [
            "INFO:pyngrok.process.ngrok:t=2025-02-01T05:09:56+0000 lvl=info msg=\"join connections\" obj=join id=31d4a2b6e1ae l=127.0.0.1:8237 r=112.196.126.3:50011\n"
          ]
        },
        {
          "output_type": "stream",
          "name": "stdout",
          "text": [
            "\u001b[1;35mt=2025-02-01T05:09:56+0000 lvl=info msg=\"join connections\" obj=join id=31d4a2b6e1ae l=127.0.0.1:8237 r=112.196.126.3:50011\u001b[0m\n"
          ]
        },
        {
          "output_type": "stream",
          "name": "stderr",
          "text": [
            "INFO:pyngrok.process.ngrok:t=2025-02-01T05:09:56+0000 lvl=info msg=\"join connections\" obj=join id=baf9aaf75723 l=127.0.0.1:8237 r=112.196.126.3:50011\n"
          ]
        },
        {
          "output_type": "stream",
          "name": "stdout",
          "text": [
            "\u001b[32mINFO\u001b[0m:     112.196.126.3:0 - \"\u001b[1mGET /assets/settings_preview-0JLrRgHP.webp HTTP/1.1\u001b[0m\" \u001b[32m200 OK\u001b[0m\n",
            "\u001b[32mINFO\u001b[0m:     112.196.126.3:0 - \"\u001b[1mGET /assets/acp-DOsXjFc7.webp HTTP/1.1\u001b[0m\" \u001b[32m200 OK\u001b[0m\n",
            "\u001b[32mINFO\u001b[0m:     112.196.126.3:0 - \"\u001b[1mGET /assets/cloud-squares-DeRLMopf.svg HTTP/1.1\u001b[0m\" \u001b[32m200 OK\u001b[0m\n",
            "\u001b[1;35mt=2025-02-01T05:09:56+0000 lvl=info msg=\"join connections\" obj=join id=baf9aaf75723 l=127.0.0.1:8237 r=112.196.126.3:50011\u001b[0m\n",
            "\u001b[32mINFO\u001b[0m:     112.196.126.3:0 - \"\u001b[1mGET /assets/upgrade-form-CwRHBuXB.webp HTTP/1.1\u001b[0m\" \u001b[32m200 OK\u001b[0m\n",
            "\u001b[32mINFO\u001b[0m:     112.196.126.3:0 - \"\u001b[1mGET /assets/connectors-video-C9qY4syJ.svg HTTP/1.1\u001b[0m\" \u001b[32m200 OK\u001b[0m\n",
            "\u001b[32mINFO\u001b[0m:     112.196.126.3:0 - \"\u001b[1mGET /assets/repos-video-D8kpu60k.svg HTTP/1.1\u001b[0m\" \u001b[32m200 OK\u001b[0m\n",
            "\u001b[32mINFO\u001b[0m:     112.196.126.3:0 - \"\u001b[1mGET /assets/tour-cover-BYfeen6M.webp HTTP/1.1\u001b[0m\" \u001b[32m200 OK\u001b[0m\n"
          ]
        },
        {
          "output_type": "stream",
          "name": "stderr",
          "text": [
            "INFO:pyngrok.process.ngrok:t=2025-02-01T05:09:57+0000 lvl=info msg=\"join connections\" obj=join id=f864b1b2be3b l=127.0.0.1:8237 r=112.196.126.3:50011\n"
          ]
        },
        {
          "output_type": "stream",
          "name": "stdout",
          "text": [
            "\u001b[1;35mt=2025-02-01T05:09:57+0000 lvl=info msg=\"join connections\" obj=join id=f864b1b2be3b l=127.0.0.1:8237 r=112.196.126.3:50011\u001b[0m\n",
            "\u001b[32mINFO\u001b[0m:     112.196.126.3:0 - \"\u001b[1mGET /assets/adam-e-y0WnB_.webp HTTP/1.1\u001b[0m\" \u001b[32m200 OK\u001b[0m\n",
            "\u001b[32mINFO\u001b[0m:     112.196.126.3:0 - \"\u001b[1mGET /assets/alex-DcCuDHPg.webp HTTP/1.1\u001b[0m\" \u001b[32m200 OK\u001b[0m\n",
            "\u001b[32mINFO\u001b[0m:     112.196.126.3:0 - \"\u001b[1mGET /assets/baris-C0ZrZ10g.webp HTTP/1.1\u001b[0m\" \u001b[32m200 OK\u001b[0m\n",
            "\u001b[32mINFO\u001b[0m:     112.196.126.3:0 - \"\u001b[1mGET /assets/hamza-NKKOZz1I.webp HTTP/1.1\u001b[0m\" \u001b[32m200 OK\u001b[0m\n",
            "\u001b[32mINFO\u001b[0m:     112.196.126.3:0 - \"\u001b[1mGET /assets/templates-1S_8WeSK.webp HTTP/1.1\u001b[0m\" \u001b[32m200 OK\u001b[0m\n",
            "\u001b[32mINFO\u001b[0m:     112.196.126.3:0 - \"\u001b[1mGET /assets/stefan-B08Ftbba.webp HTTP/1.1\u001b[0m\" \u001b[32m200 OK\u001b[0m\n",
            "\u001b[32mINFO\u001b[0m:     112.196.126.3:0 - \"\u001b[1mGET /assets/flyte-Cj-xy_8I.svg HTTP/1.1\u001b[0m\" \u001b[32m200 OK\u001b[0m\n",
            "\u001b[32mINFO\u001b[0m:     112.196.126.3:0 - \"\u001b[1mGET /assets/metaflow-weOkWNyT.svg HTTP/1.1\u001b[0m\" \u001b[32m200 OK\u001b[0m\n",
            "\u001b[32mINFO\u001b[0m:     112.196.126.3:0 - \"\u001b[1mGET /assets/CodeSnippet-Bbx6fIb6.css HTTP/1.1\u001b[0m\" \u001b[32m200 OK\u001b[0m\n",
            "\u001b[32mINFO\u001b[0m:     112.196.126.3:0 - \"\u001b[1mGET /assets/page-BXgXP-Qj.js HTTP/1.1\u001b[0m\" \u001b[32m200 OK\u001b[0m\n",
            "\u001b[32mINFO\u001b[0m:     112.196.126.3:0 - \"\u001b[1mGET /assets/page-CeNL9JWi.js HTTP/1.1\u001b[0m\" \u001b[32m200 OK\u001b[0m\n"
          ]
        },
        {
          "output_type": "stream",
          "name": "stderr",
          "text": [
            "INFO:pyngrok.process.ngrok:t=2025-02-01T05:09:58+0000 lvl=info msg=\"join connections\" obj=join id=41dcc0537b73 l=127.0.0.1:8237 r=112.196.126.3:50011\n"
          ]
        },
        {
          "output_type": "stream",
          "name": "stdout",
          "text": [
            "\u001b[32mINFO\u001b[0m:     112.196.126.3:0 - \"\u001b[1mGET /assets/page-C4JpDeUM.js HTTP/1.1\u001b[0m\" \u001b[32m200 OK\u001b[0m\n",
            "\u001b[1;35mt=2025-02-01T05:09:58+0000 lvl=info msg=\"join connections\" obj=join id=41dcc0537b73 l=127.0.0.1:8237 r=112.196.126.3:50011\u001b[0m\n"
          ]
        },
        {
          "output_type": "stream",
          "name": "stderr",
          "text": [
            "INFO:pyngrok.process.ngrok:t=2025-02-01T05:09:58+0000 lvl=info msg=\"join connections\" obj=join id=4ac8bcd49706 l=127.0.0.1:8237 r=112.196.126.3:50011\n"
          ]
        },
        {
          "output_type": "stream",
          "name": "stdout",
          "text": [
            "\u001b[32mINFO\u001b[0m:     112.196.126.3:0 - \"\u001b[1mGET /assets/page-khp8QJ6b.js HTTP/1.1\u001b[0m\" \u001b[32m200 OK\u001b[0m\n",
            "\u001b[32mINFO\u001b[0m:     112.196.126.3:0 - \"\u001b[1mGET /assets/page-CB2_GdBA.js HTTP/1.1\u001b[0m\" \u001b[32m200 OK\u001b[0m\n",
            "\u001b[1;35mt=2025-02-01T05:09:58+0000 lvl=info msg=\"join connections\" obj=join id=4ac8bcd49706 l=127.0.0.1:8237 r=112.196.126.3:50011\u001b[0m\n"
          ]
        },
        {
          "output_type": "stream",
          "name": "stderr",
          "text": [
            "INFO:pyngrok.process.ngrok:t=2025-02-01T05:09:58+0000 lvl=info msg=\"join connections\" obj=join id=1c8f4eb170d6 l=127.0.0.1:8237 r=112.196.126.3:50011\n"
          ]
        },
        {
          "output_type": "stream",
          "name": "stdout",
          "text": [
            "\u001b[32mINFO\u001b[0m:     112.196.126.3:0 - \"\u001b[1mGET /assets/SetPassword-CDLy57PZ.js HTTP/1.1\u001b[0m\" \u001b[32m200 OK\u001b[0m\n",
            "\u001b[1;35mt=2025-02-01T05:09:58+0000 lvl=info msg=\"join connections\" obj=join id=1c8f4eb170d6 l=127.0.0.1:8237 r=112.196.126.3:50011\u001b[0m\n"
          ]
        },
        {
          "output_type": "stream",
          "name": "stderr",
          "text": [
            "INFO:pyngrok.process.ngrok:t=2025-02-01T05:09:58+0000 lvl=info msg=\"join connections\" obj=join id=18a8c9e3d760 l=127.0.0.1:8237 r=112.196.126.3:50011\n"
          ]
        },
        {
          "output_type": "stream",
          "name": "stdout",
          "text": [
            "\u001b[1;35mt=2025-02-01T05:09:58+0000 lvl=info msg=\"join connections\" obj=join id=18a8c9e3d760 l=127.0.0.1:8237 r=112.196.126.3:50011\u001b[0m\n",
            "\u001b[32mINFO\u001b[0m:     112.196.126.3:0 - \"\u001b[1mGET /assets/login-mutation-BaeJ7MAg.js HTTP/1.1\u001b[0m\" \u001b[32m200 OK\u001b[0m\n",
            "\u001b[32mINFO\u001b[0m:     112.196.126.3:0 - \"\u001b[1mGET /assets/page-CmJU3Gqo.js HTTP/1.1\u001b[0m\" \u001b[32m200 OK\u001b[0m\n",
            "\u001b[32mINFO\u001b[0m:     112.196.126.3:0 - \"\u001b[1mGET /assets/page-BUjw8Tp1.js HTTP/1.1\u001b[0m\" \u001b[32m200 OK\u001b[0m\n",
            "\u001b[32mINFO\u001b[0m:     112.196.126.3:0 - \"\u001b[1mGET /assets/page-OdjGauvw.js HTTP/1.1\u001b[0m\" \u001b[32m200 OK\u001b[0m\n",
            "\u001b[32mINFO\u001b[0m:     112.196.126.3:0 - \"\u001b[1mGET /assets/not-found-MGptrNBk.js HTTP/1.1\u001b[0m\" \u001b[32m200 OK\u001b[0m\n",
            "\u001b[32mINFO\u001b[0m:     112.196.126.3:0 - \"\u001b[1mGET /assets/page-CkPwPmLZ.js HTTP/1.1\u001b[0m\" \u001b[32m200 OK\u001b[0m\n",
            "\u001b[32mINFO\u001b[0m:     112.196.126.3:0 - \"\u001b[1mGET /assets/page-BhOXn-s9.js HTTP/1.1\u001b[0m\" \u001b[32m200 OK\u001b[0m\n",
            "\u001b[32mINFO\u001b[0m:     112.196.126.3:0 - \"\u001b[1mGET /assets/PasswordChecker-B0nadgh6.js HTTP/1.1\u001b[0m\" \u001b[32m200 OK\u001b[0m\n",
            "\u001b[32mINFO\u001b[0m:     112.196.126.3:0 - \"\u001b[1mGET /assets/tick-circle-BEX_Tp4v.js HTTP/1.1\u001b[0m\" \u001b[32m200 OK\u001b[0m\n",
            "\u001b[32mINFO\u001b[0m:     112.196.126.3:0 - \"\u001b[1mGET /assets/page-BCgEdmhP.js HTTP/1.1\u001b[0m\" \u001b[32m200 OK\u001b[0m\n",
            "\u001b[32mINFO\u001b[0m:     112.196.126.3:0 - \"\u001b[1mGET /assets/page-BbljjC-k.js HTTP/1.1\u001b[0m\" \u001b[32m200 OK\u001b[0m\n",
            "\u001b[32mINFO\u001b[0m:     112.196.126.3:0 - \"\u001b[1mGET /assets/page-CoFVtzhG.js HTTP/1.1\u001b[0m\" \u001b[32m200 OK\u001b[0m\n",
            "\u001b[32mINFO\u001b[0m:     112.196.126.3:0 - \"\u001b[1mGET /assets/docker-BdA9vrnW.js HTTP/1.1\u001b[0m\" \u001b[32m200 OK\u001b[0m\n"
          ]
        },
        {
          "output_type": "stream",
          "name": "stderr",
          "text": [
            "INFO:pyngrok.process.ngrok:t=2025-02-01T05:10:00+0000 lvl=info msg=\"join connections\" obj=join id=007355fb40a3 l=127.0.0.1:8237 r=112.196.126.3:50011\n"
          ]
        },
        {
          "output_type": "stream",
          "name": "stdout",
          "text": [
            "\u001b[32mINFO\u001b[0m:     112.196.126.3:0 - \"\u001b[1mGET /assets/page-BXrtxEbw.js HTTP/1.1\u001b[0m\" \u001b[32m200 OK\u001b[0m\n",
            "\u001b[32mINFO\u001b[0m:     112.196.126.3:0 - \"\u001b[1mGET /assets/Commands-BcR2Arie.js HTTP/1.1\u001b[0m\" \u001b[32m200 OK\u001b[0m\n",
            "\u001b[1;35mt=2025-02-01T05:10:00+0000 lvl=info msg=\"join connections\" obj=join id=007355fb40a3 l=127.0.0.1:8237 r=112.196.126.3:50011\u001b[0m\n"
          ]
        },
        {
          "output_type": "stream",
          "name": "stderr",
          "text": [
            "INFO:pyngrok.process.ngrok:t=2025-02-01T05:10:00+0000 lvl=info msg=\"join connections\" obj=join id=72c03903b178 l=127.0.0.1:8237 r=112.196.126.3:50011\n"
          ]
        },
        {
          "output_type": "stream",
          "name": "stdout",
          "text": [
            "\u001b[1;35mt=2025-02-01T05:10:00+0000 lvl=info msg=\"join connections\" obj=join id=72c03903b178 l=127.0.0.1:8237 r=112.196.126.3:50011\u001b[0m\n"
          ]
        },
        {
          "output_type": "stream",
          "name": "stderr",
          "text": [
            "INFO:pyngrok.process.ngrok:t=2025-02-01T05:10:00+0000 lvl=info msg=\"join connections\" obj=join id=a5ed53aff842 l=127.0.0.1:8237 r=112.196.126.3:50011\n"
          ]
        },
        {
          "output_type": "stream",
          "name": "stdout",
          "text": [
            "\u001b[1;35mt=2025-02-01T05:10:00+0000 lvl=info msg=\"join connections\" obj=join id=a5ed53aff842 l=127.0.0.1:8237 r=112.196.126.3:50011\u001b[0m\n",
            "\u001b[32mINFO\u001b[0m:     112.196.126.3:0 - \"\u001b[1mGET /assets/page-D-KPzeQb.js HTTP/1.1\u001b[0m\" \u001b[32m200 OK\u001b[0m\n",
            "\u001b[32mINFO\u001b[0m:     112.196.126.3:0 - \"\u001b[1mGET /assets/code-snippets-CqONne41.js HTTP/1.1\u001b[0m\" \u001b[32m200 OK\u001b[0m\n",
            "\u001b[32mINFO\u001b[0m:     112.196.126.3:0 - \"\u001b[1mGET /assets/page-CXPc-HN1.js HTTP/1.1\u001b[0m\" \u001b[32m200 OK\u001b[0m\n"
          ]
        },
        {
          "output_type": "stream",
          "name": "stderr",
          "text": [
            "INFO:pyngrok.process.ngrok:t=2025-02-01T05:10:00+0000 lvl=info msg=\"join connections\" obj=join id=38d438e092d5 l=127.0.0.1:8237 r=112.196.126.3:50011\n"
          ]
        },
        {
          "output_type": "stream",
          "name": "stdout",
          "text": [
            "\u001b[1;35mt=2025-02-01T05:10:00+0000 lvl=info msg=\"join connections\" obj=join id=38d438e092d5 l=127.0.0.1:8237 r=112.196.126.3:50011\u001b[0m\n",
            "\u001b[32mINFO\u001b[0m:     112.196.126.3:0 - \"\u001b[1mGET /assets/page-CmJU3Gqo.js HTTP/1.1\u001b[0m\" \u001b[32m200 OK\u001b[0m\n"
          ]
        },
        {
          "output_type": "stream",
          "name": "stderr",
          "text": [
            "INFO:pyngrok.process.ngrok:t=2025-02-01T05:10:01+0000 lvl=info msg=\"join connections\" obj=join id=ce72183be0ee l=127.0.0.1:8237 r=112.196.126.3:50011\n"
          ]
        },
        {
          "output_type": "stream",
          "name": "stdout",
          "text": [
            "\u001b[32mINFO\u001b[0m:     112.196.126.3:0 - \"\u001b[1mGET /assets/page-Dv5lN2w7.js HTTP/1.1\u001b[0m\" \u001b[32m200 OK\u001b[0m\n",
            "\u001b[32mINFO\u001b[0m:     112.196.126.3:0 - \"\u001b[1mGET /assets/SecretTooltip-EKpMlG2f.js HTTP/1.1\u001b[0m\" \u001b[32m200 OK\u001b[0m\n",
            "\u001b[1;35mt=2025-02-01T05:10:01+0000 lvl=info msg=\"join connections\" obj=join id=ce72183be0ee l=127.0.0.1:8237 r=112.196.126.3:50011\u001b[0m\n",
            "\u001b[32mINFO\u001b[0m:     112.196.126.3:0 - \"\u001b[1mGET /assets/update-server-settings-mutation-ATZDNNZk.js HTTP/1.1\u001b[0m\" \u001b[32m200 OK\u001b[0m\n",
            "\u001b[32mINFO\u001b[0m:     112.196.126.3:0 - \"\u001b[1mGET /assets/page-DKQ3wZgr.js HTTP/1.1\u001b[0m\" \u001b[32m200 OK\u001b[0m\n"
          ]
        },
        {
          "output_type": "stream",
          "name": "stderr",
          "text": [
            "INFO:pyngrok.process.ngrok:t=2025-02-01T05:10:01+0000 lvl=info msg=\"join connections\" obj=join id=48bd26e6a0af l=127.0.0.1:8237 r=112.196.126.3:50011\n"
          ]
        },
        {
          "output_type": "stream",
          "name": "stdout",
          "text": [
            "\u001b[32mINFO\u001b[0m:     112.196.126.3:0 - \"\u001b[1mGET /assets/dates-3pMLCNrD.js HTTP/1.1\u001b[0m\" \u001b[32m200 OK\u001b[0m\n",
            "\u001b[32mINFO\u001b[0m:     112.196.126.3:0 - \"\u001b[1mGET /assets/page-DzrdL2v1.js HTTP/1.1\u001b[0m\" \u001b[32m200 OK\u001b[0m\n",
            "\u001b[1;35mt=2025-02-01T05:10:01+0000 lvl=info msg=\"join connections\" obj=join id=48bd26e6a0af l=127.0.0.1:8237 r=112.196.126.3:50011\u001b[0m\n"
          ]
        },
        {
          "output_type": "stream",
          "name": "stderr",
          "text": [
            "INFO:pyngrok.process.ngrok:t=2025-02-01T05:10:01+0000 lvl=info msg=\"join connections\" obj=join id=c120bf3bb1b2 l=127.0.0.1:8237 r=112.196.126.3:50011\n"
          ]
        },
        {
          "output_type": "stream",
          "name": "stdout",
          "text": [
            "\u001b[1;35mt=2025-02-01T05:10:01+0000 lvl=info msg=\"join connections\" obj=join id=c120bf3bb1b2 l=127.0.0.1:8237 r=112.196.126.3:50011\u001b[0m\n"
          ]
        },
        {
          "output_type": "stream",
          "name": "stderr",
          "text": [
            "INFO:pyngrok.process.ngrok:t=2025-02-01T05:10:01+0000 lvl=info msg=\"join connections\" obj=join id=daf788173821 l=127.0.0.1:8237 r=112.196.126.3:50011\n"
          ]
        },
        {
          "output_type": "stream",
          "name": "stdout",
          "text": [
            "\u001b[1;35mt=2025-02-01T05:10:01+0000 lvl=info msg=\"join connections\" obj=join id=daf788173821 l=127.0.0.1:8237 r=112.196.126.3:50011\u001b[0m\n"
          ]
        },
        {
          "output_type": "stream",
          "name": "stderr",
          "text": [
            "INFO:pyngrok.process.ngrok:t=2025-02-01T05:10:01+0000 lvl=info msg=\"join connections\" obj=join id=de2b188942b8 l=127.0.0.1:8237 r=112.196.126.3:50011\n"
          ]
        },
        {
          "output_type": "stream",
          "name": "stdout",
          "text": [
            "\u001b[1;35mt=2025-02-01T05:10:01+0000 lvl=info msg=\"join connections\" obj=join id=de2b188942b8 l=127.0.0.1:8237 r=112.196.126.3:50011\u001b[0m\n"
          ]
        },
        {
          "output_type": "stream",
          "name": "stderr",
          "text": [
            "INFO:pyngrok.process.ngrok:t=2025-02-01T05:10:01+0000 lvl=info msg=\"join connections\" obj=join id=4d673b7dcaff l=127.0.0.1:8237 r=112.196.126.3:50011\n"
          ]
        },
        {
          "output_type": "stream",
          "name": "stdout",
          "text": [
            "\u001b[1;35mt=2025-02-01T05:10:01+0000 lvl=info msg=\"join connections\" obj=join id=4d673b7dcaff l=127.0.0.1:8237 r=112.196.126.3:50011\u001b[0m\n"
          ]
        },
        {
          "output_type": "stream",
          "name": "stderr",
          "text": [
            "INFO:pyngrok.process.ngrok:t=2025-02-01T05:10:01+0000 lvl=info msg=\"join connections\" obj=join id=32dd4ee7ed9b l=127.0.0.1:8237 r=112.196.126.3:50011\n"
          ]
        },
        {
          "output_type": "stream",
          "name": "stdout",
          "text": [
            "\u001b[1;35mt=2025-02-01T05:10:01+0000 lvl=info msg=\"join connections\" obj=join id=32dd4ee7ed9b l=127.0.0.1:8237 r=112.196.126.3:50011\u001b[0m\n"
          ]
        },
        {
          "output_type": "stream",
          "name": "stderr",
          "text": [
            "INFO:pyngrok.process.ngrok:t=2025-02-01T05:10:01+0000 lvl=info msg=\"join connections\" obj=join id=24658d132b22 l=127.0.0.1:8237 r=112.196.126.3:50011\n"
          ]
        },
        {
          "output_type": "stream",
          "name": "stdout",
          "text": [
            "\u001b[1;35mt=2025-02-01T05:10:01+0000 lvl=info msg=\"join connections\" obj=join id=24658d132b22 l=127.0.0.1:8237 r=112.196.126.3:50011\u001b[0m\n"
          ]
        },
        {
          "output_type": "stream",
          "name": "stderr",
          "text": [
            "INFO:pyngrok.process.ngrok:t=2025-02-01T05:10:01+0000 lvl=info msg=\"join connections\" obj=join id=670e4344da68 l=127.0.0.1:8237 r=112.196.126.3:50011\n"
          ]
        },
        {
          "output_type": "stream",
          "name": "stdout",
          "text": [
            "\u001b[1;35mt=2025-02-01T05:10:01+0000 lvl=info msg=\"join connections\" obj=join id=670e4344da68 l=127.0.0.1:8237 r=112.196.126.3:50011\u001b[0m\n"
          ]
        },
        {
          "output_type": "stream",
          "name": "stderr",
          "text": [
            "INFO:pyngrok.process.ngrok:t=2025-02-01T05:10:01+0000 lvl=info msg=\"join connections\" obj=join id=8709e269206c l=127.0.0.1:8237 r=112.196.126.3:50011\n"
          ]
        },
        {
          "output_type": "stream",
          "name": "stdout",
          "text": [
            "\u001b[1;35mt=2025-02-01T05:10:01+0000 lvl=info msg=\"join connections\" obj=join id=8709e269206c l=127.0.0.1:8237 r=112.196.126.3:50011\u001b[0m\n"
          ]
        },
        {
          "output_type": "stream",
          "name": "stderr",
          "text": [
            "INFO:pyngrok.process.ngrok:t=2025-02-01T05:10:01+0000 lvl=info msg=\"join connections\" obj=join id=dd77592749f3 l=127.0.0.1:8237 r=112.196.126.3:50011\n"
          ]
        },
        {
          "output_type": "stream",
          "name": "stdout",
          "text": [
            "\u001b[1;35mt=2025-02-01T05:10:01+0000 lvl=info msg=\"join connections\" obj=join id=dd77592749f3 l=127.0.0.1:8237 r=112.196.126.3:50011\u001b[0m\n"
          ]
        },
        {
          "output_type": "stream",
          "name": "stderr",
          "text": [
            "INFO:pyngrok.process.ngrok:t=2025-02-01T05:10:01+0000 lvl=info msg=\"join connections\" obj=join id=0306c5895536 l=127.0.0.1:8237 r=112.196.126.3:50011\n"
          ]
        },
        {
          "output_type": "stream",
          "name": "stdout",
          "text": [
            "\u001b[1;35mt=2025-02-01T05:10:01+0000 lvl=info msg=\"join connections\" obj=join id=0306c5895536 l=127.0.0.1:8237 r=112.196.126.3:50011\u001b[0m\n"
          ]
        },
        {
          "output_type": "stream",
          "name": "stderr",
          "text": [
            "INFO:pyngrok.process.ngrok:t=2025-02-01T05:10:01+0000 lvl=info msg=\"join connections\" obj=join id=3e8bf9312deb l=127.0.0.1:8237 r=112.196.126.3:50011\n"
          ]
        },
        {
          "output_type": "stream",
          "name": "stdout",
          "text": [
            "\u001b[1;35mt=2025-02-01T05:10:01+0000 lvl=info msg=\"join connections\" obj=join id=3e8bf9312deb l=127.0.0.1:8237 r=112.196.126.3:50011\u001b[0m\n"
          ]
        },
        {
          "output_type": "stream",
          "name": "stderr",
          "text": [
            "INFO:pyngrok.process.ngrok:t=2025-02-01T05:10:01+0000 lvl=info msg=\"join connections\" obj=join id=3db5dcc50abd l=127.0.0.1:8237 r=112.196.126.3:50011\n"
          ]
        },
        {
          "output_type": "stream",
          "name": "stdout",
          "text": [
            "\u001b[1;35mt=2025-02-01T05:10:01+0000 lvl=info msg=\"join connections\" obj=join id=3db5dcc50abd l=127.0.0.1:8237 r=112.196.126.3:50011\u001b[0m\n"
          ]
        },
        {
          "output_type": "stream",
          "name": "stderr",
          "text": [
            "INFO:pyngrok.process.ngrok:t=2025-02-01T05:10:01+0000 lvl=info msg=\"join connections\" obj=join id=ae5212a3043d l=127.0.0.1:8237 r=112.196.126.3:50011\n"
          ]
        },
        {
          "output_type": "stream",
          "name": "stdout",
          "text": [
            "\u001b[1;35mt=2025-02-01T05:10:01+0000 lvl=info msg=\"join connections\" obj=join id=ae5212a3043d l=127.0.0.1:8237 r=112.196.126.3:50011\u001b[0m\n"
          ]
        },
        {
          "output_type": "stream",
          "name": "stderr",
          "text": [
            "INFO:pyngrok.process.ngrok:t=2025-02-01T05:10:01+0000 lvl=info msg=\"join connections\" obj=join id=581542345de0 l=127.0.0.1:8237 r=112.196.126.3:50011\n"
          ]
        },
        {
          "output_type": "stream",
          "name": "stdout",
          "text": [
            "\u001b[1;35mt=2025-02-01T05:10:01+0000 lvl=info msg=\"join connections\" obj=join id=581542345de0 l=127.0.0.1:8237 r=112.196.126.3:50011\u001b[0m\n"
          ]
        },
        {
          "output_type": "stream",
          "name": "stderr",
          "text": [
            "INFO:pyngrok.process.ngrok:t=2025-02-01T05:10:01+0000 lvl=info msg=\"join connections\" obj=join id=3076da31e87e l=127.0.0.1:8237 r=112.196.126.3:50011\n"
          ]
        },
        {
          "output_type": "stream",
          "name": "stdout",
          "text": [
            "\u001b[1;35mt=2025-02-01T05:10:01+0000 lvl=info msg=\"join connections\" obj=join id=3076da31e87e l=127.0.0.1:8237 r=112.196.126.3:50011\u001b[0m\n"
          ]
        },
        {
          "output_type": "stream",
          "name": "stderr",
          "text": [
            "INFO:pyngrok.process.ngrok:t=2025-02-01T05:10:01+0000 lvl=info msg=\"join connections\" obj=join id=0b4b0f4c692b l=127.0.0.1:8237 r=112.196.126.3:50011\n"
          ]
        },
        {
          "output_type": "stream",
          "name": "stdout",
          "text": [
            "\u001b[1;35mt=2025-02-01T05:10:01+0000 lvl=info msg=\"join connections\" obj=join id=0b4b0f4c692b l=127.0.0.1:8237 r=112.196.126.3:50011\u001b[0m\n"
          ]
        },
        {
          "output_type": "stream",
          "name": "stderr",
          "text": [
            "INFO:pyngrok.process.ngrok:t=2025-02-01T05:10:01+0000 lvl=info msg=\"join connections\" obj=join id=ce658e579d1c l=127.0.0.1:8237 r=112.196.126.3:50011\n"
          ]
        },
        {
          "output_type": "stream",
          "name": "stdout",
          "text": [
            "\u001b[1;35mt=2025-02-01T05:10:01+0000 lvl=info msg=\"join connections\" obj=join id=ce658e579d1c l=127.0.0.1:8237 r=112.196.126.3:50011\u001b[0m\n"
          ]
        },
        {
          "output_type": "stream",
          "name": "stderr",
          "text": [
            "INFO:pyngrok.process.ngrok:t=2025-02-01T05:10:01+0000 lvl=info msg=\"join connections\" obj=join id=d84a0af8c08c l=127.0.0.1:8237 r=112.196.126.3:50011\n"
          ]
        },
        {
          "output_type": "stream",
          "name": "stdout",
          "text": [
            "\u001b[1;35mt=2025-02-01T05:10:01+0000 lvl=info msg=\"join connections\" obj=join id=d84a0af8c08c l=127.0.0.1:8237 r=112.196.126.3:50011\u001b[0m\n"
          ]
        },
        {
          "output_type": "stream",
          "name": "stderr",
          "text": [
            "INFO:pyngrok.process.ngrok:t=2025-02-01T05:10:01+0000 lvl=info msg=\"join connections\" obj=join id=a9e2f185b71e l=127.0.0.1:8237 r=112.196.126.3:50011\n"
          ]
        },
        {
          "output_type": "stream",
          "name": "stdout",
          "text": [
            "\u001b[1;35mt=2025-02-01T05:10:01+0000 lvl=info msg=\"join connections\" obj=join id=a9e2f185b71e l=127.0.0.1:8237 r=112.196.126.3:50011\u001b[0m\n"
          ]
        },
        {
          "output_type": "stream",
          "name": "stderr",
          "text": [
            "INFO:pyngrok.process.ngrok:t=2025-02-01T05:10:01+0000 lvl=info msg=\"join connections\" obj=join id=1aba22b3d5a7 l=127.0.0.1:8237 r=112.196.126.3:50011\n"
          ]
        },
        {
          "output_type": "stream",
          "name": "stdout",
          "text": [
            "\u001b[1;35mt=2025-02-01T05:10:01+0000 lvl=info msg=\"join connections\" obj=join id=1aba22b3d5a7 l=127.0.0.1:8237 r=112.196.126.3:50011\u001b[0m\n"
          ]
        },
        {
          "output_type": "stream",
          "name": "stderr",
          "text": [
            "INFO:pyngrok.process.ngrok:t=2025-02-01T05:10:01+0000 lvl=info msg=\"join connections\" obj=join id=2004daa876a0 l=127.0.0.1:8237 r=112.196.126.3:50011\n"
          ]
        },
        {
          "output_type": "stream",
          "name": "stdout",
          "text": [
            "\u001b[1;35mt=2025-02-01T05:10:01+0000 lvl=info msg=\"join connections\" obj=join id=2004daa876a0 l=127.0.0.1:8237 r=112.196.126.3:50011\u001b[0m\n"
          ]
        },
        {
          "output_type": "stream",
          "name": "stderr",
          "text": [
            "INFO:pyngrok.process.ngrok:t=2025-02-01T05:10:01+0000 lvl=info msg=\"join connections\" obj=join id=c100082e589c l=127.0.0.1:8237 r=112.196.126.3:50011\n"
          ]
        },
        {
          "output_type": "stream",
          "name": "stdout",
          "text": [
            "\u001b[1;35mt=2025-02-01T05:10:01+0000 lvl=info msg=\"join connections\" obj=join id=c100082e589c l=127.0.0.1:8237 r=112.196.126.3:50011\u001b[0m\n",
            "\u001b[32mINFO\u001b[0m:     112.196.126.3:0 - \"\u001b[1mGET /assets/AlertDialogDropdownItem-8yPFDxEI.js HTTP/1.1\u001b[0m\" \u001b[32m200 OK\u001b[0m\n",
            "\u001b[32mINFO\u001b[0m:     112.196.126.3:0 - \"\u001b[1mGET /assets/refresh-BjOeWlEq.js HTTP/1.1\u001b[0m\" \u001b[32m200 OK\u001b[0m\n",
            "\u001b[32mINFO\u001b[0m:     112.196.126.3:0 - \"\u001b[1mGET /assets/CopyButton-DCiXO3JC.js HTTP/1.1\u001b[0m\" \u001b[32m200 OK\u001b[0m\n",
            "\u001b[32mINFO\u001b[0m:     112.196.126.3:0 - \"\u001b[1mGET /assets/zod-BwEbpOxH.js HTTP/1.1\u001b[0m\" \u001b[32m200 OK\u001b[0m\n",
            "\u001b[32mINFO\u001b[0m:     112.196.126.3:0 - \"\u001b[1mGET /assets/SearchField-Yjv-KRW4.js HTTP/1.1\u001b[0m\" \u001b[32m200 OK\u001b[0m\n",
            "\u001b[32mINFO\u001b[0m:     112.196.126.3:0 - \"\u001b[1mGET /assets/InlineAvatar-CQNjKoEQ.js HTTP/1.1\u001b[0m\" \u001b[32m200 OK\u001b[0m\n",
            "\u001b[32mINFO\u001b[0m:     112.196.126.3:0 - \"\u001b[1mGET /assets/RunSelector-DOXgdry5.js HTTP/1.1\u001b[0m\" \u001b[32m200 OK\u001b[0m\n",
            "\u001b[32mINFO\u001b[0m:     112.196.126.3:0 - \"\u001b[1mGET /assets/url-BWJXzuI4.js HTTP/1.1\u001b[0m\" \u001b[32m200 OK\u001b[0m\n",
            "\u001b[32mINFO\u001b[0m:     112.196.126.3:0 - \"\u001b[1mGET /assets/trash-arLUMWMS.js HTTP/1.1\u001b[0m\" \u001b[32m200 OK\u001b[0m\n",
            "\u001b[32mINFO\u001b[0m:     112.196.126.3:0 - \"\u001b[1mGET /assets/chevron-right-double-D7ojK9Co.js HTTP/1.1\u001b[0m\" \u001b[32m200 OK\u001b[0m\n",
            "\u001b[32mINFO\u001b[0m:     112.196.126.3:0 - \"\u001b[1mGET /assets/ExecutionStatus-Ct9srgHC.js HTTP/1.1\u001b[0m\" \u001b[32m200 OK\u001b[0m\n",
            "\u001b[32mINFO\u001b[0m:     112.196.126.3:0 - \"\u001b[1mGET /assets/check-circle-jNbX5-sR.js HTTP/1.1\u001b[0m\" \u001b[32m200 OK\u001b[0m\n",
            "\u001b[32mINFO\u001b[0m:     112.196.126.3:0 - \"\u001b[1mGET /assets/index-Uu49AX48.js HTTP/1.1\u001b[0m\" \u001b[32m200 OK\u001b[0m\n",
            "\u001b[32mINFO\u001b[0m:     112.196.126.3:0 - \"\u001b[1mGET /assets/Infobox-OQdkCLSP.js HTTP/1.1\u001b[0m\" \u001b[32m200 OK\u001b[0m\n",
            "\u001b[32mINFO\u001b[0m:     112.196.126.3:0 - \"\u001b[1mGET /assets/DisplayDate-CDMUcQHS.js HTTP/1.1\u001b[0m\" \u001b[32m200 OK\u001b[0m\n",
            "\u001b[32mINFO\u001b[0m:     112.196.126.3:0 - \"\u001b[1mGET /assets/all-pipeline-runs-query-D0qDLdKB.js HTTP/1.1\u001b[0m\" \u001b[32m200 OK\u001b[0m\n",
            "\u001b[32mINFO\u001b[0m:     112.196.126.3:0 - \"\u001b[1mGET /assets/DeleteAlertDialog-DrPjHtXX.js HTTP/1.1\u001b[0m\" \u001b[32m200 OK\u001b[0m\n",
            "\u001b[32mINFO\u001b[0m:     112.196.126.3:0 - \"\u001b[1mGET /assets/index.esm-Dy6Z9Ung.js HTTP/1.1\u001b[0m\" \u001b[32m200 OK\u001b[0m\n",
            "\u001b[32mINFO\u001b[0m:     112.196.126.3:0 - \"\u001b[1mGET /assets/RunsBody-Bnx2fxub.js HTTP/1.1\u001b[0m\" \u001b[32m200 OK\u001b[0m\n",
            "\u001b[32mINFO\u001b[0m:     112.196.126.3:0 - \"\u001b[1mGET /assets/dots-horizontal-otGBOSDJ.js HTTP/1.1\u001b[0m\" \u001b[32m200 OK\u001b[0m\n",
            "\u001b[32mINFO\u001b[0m:     112.196.126.3:0 - \"\u001b[1mGET /assets/delete-run-CUdtYFLl.js HTTP/1.1\u001b[0m\" \u001b[32m200 OK\u001b[0m\n"
          ]
        },
        {
          "output_type": "stream",
          "name": "stderr",
          "text": [
            "INFO:pyngrok.process.ngrok:t=2025-02-01T05:10:02+0000 lvl=info msg=\"join connections\" obj=join id=82ac54ac747f l=127.0.0.1:8237 r=112.196.126.3:50011\n"
          ]
        },
        {
          "output_type": "stream",
          "name": "stdout",
          "text": [
            "\u001b[32mINFO\u001b[0m:     112.196.126.3:0 - \"\u001b[1mGET /assets/service-BvOYLH5b.js HTTP/1.1\u001b[0m\" \u001b[32m200 OK\u001b[0m\n",
            "\u001b[32mINFO\u001b[0m:     112.196.126.3:0 - \"\u001b[1mGET /assets/key-icon-aH-QIa5R.js HTTP/1.1\u001b[0m\" \u001b[32m200 OK\u001b[0m\n",
            "\u001b[32mINFO\u001b[0m:     112.196.126.3:0 - \"\u001b[1mGET /assets/page-C37IDa-Q.js HTTP/1.1\u001b[0m\" \u001b[32m200 OK\u001b[0m\n",
            "\u001b[1;35mt=2025-02-01T05:10:02+0000 lvl=info msg=\"join connections\" obj=join id=82ac54ac747f l=127.0.0.1:8237 r=112.196.126.3:50011\u001b[0m\n"
          ]
        },
        {
          "output_type": "stream",
          "name": "stderr",
          "text": [
            "INFO:pyngrok.process.ngrok:t=2025-02-01T05:10:02+0000 lvl=info msg=\"join connections\" obj=join id=71f7062ab392 l=127.0.0.1:8237 r=112.196.126.3:50011\n"
          ]
        },
        {
          "output_type": "stream",
          "name": "stdout",
          "text": [
            "\u001b[32mINFO\u001b[0m:     112.196.126.3:0 - \"\u001b[1mGET /api/v1/pipelines?page=1&sort_by=desc%3Alatest_run HTTP/1.1\u001b[0m\" \u001b[32m200 OK\u001b[0m\n",
            "\u001b[1;35mt=2025-02-01T05:10:02+0000 lvl=info msg=\"join connections\" obj=join id=71f7062ab392 l=127.0.0.1:8237 r=112.196.126.3:50011\u001b[0m\n"
          ]
        },
        {
          "output_type": "stream",
          "name": "stderr",
          "text": [
            "INFO:pyngrok.process.ngrok:t=2025-02-01T05:10:02+0000 lvl=info msg=\"join connections\" obj=join id=fd0cc3094e2b l=127.0.0.1:8237 r=112.196.126.3:50011\n"
          ]
        },
        {
          "output_type": "stream",
          "name": "stdout",
          "text": [
            "\u001b[1;35mt=2025-02-01T05:10:02+0000 lvl=info msg=\"join connections\" obj=join id=fd0cc3094e2b l=127.0.0.1:8237 r=112.196.126.3:50011\u001b[0m\n"
          ]
        },
        {
          "output_type": "stream",
          "name": "stderr",
          "text": [
            "INFO:pyngrok.process.ngrok:t=2025-02-01T05:10:02+0000 lvl=info msg=\"join connections\" obj=join id=5a9b8b61d6c0 l=127.0.0.1:8237 r=112.196.126.3:50011\n"
          ]
        },
        {
          "output_type": "stream",
          "name": "stdout",
          "text": [
            "\u001b[1;35mt=2025-02-01T05:10:02+0000 lvl=info msg=\"join connections\" obj=join id=5a9b8b61d6c0 l=127.0.0.1:8237 r=112.196.126.3:50011\u001b[0m\n"
          ]
        },
        {
          "output_type": "stream",
          "name": "stderr",
          "text": [
            "INFO:pyngrok.process.ngrok:t=2025-02-01T05:10:02+0000 lvl=info msg=\"join connections\" obj=join id=e847c078d7e7 l=127.0.0.1:8237 r=112.196.126.3:50011\n"
          ]
        },
        {
          "output_type": "stream",
          "name": "stdout",
          "text": [
            "\u001b[1;35mt=2025-02-01T05:10:02+0000 lvl=info msg=\"join connections\" obj=join id=e847c078d7e7 l=127.0.0.1:8237 r=112.196.126.3:50011\u001b[0m\n",
            "\u001b[32mINFO\u001b[0m:     112.196.126.3:0 - \"\u001b[1mGET /assets/RunsBody-Bnx2fxub.js HTTP/1.1\u001b[0m\" \u001b[32m200 OK\u001b[0m\n",
            "\u001b[32mINFO\u001b[0m:     112.196.126.3:0 - \"\u001b[1mGET /assets/page-DWWhxCoF.js HTTP/1.1\u001b[0m\" \u001b[32m200 OK\u001b[0m\n",
            "\u001b[32mINFO\u001b[0m:     112.196.126.3:0 - \"\u001b[1mGET /assets/RunSelector-DOXgdry5.js HTTP/1.1\u001b[0m\" \u001b[32m200 OK\u001b[0m\n"
          ]
        },
        {
          "output_type": "stream",
          "name": "stderr",
          "text": [
            "INFO:pyngrok.process.ngrok:t=2025-02-01T05:10:03+0000 lvl=info msg=\"join connections\" obj=join id=530220ade80b l=127.0.0.1:8237 r=112.196.126.3:50011\n"
          ]
        },
        {
          "output_type": "stream",
          "name": "stdout",
          "text": [
            "\u001b[32mINFO\u001b[0m:     112.196.126.3:0 - \"\u001b[1mGET /assets/DeleteAlertDialog-DrPjHtXX.js HTTP/1.1\u001b[0m\" \u001b[32m200 OK\u001b[0m\n",
            "\u001b[32mINFO\u001b[0m:     112.196.126.3:0 - \"\u001b[1mGET /assets/delete-run-CUdtYFLl.js HTTP/1.1\u001b[0m\" \u001b[32m200 OK\u001b[0m\n",
            "\u001b[32mINFO\u001b[0m:     112.196.126.3:0 - \"\u001b[1mGET /assets/Tabs-B5E-o_h6.js HTTP/1.1\u001b[0m\" \u001b[32m200 OK\u001b[0m\n",
            "\u001b[32mINFO\u001b[0m:     112.196.126.3:0 - \"\u001b[1mGET /assets/all-pipeline-runs-query-D0qDLdKB.js HTTP/1.1\u001b[0m\" \u001b[32m200 OK\u001b[0m\n",
            "\u001b[32mINFO\u001b[0m:     112.196.126.3:0 - \"\u001b[1mGET /assets/NestedCollapsible-DDgd2SGb.js HTTP/1.1\u001b[0m\" \u001b[32m200 OK\u001b[0m\n",
            "\u001b[1;35mt=2025-02-01T05:10:03+0000 lvl=info msg=\"join connections\" obj=join id=530220ade80b l=127.0.0.1:8237 r=112.196.126.3:50011\u001b[0m\n",
            "\u001b[32mINFO\u001b[0m:     112.196.126.3:0 - \"\u001b[1mGET /assets/ExecutionStatus-Ct9srgHC.js HTTP/1.1\u001b[0m\" \u001b[32m200 OK\u001b[0m\n"
          ]
        },
        {
          "output_type": "stream",
          "name": "stderr",
          "text": [
            "INFO:pyngrok.process.ngrok:t=2025-02-01T05:10:03+0000 lvl=info msg=\"join connections\" obj=join id=608f4f97bcde l=127.0.0.1:8237 r=112.196.126.3:50011\n"
          ]
        },
        {
          "output_type": "stream",
          "name": "stdout",
          "text": [
            "\u001b[1;35mt=2025-02-01T05:10:03+0000 lvl=info msg=\"join connections\" obj=join id=608f4f97bcde l=127.0.0.1:8237 r=112.196.126.3:50011\u001b[0m\n"
          ]
        },
        {
          "output_type": "stream",
          "name": "stderr",
          "text": [
            "INFO:pyngrok.process.ngrok:t=2025-02-01T05:10:03+0000 lvl=info msg=\"join connections\" obj=join id=9994757dbc9b l=127.0.0.1:8237 r=112.196.126.3:50011\n"
          ]
        },
        {
          "output_type": "stream",
          "name": "stdout",
          "text": [
            "\u001b[32mINFO\u001b[0m:     112.196.126.3:0 - \"\u001b[1mGET /assets/page-Ox-eC1ik.js HTTP/1.1\u001b[0m\" \u001b[32m200 OK\u001b[0m\n",
            "\u001b[32mINFO\u001b[0m:     112.196.126.3:0 - \"\u001b[1mGET /assets/StackList-DKQaLDo4.js HTTP/1.1\u001b[0m\" \u001b[32m200 OK\u001b[0m\n",
            "\u001b[32mINFO\u001b[0m:     112.196.126.3:0 - \"\u001b[1mGET /assets/DialogItem-BYG7d_M2.js HTTP/1.1\u001b[0m\" \u001b[32m200 OK\u001b[0m\n",
            "\u001b[1;35mt=2025-02-01T05:10:03+0000 lvl=info msg=\"join connections\" obj=join id=9994757dbc9b l=127.0.0.1:8237 r=112.196.126.3:50011\u001b[0m\n"
          ]
        },
        {
          "output_type": "stream",
          "name": "stderr",
          "text": [
            "INFO:pyngrok.process.ngrok:t=2025-02-01T05:10:03+0000 lvl=info msg=\"join connections\" obj=join id=43c0cd141acb l=127.0.0.1:8237 r=112.196.126.3:50011\n"
          ]
        },
        {
          "output_type": "stream",
          "name": "stdout",
          "text": [
            "\u001b[32mINFO\u001b[0m:     112.196.126.3:0 - \"\u001b[1mGET /assets/AlertDialogDropdownItem-8yPFDxEI.js HTTP/1.1\u001b[0m\" \u001b[32m200 OK\u001b[0m\n",
            "\u001b[1;35mt=2025-02-01T05:10:03+0000 lvl=info msg=\"join connections\" obj=join id=43c0cd141acb l=127.0.0.1:8237 r=112.196.126.3:50011\u001b[0m\n"
          ]
        },
        {
          "output_type": "stream",
          "name": "stderr",
          "text": [
            "INFO:pyngrok.process.ngrok:t=2025-02-01T05:10:03+0000 lvl=info msg=\"join connections\" obj=join id=7d14e3bd13b3 l=127.0.0.1:8237 r=112.196.126.3:50011\n"
          ]
        },
        {
          "output_type": "stream",
          "name": "stdout",
          "text": [
            "\u001b[1;35mt=2025-02-01T05:10:03+0000 lvl=info msg=\"join connections\" obj=join id=7d14e3bd13b3 l=127.0.0.1:8237 r=112.196.126.3:50011\u001b[0m\n"
          ]
        },
        {
          "output_type": "stream",
          "name": "stderr",
          "text": [
            "INFO:pyngrok.process.ngrok:t=2025-02-01T05:10:03+0000 lvl=info msg=\"join connections\" obj=join id=c5e835867b18 l=127.0.0.1:8237 r=112.196.126.3:50011\n"
          ]
        },
        {
          "output_type": "stream",
          "name": "stdout",
          "text": [
            "\u001b[32mINFO\u001b[0m:     112.196.126.3:0 - \"\u001b[1mGET /assets/CollapsibleCard-TiI4lId1.js HTTP/1.1\u001b[0m\" \u001b[32m200 OK\u001b[0m\n",
            "\u001b[32mINFO\u001b[0m:     112.196.126.3:0 - \"\u001b[1mGET /assets/CopyButton-DCiXO3JC.js HTTP/1.1\u001b[0m\" \u001b[32m200 OK\u001b[0m\n",
            "\u001b[1;35mt=2025-02-01T05:10:03+0000 lvl=info msg=\"join connections\" obj=join id=c5e835867b18 l=127.0.0.1:8237 r=112.196.126.3:50011\u001b[0m\n"
          ]
        },
        {
          "output_type": "stream",
          "name": "stderr",
          "text": [
            "INFO:pyngrok.process.ngrok:t=2025-02-01T05:10:04+0000 lvl=info msg=\"join connections\" obj=join id=474aca58d432 l=127.0.0.1:8237 r=112.196.126.3:50011\n"
          ]
        },
        {
          "output_type": "stream",
          "name": "stdout",
          "text": [
            "\u001b[32mINFO\u001b[0m:     112.196.126.3:0 - \"\u001b[1mGET /api/v1/runs?page=1&sort_by=desc%3Aupdated HTTP/1.1\u001b[0m\" \u001b[32m200 OK\u001b[0m\n",
            "\u001b[32mINFO\u001b[0m:     112.196.126.3:0 - \"\u001b[1mGET /assets/page-I2B4Ocv8.js HTTP/1.1\u001b[0m\" \u001b[32m200 OK\u001b[0m\n",
            "\u001b[32mINFO\u001b[0m:     112.196.126.3:0 - \"\u001b[1mGET /assets/SearchField-Yjv-KRW4.js HTTP/1.1\u001b[0m\" \u001b[32m200 OK\u001b[0m\n",
            "\u001b[32mINFO\u001b[0m:     112.196.126.3:0 - \"\u001b[1mGET /assets/DisplayDate-CDMUcQHS.js HTTP/1.1\u001b[0m\" \u001b[32m200 OK\u001b[0m\n",
            "\u001b[32mINFO\u001b[0m:     112.196.126.3:0 - \"\u001b[1mGET /assets/index-CJ5IfeAl.js HTTP/1.1\u001b[0m\" \u001b[32m200 OK\u001b[0m\n",
            "\u001b[32mINFO\u001b[0m:     112.196.126.3:0 - \"\u001b[1mGET /assets/page-CBiT2Ox9.js HTTP/1.1\u001b[0m\" \u001b[32m200 OK\u001b[0m\n",
            "\u001b[32mINFO\u001b[0m:     112.196.126.3:0 - \"\u001b[1mGET /assets/page-DbW8MfQ4.js HTTP/1.1\u001b[0m\" \u001b[32m200 OK\u001b[0m\n",
            "\u001b[1;35mt=2025-02-01T05:10:04+0000 lvl=info msg=\"join connections\" obj=join id=474aca58d432 l=127.0.0.1:8237 r=112.196.126.3:50011\u001b[0m\n"
          ]
        },
        {
          "output_type": "stream",
          "name": "stderr",
          "text": [
            "INFO:pyngrok.process.ngrok:t=2025-02-01T05:10:04+0000 lvl=info msg=\"join connections\" obj=join id=ccc8c51eafef l=127.0.0.1:8237 r=112.196.126.3:50011\n"
          ]
        },
        {
          "output_type": "stream",
          "name": "stdout",
          "text": [
            "\u001b[1;35mt=2025-02-01T05:10:04+0000 lvl=info msg=\"join connections\" obj=join id=ccc8c51eafef l=127.0.0.1:8237 r=112.196.126.3:50011\u001b[0m\n"
          ]
        },
        {
          "output_type": "stream",
          "name": "stderr",
          "text": [
            "INFO:pyngrok.process.ngrok:t=2025-02-01T05:10:04+0000 lvl=info msg=\"join connections\" obj=join id=653bc102a621 l=127.0.0.1:8237 r=112.196.126.3:50011\n"
          ]
        },
        {
          "output_type": "stream",
          "name": "stdout",
          "text": [
            "\u001b[1;35mt=2025-02-01T05:10:04+0000 lvl=info msg=\"join connections\" obj=join id=653bc102a621 l=127.0.0.1:8237 r=112.196.126.3:50011\u001b[0m\n"
          ]
        },
        {
          "output_type": "stream",
          "name": "stderr",
          "text": [
            "INFO:pyngrok.process.ngrok:t=2025-02-01T05:10:04+0000 lvl=info msg=\"join connections\" obj=join id=eac9f1f43571 l=127.0.0.1:8237 r=112.196.126.3:50011\n"
          ]
        },
        {
          "output_type": "stream",
          "name": "stdout",
          "text": [
            "\u001b[1;35mt=2025-02-01T05:10:04+0000 lvl=info msg=\"join connections\" obj=join id=eac9f1f43571 l=127.0.0.1:8237 r=112.196.126.3:50011\u001b[0m\n"
          ]
        },
        {
          "output_type": "stream",
          "name": "stderr",
          "text": [
            "INFO:pyngrok.process.ngrok:t=2025-02-01T05:10:04+0000 lvl=info msg=\"join connections\" obj=join id=b5cde14a3c1c l=127.0.0.1:8237 r=112.196.126.3:50011\n"
          ]
        },
        {
          "output_type": "stream",
          "name": "stdout",
          "text": [
            "\u001b[1;35mt=2025-02-01T05:10:04+0000 lvl=info msg=\"join connections\" obj=join id=b5cde14a3c1c l=127.0.0.1:8237 r=112.196.126.3:50011\u001b[0m\n"
          ]
        },
        {
          "output_type": "stream",
          "name": "stderr",
          "text": [
            "INFO:pyngrok.process.ngrok:t=2025-02-01T05:10:04+0000 lvl=info msg=\"join connections\" obj=join id=84fb7498c518 l=127.0.0.1:8237 r=112.196.126.3:50011\n"
          ]
        },
        {
          "output_type": "stream",
          "name": "stdout",
          "text": [
            "\u001b[1;35mt=2025-02-01T05:10:04+0000 lvl=info msg=\"join connections\" obj=join id=84fb7498c518 l=127.0.0.1:8237 r=112.196.126.3:50011\u001b[0m\n"
          ]
        },
        {
          "output_type": "stream",
          "name": "stderr",
          "text": [
            "INFO:pyngrok.process.ngrok:t=2025-02-01T05:10:04+0000 lvl=info msg=\"join connections\" obj=join id=d8533c129ef1 l=127.0.0.1:8237 r=112.196.126.3:50011\n"
          ]
        },
        {
          "output_type": "stream",
          "name": "stdout",
          "text": [
            "\u001b[1;35mt=2025-02-01T05:10:04+0000 lvl=info msg=\"join connections\" obj=join id=d8533c129ef1 l=127.0.0.1:8237 r=112.196.126.3:50011\u001b[0m\n"
          ]
        },
        {
          "output_type": "stream",
          "name": "stderr",
          "text": [
            "INFO:pyngrok.process.ngrok:t=2025-02-01T05:10:04+0000 lvl=info msg=\"join connections\" obj=join id=11d029e49615 l=127.0.0.1:8237 r=112.196.126.3:50011\n"
          ]
        },
        {
          "output_type": "stream",
          "name": "stdout",
          "text": [
            "\u001b[1;35mt=2025-02-01T05:10:04+0000 lvl=info msg=\"join connections\" obj=join id=11d029e49615 l=127.0.0.1:8237 r=112.196.126.3:50011\u001b[0m\n"
          ]
        },
        {
          "output_type": "stream",
          "name": "stderr",
          "text": [
            "INFO:pyngrok.process.ngrok:t=2025-02-01T05:10:04+0000 lvl=info msg=\"join connections\" obj=join id=0c6f6e13c9f4 l=127.0.0.1:8237 r=112.196.126.3:50011\n"
          ]
        },
        {
          "output_type": "stream",
          "name": "stdout",
          "text": [
            "\u001b[1;35mt=2025-02-01T05:10:04+0000 lvl=info msg=\"join connections\" obj=join id=0c6f6e13c9f4 l=127.0.0.1:8237 r=112.196.126.3:50011\u001b[0m\n"
          ]
        },
        {
          "output_type": "stream",
          "name": "stderr",
          "text": [
            "INFO:pyngrok.process.ngrok:t=2025-02-01T05:10:04+0000 lvl=info msg=\"join connections\" obj=join id=64ce3f312891 l=127.0.0.1:8237 r=112.196.126.3:50011\n"
          ]
        },
        {
          "output_type": "stream",
          "name": "stdout",
          "text": [
            "\u001b[1;35mt=2025-02-01T05:10:04+0000 lvl=info msg=\"join connections\" obj=join id=64ce3f312891 l=127.0.0.1:8237 r=112.196.126.3:50011\u001b[0m\n"
          ]
        },
        {
          "output_type": "stream",
          "name": "stderr",
          "text": [
            "INFO:pyngrok.process.ngrok:t=2025-02-01T05:10:04+0000 lvl=info msg=\"join connections\" obj=join id=aba7da47ee25 l=127.0.0.1:8237 r=112.196.126.3:50011\n"
          ]
        },
        {
          "output_type": "stream",
          "name": "stdout",
          "text": [
            "\u001b[1;35mt=2025-02-01T05:10:04+0000 lvl=info msg=\"join connections\" obj=join id=aba7da47ee25 l=127.0.0.1:8237 r=112.196.126.3:50011\u001b[0m\n"
          ]
        },
        {
          "output_type": "stream",
          "name": "stderr",
          "text": [
            "INFO:pyngrok.process.ngrok:t=2025-02-01T05:10:04+0000 lvl=info msg=\"join connections\" obj=join id=65a8edb32df6 l=127.0.0.1:8237 r=112.196.126.3:50011\n"
          ]
        },
        {
          "output_type": "stream",
          "name": "stdout",
          "text": [
            "\u001b[1;35mt=2025-02-01T05:10:04+0000 lvl=info msg=\"join connections\" obj=join id=65a8edb32df6 l=127.0.0.1:8237 r=112.196.126.3:50011\u001b[0m\n"
          ]
        },
        {
          "output_type": "stream",
          "name": "stderr",
          "text": [
            "INFO:pyngrok.process.ngrok:t=2025-02-01T05:10:04+0000 lvl=info msg=\"join connections\" obj=join id=7702b945d8af l=127.0.0.1:8237 r=112.196.126.3:50011\n"
          ]
        },
        {
          "output_type": "stream",
          "name": "stdout",
          "text": [
            "\u001b[1;35mt=2025-02-01T05:10:04+0000 lvl=info msg=\"join connections\" obj=join id=7702b945d8af l=127.0.0.1:8237 r=112.196.126.3:50011\u001b[0m\n"
          ]
        },
        {
          "output_type": "stream",
          "name": "stderr",
          "text": [
            "INFO:pyngrok.process.ngrok:t=2025-02-01T05:10:04+0000 lvl=info msg=\"join connections\" obj=join id=9ab69a9d4457 l=127.0.0.1:8237 r=112.196.126.3:50011\n"
          ]
        },
        {
          "output_type": "stream",
          "name": "stdout",
          "text": [
            "\u001b[1;35mt=2025-02-01T05:10:04+0000 lvl=info msg=\"join connections\" obj=join id=9ab69a9d4457 l=127.0.0.1:8237 r=112.196.126.3:50011\u001b[0m\n"
          ]
        },
        {
          "output_type": "stream",
          "name": "stderr",
          "text": [
            "INFO:pyngrok.process.ngrok:t=2025-02-01T05:10:04+0000 lvl=info msg=\"join connections\" obj=join id=220debaa267a l=127.0.0.1:8237 r=112.196.126.3:50011\n"
          ]
        },
        {
          "output_type": "stream",
          "name": "stdout",
          "text": [
            "\u001b[1;35mt=2025-02-01T05:10:04+0000 lvl=info msg=\"join connections\" obj=join id=220debaa267a l=127.0.0.1:8237 r=112.196.126.3:50011\u001b[0m\n"
          ]
        },
        {
          "output_type": "stream",
          "name": "stderr",
          "text": [
            "INFO:pyngrok.process.ngrok:t=2025-02-01T05:10:04+0000 lvl=info msg=\"join connections\" obj=join id=bc2af64b7818 l=127.0.0.1:8237 r=112.196.126.3:50011\n"
          ]
        },
        {
          "output_type": "stream",
          "name": "stdout",
          "text": [
            "\u001b[1;35mt=2025-02-01T05:10:04+0000 lvl=info msg=\"join connections\" obj=join id=bc2af64b7818 l=127.0.0.1:8237 r=112.196.126.3:50011\u001b[0m\n"
          ]
        },
        {
          "output_type": "stream",
          "name": "stderr",
          "text": [
            "INFO:pyngrok.process.ngrok:t=2025-02-01T05:10:04+0000 lvl=info msg=\"join connections\" obj=join id=6b6f79729582 l=127.0.0.1:8237 r=112.196.126.3:50011\n"
          ]
        },
        {
          "output_type": "stream",
          "name": "stdout",
          "text": [
            "\u001b[1;35mt=2025-02-01T05:10:04+0000 lvl=info msg=\"join connections\" obj=join id=6b6f79729582 l=127.0.0.1:8237 r=112.196.126.3:50011\u001b[0m\n"
          ]
        },
        {
          "output_type": "stream",
          "name": "stderr",
          "text": [
            "INFO:pyngrok.process.ngrok:t=2025-02-01T05:10:04+0000 lvl=info msg=\"join connections\" obj=join id=ffcfec9743e9 l=127.0.0.1:8237 r=112.196.126.3:50011\n"
          ]
        },
        {
          "output_type": "stream",
          "name": "stdout",
          "text": [
            "\u001b[1;35mt=2025-02-01T05:10:04+0000 lvl=info msg=\"join connections\" obj=join id=ffcfec9743e9 l=127.0.0.1:8237 r=112.196.126.3:50011\u001b[0m\n"
          ]
        },
        {
          "output_type": "stream",
          "name": "stderr",
          "text": [
            "INFO:pyngrok.process.ngrok:t=2025-02-01T05:10:04+0000 lvl=info msg=\"join connections\" obj=join id=828e9c8759ca l=127.0.0.1:8237 r=112.196.126.3:50011\n"
          ]
        },
        {
          "output_type": "stream",
          "name": "stdout",
          "text": [
            "\u001b[1;35mt=2025-02-01T05:10:04+0000 lvl=info msg=\"join connections\" obj=join id=828e9c8759ca l=127.0.0.1:8237 r=112.196.126.3:50011\u001b[0m\n"
          ]
        },
        {
          "output_type": "stream",
          "name": "stderr",
          "text": [
            "INFO:pyngrok.process.ngrok:t=2025-02-01T05:10:04+0000 lvl=info msg=\"join connections\" obj=join id=e5140c3f0504 l=127.0.0.1:8237 r=112.196.126.3:50011\n"
          ]
        },
        {
          "output_type": "stream",
          "name": "stdout",
          "text": [
            "\u001b[1;35mt=2025-02-01T05:10:04+0000 lvl=info msg=\"join connections\" obj=join id=e5140c3f0504 l=127.0.0.1:8237 r=112.196.126.3:50011\u001b[0m\n"
          ]
        },
        {
          "output_type": "stream",
          "name": "stderr",
          "text": [
            "INFO:pyngrok.process.ngrok:t=2025-02-01T05:10:04+0000 lvl=info msg=\"join connections\" obj=join id=353577ae3528 l=127.0.0.1:8237 r=112.196.126.3:50011\n"
          ]
        },
        {
          "output_type": "stream",
          "name": "stdout",
          "text": [
            "\u001b[1;35mt=2025-02-01T05:10:04+0000 lvl=info msg=\"join connections\" obj=join id=353577ae3528 l=127.0.0.1:8237 r=112.196.126.3:50011\u001b[0m\n"
          ]
        },
        {
          "output_type": "stream",
          "name": "stderr",
          "text": [
            "INFO:pyngrok.process.ngrok:t=2025-02-01T05:10:04+0000 lvl=info msg=\"join connections\" obj=join id=8aee4fbd6577 l=127.0.0.1:8237 r=112.196.126.3:50011\n"
          ]
        },
        {
          "output_type": "stream",
          "name": "stdout",
          "text": [
            "\u001b[1;35mt=2025-02-01T05:10:04+0000 lvl=info msg=\"join connections\" obj=join id=8aee4fbd6577 l=127.0.0.1:8237 r=112.196.126.3:50011\u001b[0m\n"
          ]
        },
        {
          "output_type": "stream",
          "name": "stderr",
          "text": [
            "INFO:pyngrok.process.ngrok:t=2025-02-01T05:10:04+0000 lvl=info msg=\"join connections\" obj=join id=823e640f148a l=127.0.0.1:8237 r=112.196.126.3:50011\n"
          ]
        },
        {
          "output_type": "stream",
          "name": "stdout",
          "text": [
            "\u001b[1;35mt=2025-02-01T05:10:04+0000 lvl=info msg=\"join connections\" obj=join id=823e640f148a l=127.0.0.1:8237 r=112.196.126.3:50011\u001b[0m\n"
          ]
        },
        {
          "output_type": "stream",
          "name": "stderr",
          "text": [
            "INFO:pyngrok.process.ngrok:t=2025-02-01T05:10:04+0000 lvl=info msg=\"join connections\" obj=join id=5b626868526a l=127.0.0.1:8237 r=112.196.126.3:50011\n"
          ]
        },
        {
          "output_type": "stream",
          "name": "stdout",
          "text": [
            "\u001b[32mINFO\u001b[0m:     112.196.126.3:0 - \"\u001b[1mGET /assets/index-Ceyzb1yI.js HTTP/1.1\u001b[0m\" \u001b[32m200 OK\u001b[0m\n",
            "\u001b[1;35mt=2025-02-01T05:10:04+0000 lvl=info msg=\"join connections\" obj=join id=5b626868526a l=127.0.0.1:8237 r=112.196.126.3:50011\u001b[0m\n"
          ]
        },
        {
          "output_type": "stream",
          "name": "stderr",
          "text": [
            "INFO:pyngrok.process.ngrok:t=2025-02-01T05:10:04+0000 lvl=info msg=\"join connections\" obj=join id=08f8da4148d0 l=127.0.0.1:8237 r=112.196.126.3:50011\n"
          ]
        },
        {
          "output_type": "stream",
          "name": "stdout",
          "text": [
            "\u001b[1;35mt=2025-02-01T05:10:04+0000 lvl=info msg=\"join connections\" obj=join id=08f8da4148d0 l=127.0.0.1:8237 r=112.196.126.3:50011\u001b[0m\n"
          ]
        },
        {
          "output_type": "stream",
          "name": "stderr",
          "text": [
            "INFO:pyngrok.process.ngrok:t=2025-02-01T05:10:04+0000 lvl=info msg=\"join connections\" obj=join id=12eef969cec1 l=127.0.0.1:8237 r=112.196.126.3:50011\n"
          ]
        },
        {
          "output_type": "stream",
          "name": "stdout",
          "text": [
            "\u001b[1;35mt=2025-02-01T05:10:04+0000 lvl=info msg=\"join connections\" obj=join id=12eef969cec1 l=127.0.0.1:8237 r=112.196.126.3:50011\u001b[0m\n"
          ]
        },
        {
          "output_type": "stream",
          "name": "stderr",
          "text": [
            "INFO:pyngrok.process.ngrok:t=2025-02-01T05:10:04+0000 lvl=info msg=\"join connections\" obj=join id=d2bf3d719eaf l=127.0.0.1:8237 r=112.196.126.3:50011\n"
          ]
        },
        {
          "output_type": "stream",
          "name": "stdout",
          "text": [
            "\u001b[1;35mt=2025-02-01T05:10:04+0000 lvl=info msg=\"join connections\" obj=join id=d2bf3d719eaf l=127.0.0.1:8237 r=112.196.126.3:50011\u001b[0m\n"
          ]
        },
        {
          "output_type": "stream",
          "name": "stderr",
          "text": [
            "INFO:pyngrok.process.ngrok:t=2025-02-01T05:10:04+0000 lvl=info msg=\"join connections\" obj=join id=7588cb65864f l=127.0.0.1:8237 r=112.196.126.3:50011\n"
          ]
        },
        {
          "output_type": "stream",
          "name": "stdout",
          "text": [
            "\u001b[1;35mt=2025-02-01T05:10:04+0000 lvl=info msg=\"join connections\" obj=join id=7588cb65864f l=127.0.0.1:8237 r=112.196.126.3:50011\u001b[0m\n"
          ]
        },
        {
          "output_type": "stream",
          "name": "stderr",
          "text": [
            "INFO:pyngrok.process.ngrok:t=2025-02-01T05:10:04+0000 lvl=info msg=\"join connections\" obj=join id=10eaf5101be0 l=127.0.0.1:8237 r=112.196.126.3:50011\n"
          ]
        },
        {
          "output_type": "stream",
          "name": "stdout",
          "text": [
            "\u001b[1;35mt=2025-02-01T05:10:04+0000 lvl=info msg=\"join connections\" obj=join id=10eaf5101be0 l=127.0.0.1:8237 r=112.196.126.3:50011\u001b[0m\n"
          ]
        },
        {
          "output_type": "stream",
          "name": "stderr",
          "text": [
            "INFO:pyngrok.process.ngrok:t=2025-02-01T05:10:04+0000 lvl=info msg=\"join connections\" obj=join id=9948320521f6 l=127.0.0.1:8237 r=112.196.126.3:50011\n"
          ]
        },
        {
          "output_type": "stream",
          "name": "stdout",
          "text": [
            "\u001b[1;35mt=2025-02-01T05:10:04+0000 lvl=info msg=\"join connections\" obj=join id=9948320521f6 l=127.0.0.1:8237 r=112.196.126.3:50011\u001b[0m\n"
          ]
        },
        {
          "output_type": "stream",
          "name": "stderr",
          "text": [
            "INFO:pyngrok.process.ngrok:t=2025-02-01T05:10:04+0000 lvl=info msg=\"join connections\" obj=join id=c2924f59af92 l=127.0.0.1:8237 r=112.196.126.3:50011\n"
          ]
        },
        {
          "output_type": "stream",
          "name": "stdout",
          "text": [
            "\u001b[1;35mt=2025-02-01T05:10:04+0000 lvl=info msg=\"join connections\" obj=join id=c2924f59af92 l=127.0.0.1:8237 r=112.196.126.3:50011\u001b[0m\n"
          ]
        },
        {
          "output_type": "stream",
          "name": "stderr",
          "text": [
            "INFO:pyngrok.process.ngrok:t=2025-02-01T05:10:04+0000 lvl=info msg=\"join connections\" obj=join id=dee867bda1ed l=127.0.0.1:8237 r=112.196.126.3:50011\n"
          ]
        },
        {
          "output_type": "stream",
          "name": "stdout",
          "text": [
            "\u001b[1;35mt=2025-02-01T05:10:04+0000 lvl=info msg=\"join connections\" obj=join id=dee867bda1ed l=127.0.0.1:8237 r=112.196.126.3:50011\u001b[0m\n"
          ]
        },
        {
          "output_type": "stream",
          "name": "stderr",
          "text": [
            "INFO:pyngrok.process.ngrok:t=2025-02-01T05:10:04+0000 lvl=info msg=\"join connections\" obj=join id=24509fa532ab l=127.0.0.1:8237 r=112.196.126.3:50011\n"
          ]
        },
        {
          "output_type": "stream",
          "name": "stdout",
          "text": [
            "\u001b[32mINFO\u001b[0m:     112.196.126.3:0 - \"\u001b[1mGET /assets/stack-detail-query-DMJoxwgv.js HTTP/1.1\u001b[0m\" \u001b[32m200 OK\u001b[0m\n",
            "\u001b[32mINFO\u001b[0m:     112.196.126.3:0 - \"\u001b[1mGET /assets/trash-arLUMWMS.js HTTP/1.1\u001b[0m\" \u001b[32m200 OK\u001b[0m\n",
            "\u001b[32mINFO\u001b[0m:     112.196.126.3:0 - \"\u001b[1mGET /assets/Lock-CYYy18Mm.js HTTP/1.1\u001b[0m\" \u001b[32m200 OK\u001b[0m\n",
            "\u001b[32mINFO\u001b[0m:     112.196.126.3:0 - \"\u001b[1mGET /assets/index-D4yoZ_gH.js HTTP/1.1\u001b[0m\" \u001b[32m200 OK\u001b[0m\n",
            "\u001b[32mINFO\u001b[0m:     112.196.126.3:0 - \"\u001b[1mGET /assets/layout-BtHBmE4w.js HTTP/1.1\u001b[0m\" \u001b[32m200 OK\u001b[0m\n",
            "\u001b[32mINFO\u001b[0m:     112.196.126.3:0 - \"\u001b[1mGET /assets/page-BKwwfTNy.js HTTP/1.1\u001b[0m\" \u001b[32m200 OK\u001b[0m\n",
            "\u001b[32mINFO\u001b[0m:     112.196.126.3:0 - \"\u001b[1mGET /assets/Partials-MD3e95Dk.js HTTP/1.1\u001b[0m\" \u001b[32m200 OK\u001b[0m\n",
            "\u001b[1;35mt=2025-02-01T05:10:04+0000 lvl=info msg=\"join connections\" obj=join id=24509fa532ab l=127.0.0.1:8237 r=112.196.126.3:50011\u001b[0m\n"
          ]
        },
        {
          "output_type": "stream",
          "name": "stderr",
          "text": [
            "INFO:pyngrok.process.ngrok:t=2025-02-01T05:10:04+0000 lvl=info msg=\"join connections\" obj=join id=c05dad7e6c8b l=127.0.0.1:8237 r=112.196.126.3:50011\n"
          ]
        },
        {
          "output_type": "stream",
          "name": "stdout",
          "text": [
            "\u001b[1;35mt=2025-02-01T05:10:04+0000 lvl=info msg=\"join connections\" obj=join id=c05dad7e6c8b l=127.0.0.1:8237 r=112.196.126.3:50011\u001b[0m\n"
          ]
        },
        {
          "output_type": "stream",
          "name": "stderr",
          "text": [
            "INFO:pyngrok.process.ngrok:t=2025-02-01T05:10:04+0000 lvl=info msg=\"join connections\" obj=join id=5259a494e229 l=127.0.0.1:8237 r=112.196.126.3:50011\n"
          ]
        },
        {
          "output_type": "stream",
          "name": "stdout",
          "text": [
            "\u001b[1;35mt=2025-02-01T05:10:04+0000 lvl=info msg=\"join connections\" obj=join id=5259a494e229 l=127.0.0.1:8237 r=112.196.126.3:50011\u001b[0m\n"
          ]
        },
        {
          "output_type": "stream",
          "name": "stderr",
          "text": [
            "INFO:pyngrok.process.ngrok:t=2025-02-01T05:10:04+0000 lvl=info msg=\"join connections\" obj=join id=5f1875906336 l=127.0.0.1:8237 r=112.196.126.3:50011\n"
          ]
        },
        {
          "output_type": "stream",
          "name": "stdout",
          "text": [
            "\u001b[1;35mt=2025-02-01T05:10:04+0000 lvl=info msg=\"join connections\" obj=join id=5f1875906336 l=127.0.0.1:8237 r=112.196.126.3:50011\u001b[0m\n"
          ]
        },
        {
          "output_type": "stream",
          "name": "stderr",
          "text": [
            "INFO:pyngrok.process.ngrok:t=2025-02-01T05:10:04+0000 lvl=info msg=\"join connections\" obj=join id=eb756320a7bc l=127.0.0.1:8237 r=112.196.126.3:50011\n"
          ]
        },
        {
          "output_type": "stream",
          "name": "stdout",
          "text": [
            "\u001b[1;35mt=2025-02-01T05:10:04+0000 lvl=info msg=\"join connections\" obj=join id=eb756320a7bc l=127.0.0.1:8237 r=112.196.126.3:50011\u001b[0m\n"
          ]
        },
        {
          "output_type": "stream",
          "name": "stderr",
          "text": [
            "INFO:pyngrok.process.ngrok:t=2025-02-01T05:10:04+0000 lvl=info msg=\"join connections\" obj=join id=cd4d3c7624d9 l=127.0.0.1:8237 r=112.196.126.3:50011\n"
          ]
        },
        {
          "output_type": "stream",
          "name": "stdout",
          "text": [
            "\u001b[1;35mt=2025-02-01T05:10:04+0000 lvl=info msg=\"join connections\" obj=join id=cd4d3c7624d9 l=127.0.0.1:8237 r=112.196.126.3:50011\u001b[0m\n"
          ]
        },
        {
          "output_type": "stream",
          "name": "stderr",
          "text": [
            "INFO:pyngrok.process.ngrok:t=2025-02-01T05:10:04+0000 lvl=info msg=\"join connections\" obj=join id=c755663d7b17 l=127.0.0.1:8237 r=112.196.126.3:50011\n"
          ]
        },
        {
          "output_type": "stream",
          "name": "stdout",
          "text": [
            "\u001b[1;35mt=2025-02-01T05:10:04+0000 lvl=info msg=\"join connections\" obj=join id=c755663d7b17 l=127.0.0.1:8237 r=112.196.126.3:50011\u001b[0m\n"
          ]
        },
        {
          "output_type": "stream",
          "name": "stderr",
          "text": [
            "INFO:pyngrok.process.ngrok:t=2025-02-01T05:10:04+0000 lvl=info msg=\"join connections\" obj=join id=3d089cbb4691 l=127.0.0.1:8237 r=112.196.126.3:50011\n"
          ]
        },
        {
          "output_type": "stream",
          "name": "stdout",
          "text": [
            "\u001b[1;35mt=2025-02-01T05:10:04+0000 lvl=info msg=\"join connections\" obj=join id=3d089cbb4691 l=127.0.0.1:8237 r=112.196.126.3:50011\u001b[0m\n"
          ]
        },
        {
          "output_type": "stream",
          "name": "stderr",
          "text": [
            "INFO:pyngrok.process.ngrok:t=2025-02-01T05:10:04+0000 lvl=info msg=\"join connections\" obj=join id=db8f9f6f0e8a l=127.0.0.1:8237 r=112.196.126.3:50011\n"
          ]
        },
        {
          "output_type": "stream",
          "name": "stdout",
          "text": [
            "\u001b[32mINFO\u001b[0m:     112.196.126.3:0 - \"\u001b[1mGET /assets/ProviderIcon-DfDUOeAy.js HTTP/1.1\u001b[0m\" \u001b[32m200 OK\u001b[0m\n",
            "\u001b[32mINFO\u001b[0m:     112.196.126.3:0 - \"\u001b[1mGET /assets/dots-horizontal-otGBOSDJ.js HTTP/1.1\u001b[0m\" \u001b[32m200 OK\u001b[0m\n",
            "\u001b[32mINFO\u001b[0m:     112.196.126.3:0 - \"\u001b[1mGET /assets/sharedSchema-xJDsJNgJ.js HTTP/1.1\u001b[0m\" \u001b[32m200 OK\u001b[0m\n",
            "\u001b[32mINFO\u001b[0m:     112.196.126.3:0 - \"\u001b[1mGET /assets/index-Uu49AX48.js HTTP/1.1\u001b[0m\" \u001b[32m200 OK\u001b[0m\n",
            "\u001b[32mINFO\u001b[0m:     112.196.126.3:0 - \"\u001b[1mGET /assets/WizardFooter-_1VSMZ_c.js HTTP/1.1\u001b[0m\" \u001b[32m200 OK\u001b[0m\n",
            "\u001b[1;35mt=2025-02-01T05:10:04+0000 lvl=info msg=\"join connections\" obj=join id=db8f9f6f0e8a l=127.0.0.1:8237 r=112.196.126.3:50011\u001b[0m\n"
          ]
        },
        {
          "output_type": "stream",
          "name": "stderr",
          "text": [
            "INFO:pyngrok.process.ngrok:t=2025-02-01T05:10:04+0000 lvl=info msg=\"join connections\" obj=join id=58408eff529c l=127.0.0.1:8237 r=112.196.126.3:50011\n"
          ]
        },
        {
          "output_type": "stream",
          "name": "stdout",
          "text": [
            "\u001b[1;35mt=2025-02-01T05:10:04+0000 lvl=info msg=\"join connections\" obj=join id=58408eff529c l=127.0.0.1:8237 r=112.196.126.3:50011\u001b[0m\n"
          ]
        },
        {
          "output_type": "stream",
          "name": "stderr",
          "text": [
            "INFO:pyngrok.process.ngrok:t=2025-02-01T05:10:04+0000 lvl=info msg=\"join connections\" obj=join id=c326e27d6a85 l=127.0.0.1:8237 r=112.196.126.3:50011\n"
          ]
        },
        {
          "output_type": "stream",
          "name": "stdout",
          "text": [
            "\u001b[1;35mt=2025-02-01T05:10:04+0000 lvl=info msg=\"join connections\" obj=join id=c326e27d6a85 l=127.0.0.1:8237 r=112.196.126.3:50011\u001b[0m\n"
          ]
        },
        {
          "output_type": "stream",
          "name": "stderr",
          "text": [
            "INFO:pyngrok.process.ngrok:t=2025-02-01T05:10:04+0000 lvl=info msg=\"join connections\" obj=join id=366573529ea7 l=127.0.0.1:8237 r=112.196.126.3:50011\n"
          ]
        },
        {
          "output_type": "stream",
          "name": "stdout",
          "text": [
            "\u001b[1;35mt=2025-02-01T05:10:04+0000 lvl=info msg=\"join connections\" obj=join id=366573529ea7 l=127.0.0.1:8237 r=112.196.126.3:50011\u001b[0m\n"
          ]
        },
        {
          "output_type": "stream",
          "name": "stderr",
          "text": [
            "INFO:pyngrok.process.ngrok:t=2025-02-01T05:10:04+0000 lvl=info msg=\"join connections\" obj=join id=bbc66869c2ad l=127.0.0.1:8237 r=112.196.126.3:50011\n"
          ]
        },
        {
          "output_type": "stream",
          "name": "stdout",
          "text": [
            "\u001b[1;35mt=2025-02-01T05:10:04+0000 lvl=info msg=\"join connections\" obj=join id=bbc66869c2ad l=127.0.0.1:8237 r=112.196.126.3:50011\u001b[0m\n"
          ]
        },
        {
          "output_type": "stream",
          "name": "stderr",
          "text": [
            "INFO:pyngrok.process.ngrok:t=2025-02-01T05:10:04+0000 lvl=info msg=\"join connections\" obj=join id=78bdce20bfe2 l=127.0.0.1:8237 r=112.196.126.3:50011\n"
          ]
        },
        {
          "output_type": "stream",
          "name": "stdout",
          "text": [
            "\u001b[1;35mt=2025-02-01T05:10:04+0000 lvl=info msg=\"join connections\" obj=join id=78bdce20bfe2 l=127.0.0.1:8237 r=112.196.126.3:50011\u001b[0m\n"
          ]
        },
        {
          "output_type": "stream",
          "name": "stderr",
          "text": [
            "INFO:pyngrok.process.ngrok:t=2025-02-01T05:10:04+0000 lvl=info msg=\"join connections\" obj=join id=b215680577c9 l=127.0.0.1:8237 r=112.196.126.3:50011\n"
          ]
        },
        {
          "output_type": "stream",
          "name": "stdout",
          "text": [
            "\u001b[1;35mt=2025-02-01T05:10:04+0000 lvl=info msg=\"join connections\" obj=join id=b215680577c9 l=127.0.0.1:8237 r=112.196.126.3:50011\u001b[0m\n"
          ]
        },
        {
          "output_type": "stream",
          "name": "stderr",
          "text": [
            "INFO:pyngrok.process.ngrok:t=2025-02-01T05:10:04+0000 lvl=info msg=\"join connections\" obj=join id=f2b7613c4afa l=127.0.0.1:8237 r=112.196.126.3:50011\n"
          ]
        },
        {
          "output_type": "stream",
          "name": "stdout",
          "text": [
            "\u001b[1;35mt=2025-02-01T05:10:04+0000 lvl=info msg=\"join connections\" obj=join id=f2b7613c4afa l=127.0.0.1:8237 r=112.196.126.3:50011\u001b[0m\n"
          ]
        },
        {
          "output_type": "stream",
          "name": "stderr",
          "text": [
            "INFO:pyngrok.process.ngrok:t=2025-02-01T05:10:04+0000 lvl=info msg=\"join connections\" obj=join id=44b93ce9b51e l=127.0.0.1:8237 r=112.196.126.3:50011\n"
          ]
        },
        {
          "output_type": "stream",
          "name": "stdout",
          "text": [
            "\u001b[1;35mt=2025-02-01T05:10:04+0000 lvl=info msg=\"join connections\" obj=join id=44b93ce9b51e l=127.0.0.1:8237 r=112.196.126.3:50011\u001b[0m\n"
          ]
        },
        {
          "output_type": "stream",
          "name": "stderr",
          "text": [
            "INFO:pyngrok.process.ngrok:t=2025-02-01T05:10:04+0000 lvl=info msg=\"join connections\" obj=join id=c66bfb87a36e l=127.0.0.1:8237 r=112.196.126.3:50011\n"
          ]
        },
        {
          "output_type": "stream",
          "name": "stdout",
          "text": [
            "\u001b[1;35mt=2025-02-01T05:10:04+0000 lvl=info msg=\"join connections\" obj=join id=c66bfb87a36e l=127.0.0.1:8237 r=112.196.126.3:50011\u001b[0m\n"
          ]
        },
        {
          "output_type": "stream",
          "name": "stderr",
          "text": [
            "INFO:pyngrok.process.ngrok:t=2025-02-01T05:10:04+0000 lvl=info msg=\"join connections\" obj=join id=dcb6252cd455 l=127.0.0.1:8237 r=112.196.126.3:50011\n"
          ]
        },
        {
          "output_type": "stream",
          "name": "stdout",
          "text": [
            "\u001b[1;35mt=2025-02-01T05:10:04+0000 lvl=info msg=\"join connections\" obj=join id=dcb6252cd455 l=127.0.0.1:8237 r=112.196.126.3:50011\u001b[0m\n"
          ]
        },
        {
          "output_type": "stream",
          "name": "stderr",
          "text": [
            "INFO:pyngrok.process.ngrok:t=2025-02-01T05:10:04+0000 lvl=info msg=\"join connections\" obj=join id=0d09be4073e0 l=127.0.0.1:8237 r=112.196.126.3:50011\n"
          ]
        },
        {
          "output_type": "stream",
          "name": "stdout",
          "text": [
            "\u001b[32mINFO\u001b[0m:     112.196.126.3:0 - \"\u001b[1mGET /assets/InlineAvatar-CQNjKoEQ.js HTTP/1.1\u001b[0m\" \u001b[32m200 OK\u001b[0m\n",
            "\u001b[32mINFO\u001b[0m:     112.196.126.3:0 - \"\u001b[1mGET /assets/components-Br2ezRib.js HTTP/1.1\u001b[0m\" \u001b[32m200 OK\u001b[0m\n",
            "\u001b[32mINFO\u001b[0m:     112.196.126.3:0 - \"\u001b[1mGET /assets/persist-K7AY0ju4.js HTTP/1.1\u001b[0m\" \u001b[32m200 OK\u001b[0m\n",
            "\u001b[32mINFO\u001b[0m:     112.196.126.3:0 - \"\u001b[1mGET /assets/ProCta-W2PEvNow.js HTTP/1.1\u001b[0m\" \u001b[32m200 OK\u001b[0m\n",
            "\u001b[32mINFO\u001b[0m:     112.196.126.3:0 - \"\u001b[1mGET /assets/persist-DBTFy--v.js HTTP/1.1\u001b[0m\" \u001b[32m200 OK\u001b[0m\n",
            "\u001b[32mINFO\u001b[0m:     112.196.126.3:0 - \"\u001b[1mGET /assets/page-CbwI6emp.js HTTP/1.1\u001b[0m\" \u001b[32m200 OK\u001b[0m\n",
            "\u001b[1;35mt=2025-02-01T05:10:04+0000 lvl=info msg=\"join connections\" obj=join id=0d09be4073e0 l=127.0.0.1:8237 r=112.196.126.3:50011\u001b[0m\n"
          ]
        },
        {
          "output_type": "stream",
          "name": "stderr",
          "text": [
            "INFO:pyngrok.process.ngrok:t=2025-02-01T05:10:04+0000 lvl=info msg=\"join connections\" obj=join id=400bb9b622d9 l=127.0.0.1:8237 r=112.196.126.3:50011\n"
          ]
        },
        {
          "output_type": "stream",
          "name": "stdout",
          "text": [
            "\u001b[1;35mt=2025-02-01T05:10:04+0000 lvl=info msg=\"join connections\" obj=join id=400bb9b622d9 l=127.0.0.1:8237 r=112.196.126.3:50011\u001b[0m\n"
          ]
        },
        {
          "output_type": "stream",
          "name": "stderr",
          "text": [
            "INFO:pyngrok.process.ngrok:t=2025-02-01T05:10:04+0000 lvl=info msg=\"join connections\" obj=join id=d9f94ef4688a l=127.0.0.1:8237 r=112.196.126.3:50011\n"
          ]
        },
        {
          "output_type": "stream",
          "name": "stdout",
          "text": [
            "\u001b[1;35mt=2025-02-01T05:10:04+0000 lvl=info msg=\"join connections\" obj=join id=d9f94ef4688a l=127.0.0.1:8237 r=112.196.126.3:50011\u001b[0m\n"
          ]
        },
        {
          "output_type": "stream",
          "name": "stderr",
          "text": [
            "INFO:pyngrok.process.ngrok:t=2025-02-01T05:10:04+0000 lvl=info msg=\"join connections\" obj=join id=ecc11106c699 l=127.0.0.1:8237 r=112.196.126.3:50011\n"
          ]
        },
        {
          "output_type": "stream",
          "name": "stdout",
          "text": [
            "\u001b[1;35mt=2025-02-01T05:10:04+0000 lvl=info msg=\"join connections\" obj=join id=ecc11106c699 l=127.0.0.1:8237 r=112.196.126.3:50011\u001b[0m\n"
          ]
        },
        {
          "output_type": "stream",
          "name": "stderr",
          "text": [
            "INFO:pyngrok.process.ngrok:t=2025-02-01T05:10:04+0000 lvl=info msg=\"join connections\" obj=join id=f299a75e227d l=127.0.0.1:8237 r=112.196.126.3:50011\n"
          ]
        },
        {
          "output_type": "stream",
          "name": "stdout",
          "text": [
            "\u001b[1;35mt=2025-02-01T05:10:04+0000 lvl=info msg=\"join connections\" obj=join id=f299a75e227d l=127.0.0.1:8237 r=112.196.126.3:50011\u001b[0m\n"
          ]
        },
        {
          "output_type": "stream",
          "name": "stderr",
          "text": [
            "INFO:pyngrok.process.ngrok:t=2025-02-01T05:10:04+0000 lvl=info msg=\"join connections\" obj=join id=f3c4a479036a l=127.0.0.1:8237 r=112.196.126.3:50011\n"
          ]
        },
        {
          "output_type": "stream",
          "name": "stdout",
          "text": [
            "\u001b[1;35mt=2025-02-01T05:10:04+0000 lvl=info msg=\"join connections\" obj=join id=f3c4a479036a l=127.0.0.1:8237 r=112.196.126.3:50011\u001b[0m\n"
          ]
        },
        {
          "output_type": "stream",
          "name": "stderr",
          "text": [
            "INFO:pyngrok.process.ngrok:t=2025-02-01T05:10:04+0000 lvl=info msg=\"join connections\" obj=join id=d6b771a321b8 l=127.0.0.1:8237 r=112.196.126.3:50011\n"
          ]
        },
        {
          "output_type": "stream",
          "name": "stdout",
          "text": [
            "\u001b[1;35mt=2025-02-01T05:10:04+0000 lvl=info msg=\"join connections\" obj=join id=d6b771a321b8 l=127.0.0.1:8237 r=112.196.126.3:50011\u001b[0m\n"
          ]
        },
        {
          "output_type": "stream",
          "name": "stderr",
          "text": [
            "INFO:pyngrok.process.ngrok:t=2025-02-01T05:10:04+0000 lvl=info msg=\"join connections\" obj=join id=064cf66b8f67 l=127.0.0.1:8237 r=112.196.126.3:50011\n"
          ]
        },
        {
          "output_type": "stream",
          "name": "stdout",
          "text": [
            "\u001b[1;35mt=2025-02-01T05:10:04+0000 lvl=info msg=\"join connections\" obj=join id=064cf66b8f67 l=127.0.0.1:8237 r=112.196.126.3:50011\u001b[0m\n"
          ]
        },
        {
          "output_type": "stream",
          "name": "stderr",
          "text": [
            "INFO:pyngrok.process.ngrok:t=2025-02-01T05:10:04+0000 lvl=info msg=\"join connections\" obj=join id=339f3f68d81a l=127.0.0.1:8237 r=112.196.126.3:50011\n"
          ]
        },
        {
          "output_type": "stream",
          "name": "stdout",
          "text": [
            "\u001b[32mINFO\u001b[0m:     112.196.126.3:0 - \"\u001b[1mGET /assets/link-external-b9AXw_sW.js HTTP/1.1\u001b[0m\" \u001b[32m200 OK\u001b[0m\n",
            "\u001b[32mINFO\u001b[0m:     112.196.126.3:0 - \"\u001b[1mGET /assets/code-browser-CUFUIHfp.js HTTP/1.1\u001b[0m\" \u001b[32m200 OK\u001b[0m\n",
            "\u001b[32mINFO\u001b[0m:     112.196.126.3:0 - \"\u001b[1mGET /assets/ComponentBadge-BqQNUZgb.js HTTP/1.1\u001b[0m\" \u001b[32m200 OK\u001b[0m\n",
            "\u001b[32mINFO\u001b[0m:     112.196.126.3:0 - \"\u001b[1mGET /assets/ProviderRadio-B81Elxrc.js HTTP/1.1\u001b[0m\" \u001b[32m200 OK\u001b[0m\n",
            "\u001b[32mINFO\u001b[0m:     112.196.126.3:0 - \"\u001b[1mGET /assets/refresh-BjOeWlEq.js HTTP/1.1\u001b[0m\" \u001b[32m200 OK\u001b[0m\n",
            "\u001b[1;35mt=2025-02-01T05:10:04+0000 lvl=info msg=\"join connections\" obj=join id=339f3f68d81a l=127.0.0.1:8237 r=112.196.126.3:50011\u001b[0m\n"
          ]
        },
        {
          "output_type": "stream",
          "name": "stderr",
          "text": [
            "INFO:pyngrok.process.ngrok:t=2025-02-01T05:10:04+0000 lvl=info msg=\"join connections\" obj=join id=0376d1272b71 l=127.0.0.1:8237 r=112.196.126.3:50011\n"
          ]
        },
        {
          "output_type": "stream",
          "name": "stdout",
          "text": [
            "\u001b[1;35mt=2025-02-01T05:10:04+0000 lvl=info msg=\"join connections\" obj=join id=0376d1272b71 l=127.0.0.1:8237 r=112.196.126.3:50011\u001b[0m\n"
          ]
        },
        {
          "output_type": "stream",
          "name": "stderr",
          "text": [
            "INFO:pyngrok.process.ngrok:t=2025-02-01T05:10:04+0000 lvl=info msg=\"join connections\" obj=join id=10e9cd6c7b02 l=127.0.0.1:8237 r=112.196.126.3:50011\n"
          ]
        },
        {
          "output_type": "stream",
          "name": "stdout",
          "text": [
            "\u001b[1;35mt=2025-02-01T05:10:04+0000 lvl=info msg=\"join connections\" obj=join id=10e9cd6c7b02 l=127.0.0.1:8237 r=112.196.126.3:50011\u001b[0m\n"
          ]
        },
        {
          "output_type": "stream",
          "name": "stderr",
          "text": [
            "INFO:pyngrok.process.ngrok:t=2025-02-01T05:10:04+0000 lvl=info msg=\"join connections\" obj=join id=c64124dea373 l=127.0.0.1:8237 r=112.196.126.3:50011\n"
          ]
        },
        {
          "output_type": "stream",
          "name": "stdout",
          "text": [
            "\u001b[1;35mt=2025-02-01T05:10:04+0000 lvl=info msg=\"join connections\" obj=join id=c64124dea373 l=127.0.0.1:8237 r=112.196.126.3:50011\u001b[0m\n"
          ]
        },
        {
          "output_type": "stream",
          "name": "stderr",
          "text": [
            "INFO:pyngrok.process.ngrok:t=2025-02-01T05:10:04+0000 lvl=info msg=\"join connections\" obj=join id=fb495baaff92 l=127.0.0.1:8237 r=112.196.126.3:50011\n"
          ]
        },
        {
          "output_type": "stream",
          "name": "stdout",
          "text": [
            "\u001b[1;35mt=2025-02-01T05:10:04+0000 lvl=info msg=\"join connections\" obj=join id=fb495baaff92 l=127.0.0.1:8237 r=112.196.126.3:50011\u001b[0m\n",
            "\u001b[32mINFO\u001b[0m:     112.196.126.3:0 - \"\u001b[1mGET /assets/page-BaUDR9Ri.js HTTP/1.1\u001b[0m\" \u001b[32m200 OK\u001b[0m\n",
            "\u001b[32mINFO\u001b[0m:     112.196.126.3:0 - \"\u001b[1mGET /assets/Infobox-OQdkCLSP.js HTTP/1.1\u001b[0m\" \u001b[32m200 OK\u001b[0m\n",
            "\u001b[32mINFO\u001b[0m:     112.196.126.3:0 - \"\u001b[1mGET /assets/create-stack-7JzgAYAm.js HTTP/1.1\u001b[0m\" \u001b[32m200 OK\u001b[0m\n",
            "\u001b[32mINFO\u001b[0m:     112.196.126.3:0 - \"\u001b[1mGET /assets/logs-WMSM52RF.js HTTP/1.1\u001b[0m\" \u001b[32m200 OK\u001b[0m\n",
            "\u001b[32mINFO\u001b[0m:     112.196.126.3:0 - \"\u001b[1mGET /assets/page-yNh6PQKt.js HTTP/1.1\u001b[0m\" \u001b[32m200 OK\u001b[0m\n",
            "\u001b[32mINFO\u001b[0m:     112.196.126.3:0 - \"\u001b[1mGET /assets/NumberBox-Dtp3J6g5.js HTTP/1.1\u001b[0m\" \u001b[32m200 OK\u001b[0m\n",
            "\u001b[32mINFO\u001b[0m:     112.196.126.3:0 - \"\u001b[1mGET /assets/page-Dvbq1BoF.js HTTP/1.1\u001b[0m\" \u001b[32m200 OK\u001b[0m\n",
            "\u001b[32mINFO\u001b[0m:     112.196.126.3:0 - \"\u001b[1mGET /assets/Error-C1zbWr19.js HTTP/1.1\u001b[0m\" \u001b[32m200 OK\u001b[0m\n",
            "\u001b[32mINFO\u001b[0m:     112.196.126.3:0 - \"\u001b[1mGET /assets/ProBadge-D784iVNC.js HTTP/1.1\u001b[0m\" \u001b[32m200 OK\u001b[0m\n",
            "\u001b[32mINFO\u001b[0m:     112.196.126.3:0 - \"\u001b[1mGET /assets/zod-BwEbpOxH.js HTTP/1.1\u001b[0m\" \u001b[32m200 OK\u001b[0m\n",
            "\u001b[32mINFO\u001b[0m:     112.196.126.3:0 - \"\u001b[1mGET /assets/check-DloQpStc.js HTTP/1.1\u001b[0m\" \u001b[32m200 OK\u001b[0m\n",
            "\u001b[32mINFO\u001b[0m:     112.196.126.3:0 - \"\u001b[1mGET /assets/CodeSnippet-Qh1ae_DJ.js HTTP/1.1\u001b[0m\" \u001b[32m200 OK\u001b[0m\n",
            "\u001b[32mINFO\u001b[0m:     112.196.126.3:0 - \"\u001b[1mGET /assets/copy-C8XQA2Ug.js HTTP/1.1\u001b[0m\" \u001b[32m200 OK\u001b[0m\n",
            "\u001b[32mINFO\u001b[0m:     112.196.126.3:0 - \"\u001b[1mGET /assets/login-command-CkqxPtV3.js HTTP/1.1\u001b[0m\" \u001b[32m200 OK\u001b[0m\n",
            "\u001b[32mINFO\u001b[0m:     112.196.126.3:0 - \"\u001b[1mGET /assets/404-c8OuXDAT.js HTTP/1.1\u001b[0m\" \u001b[32m200 OK\u001b[0m\n",
            "\u001b[32mINFO\u001b[0m:     112.196.126.3:0 - \"\u001b[1mGET /assets/plus-tf1V2hTJ.js HTTP/1.1\u001b[0m\" \u001b[32m200 OK\u001b[0m\n",
            "\u001b[32mINFO\u001b[0m:     112.196.126.3:0 - \"\u001b[1mGET /assets/chevron-right-double-D7ojK9Co.js HTTP/1.1\u001b[0m\" \u001b[32m200 OK\u001b[0m\n",
            "\u001b[32mINFO\u001b[0m:     112.196.126.3:0 - \"\u001b[1mGET /assets/UsageReason-DXtPS5nE.js HTTP/1.1\u001b[0m\" \u001b[32m200 OK\u001b[0m\n",
            "\u001b[32mINFO\u001b[0m:     112.196.126.3:0 - \"\u001b[1mGET /assets/page-DyAuja95.js HTTP/1.1\u001b[0m\" \u001b[32m200 OK\u001b[0m\n",
            "\u001b[32mINFO\u001b[0m:     112.196.126.3:0 - \"\u001b[1mGET /assets/chevron-down-6JyMkfjR.js HTTP/1.1\u001b[0m\" \u001b[32m200 OK\u001b[0m\n",
            "\u001b[32mINFO\u001b[0m:     112.196.126.3:0 - \"\u001b[1mGET /assets/kubernetes-B2wmAJ1d.js HTTP/1.1\u001b[0m\" \u001b[32m200 OK\u001b[0m\n",
            "\u001b[32mINFO\u001b[0m:     112.196.126.3:0 - \"\u001b[1mGET /assets/gcp-CFtm4BA7.js HTTP/1.1\u001b[0m\" \u001b[32m200 OK\u001b[0m\n",
            "\u001b[32mINFO\u001b[0m:     112.196.126.3:0 - \"\u001b[1mGET /assets/help-Cc9bBIJH.js HTTP/1.1\u001b[0m\" \u001b[32m200 OK\u001b[0m\n",
            "\u001b[32mINFO\u001b[0m:     112.196.126.3:0 - \"\u001b[1mGET /assets/Tick-DSYBiuXU.js HTTP/1.1\u001b[0m\" \u001b[32m200 OK\u001b[0m\n",
            "\u001b[32mINFO\u001b[0m:     112.196.126.3:0 - \"\u001b[1mGET /assets/index.esm-Dy6Z9Ung.js HTTP/1.1\u001b[0m\" \u001b[32m200 OK\u001b[0m\n",
            "\u001b[32mINFO\u001b[0m:     112.196.126.3:0 - \"\u001b[1mGET /assets/EmptyState-BzdlCwp3.js HTTP/1.1\u001b[0m\" \u001b[32m200 OK\u001b[0m\n",
            "\u001b[32mINFO\u001b[0m:     112.196.126.3:0 - \"\u001b[1mGET /assets/form-schemas-B6PCV3Y4.js HTTP/1.1\u001b[0m\" \u001b[32m200 OK\u001b[0m\n",
            "\u001b[32mINFO\u001b[0m:     112.196.126.3:0 - \"\u001b[1mGET /assets/package-C6uypY4h.js HTTP/1.1\u001b[0m\" \u001b[32m200 OK\u001b[0m\n",
            "\u001b[32mINFO\u001b[0m:     112.196.126.3:0 - \"\u001b[1mGET /assets/rocket-DjT2cDvG.js HTTP/1.1\u001b[0m\" \u001b[32m200 OK\u001b[0m\n",
            "\u001b[32mINFO\u001b[0m:     112.196.126.3:0 - \"\u001b[1mGET /assets/check-circle-jNbX5-sR.js HTTP/1.1\u001b[0m\" \u001b[32m200 OK\u001b[0m\n",
            "\u001b[32mINFO\u001b[0m:     112.196.126.3:0 - \"\u001b[1mGET /assets/page-Aeu3v0MQ.js HTTP/1.1\u001b[0m\" \u001b[32m200 OK\u001b[0m\n",
            "\u001b[32mINFO\u001b[0m:     112.196.126.3:0 - \"\u001b[1mGET /assets/UpdatePasswordSchemas-HBNOeyoP.js HTTP/1.1\u001b[0m\" \u001b[32m200 OK\u001b[0m\n",
            "\u001b[32mINFO\u001b[0m:     112.196.126.3:0 - \"\u001b[1mGET /assets/CsvVizualization-O9cVIaL8.js HTTP/1.1\u001b[0m\" \u001b[32m200 OK\u001b[0m\n",
            "\u001b[32mINFO\u001b[0m:     112.196.126.3:0 - \"\u001b[1mGET /assets/Helpbox-Bm_1Zx9f.js HTTP/1.1\u001b[0m\" \u001b[32m200 OK\u001b[0m\n",
            "\u001b[32mINFO\u001b[0m:     112.196.126.3:0 - \"\u001b[1mGET /assets/url-BWJXzuI4.js HTTP/1.1\u001b[0m\" \u001b[32m200 OK\u001b[0m\n",
            "\u001b[32mINFO\u001b[0m:     112.196.126.3:0 - \"\u001b[1mGET /assets/MarkdownVisualization-ylXaAxev.js HTTP/1.1\u001b[0m\" \u001b[32m200 OK\u001b[0m\n",
            "\u001b[32mINFO\u001b[0m:     112.196.126.3:0 - \"\u001b[1mGET /assets/page-OdjGauvw.js HTTP/1.1\u001b[0m\" \u001b[32m200 OK\u001b[0m\n"
          ]
        },
        {
          "output_type": "stream",
          "name": "stderr",
          "text": [
            "INFO:pyngrok.process.ngrok:t=2025-02-01T05:10:07+0000 lvl=info msg=\"join connections\" obj=join id=4409d18c4812 l=127.0.0.1:8237 r=112.196.126.3:50011\n"
          ]
        },
        {
          "output_type": "stream",
          "name": "stdout",
          "text": [
            "\u001b[32mINFO\u001b[0m:     112.196.126.3:0 - \"\u001b[1mGET /assets/stack-detail-query-DMJoxwgv.js HTTP/1.1\u001b[0m\" \u001b[32m200 OK\u001b[0m\n",
            "\u001b[32mINFO\u001b[0m:     112.196.126.3:0 - \"\u001b[1mGET /assets/Error-C1zbWr19.js HTTP/1.1\u001b[0m\" \u001b[32m200 OK\u001b[0m\n",
            "\u001b[1;35mt=2025-02-01T05:10:07+0000 lvl=info msg=\"join connections\" obj=join id=4409d18c4812 l=127.0.0.1:8237 r=112.196.126.3:50011\u001b[0m\n"
          ]
        },
        {
          "output_type": "stream",
          "name": "stderr",
          "text": [
            "INFO:pyngrok.process.ngrok:t=2025-02-01T05:10:07+0000 lvl=info msg=\"join connections\" obj=join id=fbce70ff3fb1 l=127.0.0.1:8237 r=112.196.126.3:50011\n"
          ]
        },
        {
          "output_type": "stream",
          "name": "stdout",
          "text": [
            "\u001b[1;35mt=2025-02-01T05:10:07+0000 lvl=info msg=\"join connections\" obj=join id=fbce70ff3fb1 l=127.0.0.1:8237 r=112.196.126.3:50011\u001b[0m\n"
          ]
        },
        {
          "output_type": "stream",
          "name": "stderr",
          "text": [
            "INFO:pyngrok.process.ngrok:t=2025-02-01T05:10:07+0000 lvl=info msg=\"join connections\" obj=join id=97bf01c49647 l=127.0.0.1:8237 r=112.196.126.3:50011\n"
          ]
        },
        {
          "output_type": "stream",
          "name": "stdout",
          "text": [
            "\u001b[1;35mt=2025-02-01T05:10:07+0000 lvl=info msg=\"join connections\" obj=join id=97bf01c49647 l=127.0.0.1:8237 r=112.196.126.3:50011\u001b[0m\n"
          ]
        },
        {
          "output_type": "stream",
          "name": "stderr",
          "text": [
            "INFO:pyngrok.process.ngrok:t=2025-02-01T05:10:07+0000 lvl=info msg=\"join connections\" obj=join id=c471b92304ea l=127.0.0.1:8237 r=112.196.126.3:50011\n"
          ]
        },
        {
          "output_type": "stream",
          "name": "stdout",
          "text": [
            "\u001b[1;35mt=2025-02-01T05:10:07+0000 lvl=info msg=\"join connections\" obj=join id=c471b92304ea l=127.0.0.1:8237 r=112.196.126.3:50011\u001b[0m\n"
          ]
        },
        {
          "output_type": "stream",
          "name": "stderr",
          "text": [
            "INFO:pyngrok.process.ngrok:t=2025-02-01T05:10:07+0000 lvl=info msg=\"join connections\" obj=join id=80d4c3c365e3 l=127.0.0.1:8237 r=112.196.126.3:50011\n"
          ]
        },
        {
          "output_type": "stream",
          "name": "stdout",
          "text": [
            "\u001b[1;35mt=2025-02-01T05:10:07+0000 lvl=info msg=\"join connections\" obj=join id=80d4c3c365e3 l=127.0.0.1:8237 r=112.196.126.3:50011\u001b[0m\n"
          ]
        },
        {
          "output_type": "stream",
          "name": "stderr",
          "text": [
            "INFO:pyngrok.process.ngrok:t=2025-02-01T05:10:07+0000 lvl=info msg=\"join connections\" obj=join id=d0332140e3e1 l=127.0.0.1:8237 r=112.196.126.3:50011\n"
          ]
        },
        {
          "output_type": "stream",
          "name": "stdout",
          "text": [
            "\u001b[1;35mt=2025-02-01T05:10:07+0000 lvl=info msg=\"join connections\" obj=join id=d0332140e3e1 l=127.0.0.1:8237 r=112.196.126.3:50011\u001b[0m\n"
          ]
        },
        {
          "output_type": "stream",
          "name": "stderr",
          "text": [
            "INFO:pyngrok.process.ngrok:t=2025-02-01T05:10:07+0000 lvl=info msg=\"join connections\" obj=join id=d2670732641a l=127.0.0.1:8237 r=112.196.126.3:50011\n"
          ]
        },
        {
          "output_type": "stream",
          "name": "stdout",
          "text": [
            "\u001b[1;35mt=2025-02-01T05:10:07+0000 lvl=info msg=\"join connections\" obj=join id=d2670732641a l=127.0.0.1:8237 r=112.196.126.3:50011\u001b[0m\n"
          ]
        },
        {
          "output_type": "stream",
          "name": "stderr",
          "text": [
            "INFO:pyngrok.process.ngrok:t=2025-02-01T05:10:07+0000 lvl=info msg=\"join connections\" obj=join id=b218176408a1 l=127.0.0.1:8237 r=112.196.126.3:50011\n"
          ]
        },
        {
          "output_type": "stream",
          "name": "stdout",
          "text": [
            "\u001b[1;35mt=2025-02-01T05:10:07+0000 lvl=info msg=\"join connections\" obj=join id=b218176408a1 l=127.0.0.1:8237 r=112.196.126.3:50011\u001b[0m\n"
          ]
        },
        {
          "output_type": "stream",
          "name": "stderr",
          "text": [
            "INFO:pyngrok.process.ngrok:t=2025-02-01T05:10:07+0000 lvl=info msg=\"join connections\" obj=join id=ca4a1d99688a l=127.0.0.1:8237 r=112.196.126.3:50011\n"
          ]
        },
        {
          "output_type": "stream",
          "name": "stdout",
          "text": [
            "\u001b[1;35mt=2025-02-01T05:10:07+0000 lvl=info msg=\"join connections\" obj=join id=ca4a1d99688a l=127.0.0.1:8237 r=112.196.126.3:50011\u001b[0m\n"
          ]
        },
        {
          "output_type": "stream",
          "name": "stderr",
          "text": [
            "INFO:pyngrok.process.ngrok:t=2025-02-01T05:10:07+0000 lvl=info msg=\"join connections\" obj=join id=ba6f5a6b48e5 l=127.0.0.1:8237 r=112.196.126.3:50011\n"
          ]
        },
        {
          "output_type": "stream",
          "name": "stdout",
          "text": [
            "\u001b[1;35mt=2025-02-01T05:10:07+0000 lvl=info msg=\"join connections\" obj=join id=ba6f5a6b48e5 l=127.0.0.1:8237 r=112.196.126.3:50011\u001b[0m\n"
          ]
        },
        {
          "output_type": "stream",
          "name": "stderr",
          "text": [
            "INFO:pyngrok.process.ngrok:t=2025-02-01T05:10:07+0000 lvl=info msg=\"join connections\" obj=join id=d4e615690c07 l=127.0.0.1:8237 r=112.196.126.3:50011\n"
          ]
        },
        {
          "output_type": "stream",
          "name": "stdout",
          "text": [
            "\u001b[1;35mt=2025-02-01T05:10:07+0000 lvl=info msg=\"join connections\" obj=join id=d4e615690c07 l=127.0.0.1:8237 r=112.196.126.3:50011\u001b[0m\n"
          ]
        },
        {
          "output_type": "stream",
          "name": "stderr",
          "text": [
            "INFO:pyngrok.process.ngrok:t=2025-02-01T05:10:07+0000 lvl=info msg=\"join connections\" obj=join id=b4259f49842a l=127.0.0.1:8237 r=112.196.126.3:50011\n"
          ]
        },
        {
          "output_type": "stream",
          "name": "stdout",
          "text": [
            "\u001b[1;35mt=2025-02-01T05:10:07+0000 lvl=info msg=\"join connections\" obj=join id=b4259f49842a l=127.0.0.1:8237 r=112.196.126.3:50011\u001b[0m\n"
          ]
        },
        {
          "output_type": "stream",
          "name": "stderr",
          "text": [
            "INFO:pyngrok.process.ngrok:t=2025-02-01T05:10:07+0000 lvl=info msg=\"join connections\" obj=join id=3c59a87cbc44 l=127.0.0.1:8237 r=112.196.126.3:50011\n"
          ]
        },
        {
          "output_type": "stream",
          "name": "stdout",
          "text": [
            "\u001b[1;35mt=2025-02-01T05:10:07+0000 lvl=info msg=\"join connections\" obj=join id=3c59a87cbc44 l=127.0.0.1:8237 r=112.196.126.3:50011\u001b[0m\n"
          ]
        },
        {
          "output_type": "stream",
          "name": "stderr",
          "text": [
            "INFO:pyngrok.process.ngrok:t=2025-02-01T05:10:07+0000 lvl=info msg=\"join connections\" obj=join id=cff6d6fdbd9b l=127.0.0.1:8237 r=112.196.126.3:50011\n"
          ]
        },
        {
          "output_type": "stream",
          "name": "stdout",
          "text": [
            "\u001b[1;35mt=2025-02-01T05:10:07+0000 lvl=info msg=\"join connections\" obj=join id=cff6d6fdbd9b l=127.0.0.1:8237 r=112.196.126.3:50011\u001b[0m\n"
          ]
        },
        {
          "output_type": "stream",
          "name": "stderr",
          "text": [
            "INFO:pyngrok.process.ngrok:t=2025-02-01T05:10:07+0000 lvl=info msg=\"join connections\" obj=join id=95885c1f3fb2 l=127.0.0.1:8237 r=112.196.126.3:50011\n"
          ]
        },
        {
          "output_type": "stream",
          "name": "stdout",
          "text": [
            "\u001b[1;35mt=2025-02-01T05:10:07+0000 lvl=info msg=\"join connections\" obj=join id=95885c1f3fb2 l=127.0.0.1:8237 r=112.196.126.3:50011\u001b[0m\n",
            "\u001b[32mINFO\u001b[0m:     112.196.126.3:0 - \"\u001b[1mGET /assets/code-snippets-CqONne41.js HTTP/1.1\u001b[0m\" \u001b[32m200 OK\u001b[0m\n",
            "\u001b[32mINFO\u001b[0m:     112.196.126.3:0 - \"\u001b[1mGET /assets/plus-tf1V2hTJ.js HTTP/1.1\u001b[0m\" \u001b[32m200 OK\u001b[0m\n",
            "\u001b[32mINFO\u001b[0m:     112.196.126.3:0 - \"\u001b[1mGET /assets/CollapsibleCard-TiI4lId1.js HTTP/1.1\u001b[0m\" \u001b[32m200 OK\u001b[0m\n",
            "\u001b[32mINFO\u001b[0m:     112.196.126.3:0 - \"\u001b[1mGET /assets/EmptyState-BzdlCwp3.js HTTP/1.1\u001b[0m\" \u001b[32m200 OK\u001b[0m\n",
            "\u001b[32mINFO\u001b[0m:     112.196.126.3:0 - \"\u001b[1mGET /assets/tick-circle-BEX_Tp4v.js HTTP/1.1\u001b[0m\" \u001b[32m200 OK\u001b[0m\n",
            "\u001b[32mINFO\u001b[0m:     112.196.126.3:0 - \"\u001b[1mGET /assets/ComponentBadge-BqQNUZgb.js HTTP/1.1\u001b[0m\" \u001b[32m200 OK\u001b[0m\n",
            "\u001b[32mINFO\u001b[0m:     112.196.126.3:0 - \"\u001b[1mGET /assets/dates-3pMLCNrD.js HTTP/1.1\u001b[0m\" \u001b[32m200 OK\u001b[0m\n",
            "\u001b[32mINFO\u001b[0m:     112.196.126.3:0 - \"\u001b[1mGET /assets/NestedCollapsible-DDgd2SGb.js HTTP/1.1\u001b[0m\" \u001b[32m200 OK\u001b[0m\n",
            "\u001b[32mINFO\u001b[0m:     112.196.126.3:0 - \"\u001b[1mGET /assets/logs-WMSM52RF.js HTTP/1.1\u001b[0m\" \u001b[32m200 OK\u001b[0m\n",
            "\u001b[32mINFO\u001b[0m:     112.196.126.3:0 - \"\u001b[1mGET /assets/chevron-down-6JyMkfjR.js HTTP/1.1\u001b[0m\" \u001b[32m200 OK\u001b[0m\n",
            "\u001b[32mINFO\u001b[0m:     112.196.126.3:0 - \"\u001b[1mGET /assets/rocket-DjT2cDvG.js HTTP/1.1\u001b[0m\" \u001b[32m200 OK\u001b[0m\n",
            "\u001b[32mINFO\u001b[0m:     112.196.126.3:0 - \"\u001b[1mGET /assets/docker-BdA9vrnW.js HTTP/1.1\u001b[0m\" \u001b[32m200 OK\u001b[0m\n",
            "\u001b[32mINFO\u001b[0m:     112.196.126.3:0 - \"\u001b[1mGET /assets/index-D4yoZ_gH.js HTTP/1.1\u001b[0m\" \u001b[32m200 OK\u001b[0m\n",
            "\u001b[32mINFO\u001b[0m:     112.196.126.3:0 - \"\u001b[1mGET /assets/layout-BtHBmE4w.js HTTP/1.1\u001b[0m\" \u001b[32m200 OK\u001b[0m\n",
            "\u001b[32mINFO\u001b[0m:     112.196.126.3:0 - \"\u001b[1mGET /assets/code-browser-CUFUIHfp.js HTTP/1.1\u001b[0m\" \u001b[32m200 OK\u001b[0m\n",
            "\u001b[32mINFO\u001b[0m:     112.196.126.3:0 - \"\u001b[1mGET /api/v1/info HTTP/1.1\u001b[0m\" \u001b[32m200 OK\u001b[0m\n",
            "\u001b[32mINFO\u001b[0m:     112.196.126.3:0 - \"\u001b[1mGET /api/v1/runs/fc595e1d-829e-49d8-87e7-62f8ecc67c6f HTTP/1.1\u001b[0m\" \u001b[32m200 OK\u001b[0m\n",
            "\u001b[32mINFO\u001b[0m:     112.196.126.3:0 - \"\u001b[1mGET /api/v1/runs?page=1&sort_by=desc%3Aupdated HTTP/1.1\u001b[0m\" \u001b[32m200 OK\u001b[0m\n"
          ]
        },
        {
          "output_type": "stream",
          "name": "stderr",
          "text": [
            "INFO:pyngrok.process.ngrok:t=2025-02-01T05:10:13+0000 lvl=info msg=\"join connections\" obj=join id=4e48795de2ea l=127.0.0.1:8237 r=112.196.126.3:50011\n"
          ]
        },
        {
          "output_type": "stream",
          "name": "stdout",
          "text": [
            "\u001b[32mINFO\u001b[0m:     112.196.126.3:0 - \"\u001b[1mGET /api/v1/pipeline_deployments/6ebc2e31-bb21-4263-94f3-3555fb590cd8 HTTP/1.1\u001b[0m\" \u001b[32m200 OK\u001b[0m\n",
            "\u001b[1;35mt=2025-02-01T05:10:13+0000 lvl=info msg=\"join connections\" obj=join id=4e48795de2ea l=127.0.0.1:8237 r=112.196.126.3:50011\u001b[0m\n"
          ]
        },
        {
          "output_type": "stream",
          "name": "stderr",
          "text": [
            "INFO:pyngrok.process.ngrok:t=2025-02-01T05:10:13+0000 lvl=info msg=\"join connections\" obj=join id=b61e6b872516 l=127.0.0.1:8237 r=112.196.126.3:50011\n"
          ]
        },
        {
          "output_type": "stream",
          "name": "stdout",
          "text": [
            "\u001b[1;35mt=2025-02-01T05:10:13+0000 lvl=info msg=\"join connections\" obj=join id=b61e6b872516 l=127.0.0.1:8237 r=112.196.126.3:50011\u001b[0m\n",
            "\u001b[32mINFO\u001b[0m:     112.196.126.3:0 - \"\u001b[1mGET /api/v1/info HTTP/1.1\u001b[0m\" \u001b[32m200 OK\u001b[0m\n",
            "\u001b[32mINFO\u001b[0m:     112.196.126.3:0 - \"\u001b[1mGET /api/v1/runs/fc595e1d-829e-49d8-87e7-62f8ecc67c6f HTTP/1.1\u001b[0m\" \u001b[32m200 OK\u001b[0m\n"
          ]
        },
        {
          "output_type": "stream",
          "name": "stderr",
          "text": [
            "INFO:pyngrok.process.ngrok:t=2025-02-01T05:10:24+0000 lvl=info msg=\"join connections\" obj=join id=5d4d27a05661 l=127.0.0.1:8237 r=112.196.126.3:50011\n"
          ]
        },
        {
          "output_type": "stream",
          "name": "stdout",
          "text": [
            "\u001b[1;35mt=2025-02-01T05:10:24+0000 lvl=info msg=\"join connections\" obj=join id=5d4d27a05661 l=127.0.0.1:8237 r=112.196.126.3:50011\u001b[0m\n",
            "\u001b[32mINFO\u001b[0m:     112.196.126.3:0 - \"\u001b[1mGET /api/v1/artifact_versions/ac7da31d-2713-4eda-b93a-cbf114eb76aa HTTP/1.1\u001b[0m\" \u001b[32m200 OK\u001b[0m\n"
          ]
        },
        {
          "output_type": "stream",
          "name": "stderr",
          "text": [
            "INFO:pyngrok.process.ngrok:t=2025-02-01T05:10:25+0000 lvl=info msg=\"join connections\" obj=join id=f111398af372 l=127.0.0.1:8237 r=112.196.126.3:50011\n"
          ]
        },
        {
          "output_type": "stream",
          "name": "stdout",
          "text": [
            "\u001b[32mINFO\u001b[0m:     112.196.126.3:0 - \"\u001b[1mGET /api/v1/runs/29d0ff13-7d76-466b-8c23-4b1908f30229 HTTP/1.1\u001b[0m\" \u001b[32m200 OK\u001b[0m\n",
            "\u001b[1;35mt=2025-02-01T05:10:25+0000 lvl=info msg=\"join connections\" obj=join id=f111398af372 l=127.0.0.1:8237 r=112.196.126.3:50011\u001b[0m\n"
          ]
        },
        {
          "output_type": "stream",
          "name": "stderr",
          "text": [
            "INFO:pyngrok.process.ngrok:t=2025-02-01T05:10:25+0000 lvl=info msg=\"join connections\" obj=join id=da65a421a4a6 l=127.0.0.1:8237 r=112.196.126.3:50011\n"
          ]
        },
        {
          "output_type": "stream",
          "name": "stdout",
          "text": [
            "\u001b[1;35mt=2025-02-01T05:10:25+0000 lvl=info msg=\"join connections\" obj=join id=da65a421a4a6 l=127.0.0.1:8237 r=112.196.126.3:50011\u001b[0m\n",
            "\u001b[32mINFO\u001b[0m:     112.196.126.3:0 - \"\u001b[1mGET /api/v1/components/8e97f7de-346f-48ab-bf97-ea785a914318 HTTP/1.1\u001b[0m\" \u001b[32m200 OK\u001b[0m\n"
          ]
        },
        {
          "output_type": "stream",
          "name": "stderr",
          "text": [
            "INFO:pyngrok.process.ngrok:t=2025-02-01T05:10:25+0000 lvl=info msg=\"join connections\" obj=join id=ad6287a087c3 l=127.0.0.1:8237 r=112.196.126.3:50011\n"
          ]
        },
        {
          "output_type": "stream",
          "name": "stdout",
          "text": [
            "\u001b[1;35mt=2025-02-01T05:10:25+0000 lvl=info msg=\"join connections\" obj=join id=ad6287a087c3 l=127.0.0.1:8237 r=112.196.126.3:50011\u001b[0m\n",
            "\u001b[32mINFO\u001b[0m:     112.196.126.3:0 - \"\u001b[1mGET /api/v1/steps/b8d60b84-1755-45da-80b3-18f25b5567fa HTTP/1.1\u001b[0m\" \u001b[32m200 OK\u001b[0m\n",
            "\u001b[32mINFO\u001b[0m:     112.196.126.3:0 - \"\u001b[1mGET /api/v1/artifact_versions/ac7da31d-2713-4eda-b93a-cbf114eb76aa HTTP/1.1\u001b[0m\" \u001b[32m200 OK\u001b[0m\n",
            "\u001b[32mINFO\u001b[0m:     112.196.126.3:0 - \"\u001b[1mGET /api/v1/artifact_versions/ac7da31d-2713-4eda-b93a-cbf114eb76aa HTTP/1.1\u001b[0m\" \u001b[32m200 OK\u001b[0m\n",
            "\u001b[32mINFO\u001b[0m:     112.196.126.3:0 - \"\u001b[1mGET /api/v1/artifact_versions/ac7da31d-2713-4eda-b93a-cbf114eb76aa/visualize HTTP/1.1\u001b[0m\" \u001b[32m200 OK\u001b[0m\n"
          ]
        },
        {
          "output_type": "stream",
          "name": "stderr",
          "text": [
            "INFO:pyngrok.process.ngrok:t=2025-02-01T05:10:51+0000 lvl=info msg=\"join connections\" obj=join id=8f16d5a07eab l=127.0.0.1:8237 r=112.196.126.3:50011\n"
          ]
        },
        {
          "output_type": "stream",
          "name": "stdout",
          "text": [
            "\u001b[1;35mt=2025-02-01T05:10:51+0000 lvl=info msg=\"join connections\" obj=join id=8f16d5a07eab l=127.0.0.1:8237 r=112.196.126.3:50011\u001b[0m\n"
          ]
        },
        {
          "output_type": "stream",
          "name": "stderr",
          "text": [
            "INFO:pyngrok.process.ngrok:t=2025-02-01T05:10:51+0000 lvl=info msg=\"join connections\" obj=join id=5482551a10c5 l=127.0.0.1:8237 r=112.196.126.3:50011\n"
          ]
        },
        {
          "output_type": "stream",
          "name": "stdout",
          "text": [
            "\u001b[1;35mt=2025-02-01T05:10:51+0000 lvl=info msg=\"join connections\" obj=join id=5482551a10c5 l=127.0.0.1:8237 r=112.196.126.3:50011\u001b[0m\n"
          ]
        },
        {
          "output_type": "stream",
          "name": "stderr",
          "text": [
            "INFO:pyngrok.process.ngrok:t=2025-02-01T05:10:51+0000 lvl=info msg=\"join connections\" obj=join id=bb82d6068989 l=127.0.0.1:8237 r=112.196.126.3:50011\n"
          ]
        },
        {
          "output_type": "stream",
          "name": "stdout",
          "text": [
            "\u001b[32mINFO\u001b[0m:     112.196.126.3:0 - \"\u001b[1mGET /api/v1/info HTTP/1.1\u001b[0m\" \u001b[32m200 OK\u001b[0m\n",
            "\u001b[32mINFO\u001b[0m:     112.196.126.3:0 - \"\u001b[1mGET /api/v1/settings HTTP/1.1\u001b[0m\" \u001b[32m200 OK\u001b[0m\n",
            "\u001b[1;35mt=2025-02-01T05:10:51+0000 lvl=info msg=\"join connections\" obj=join id=bb82d6068989 l=127.0.0.1:8237 r=112.196.126.3:50011\u001b[0m\n"
          ]
        },
        {
          "output_type": "stream",
          "name": "stderr",
          "text": [
            "INFO:pyngrok.process.ngrok:t=2025-02-01T05:10:51+0000 lvl=info msg=\"join connections\" obj=join id=1bf7f8391604 l=127.0.0.1:8237 r=112.196.126.3:50011\n"
          ]
        },
        {
          "output_type": "stream",
          "name": "stdout",
          "text": [
            "\u001b[1;35mt=2025-02-01T05:10:51+0000 lvl=info msg=\"join connections\" obj=join id=1bf7f8391604 l=127.0.0.1:8237 r=112.196.126.3:50011\u001b[0m\n"
          ]
        },
        {
          "output_type": "stream",
          "name": "stderr",
          "text": [
            "INFO:pyngrok.process.ngrok:t=2025-02-01T05:10:51+0000 lvl=info msg=\"join connections\" obj=join id=40e9fd4c04d9 l=127.0.0.1:8237 r=112.196.126.3:50011\n"
          ]
        },
        {
          "output_type": "stream",
          "name": "stdout",
          "text": [
            "\u001b[1;35mt=2025-02-01T05:10:51+0000 lvl=info msg=\"join connections\" obj=join id=40e9fd4c04d9 l=127.0.0.1:8237 r=112.196.126.3:50011\u001b[0m\n"
          ]
        },
        {
          "output_type": "stream",
          "name": "stderr",
          "text": [
            "INFO:pyngrok.process.ngrok:t=2025-02-01T05:10:51+0000 lvl=info msg=\"join connections\" obj=join id=544cfcd107b6 l=127.0.0.1:8237 r=112.196.126.3:50011\n"
          ]
        },
        {
          "output_type": "stream",
          "name": "stdout",
          "text": [
            "\u001b[1;35mt=2025-02-01T05:10:51+0000 lvl=info msg=\"join connections\" obj=join id=544cfcd107b6 l=127.0.0.1:8237 r=112.196.126.3:50011\u001b[0m\n",
            "\u001b[32mINFO\u001b[0m:     112.196.126.3:0 - \"\u001b[1mGET /api/v1/pipeline_deployments/6ebc2e31-bb21-4263-94f3-3555fb590cd8 HTTP/1.1\u001b[0m\" \u001b[32m200 OK\u001b[0m\n",
            "\u001b[31mAn error occurred while processing the request\u001b[0m\n",
            "Traceback (most recent call last):\n",
            "  File \"/usr/local/lib/python3.11/dist-packages/anyio/streams/memory.py\", line 98, in receive\n",
            "    return self.receive_nowait()\n",
            "           ^^^^^^^^^^^^^^^^^^^^^\n",
            "  File \"/usr/local/lib/python3.11/dist-packages/anyio/streams/memory.py\", line 93, in receive_nowait\n",
            "    raise WouldBlock\n",
            "anyio.WouldBlock\n",
            "\n",
            "During handling of the above exception, another exception occurred:\n",
            "\n",
            "Traceback (most recent call last):\n",
            "  File \"/usr/local/lib/python3.11/dist-packages/starlette/middleware/base.py\", line 159, in call_next\n",
            "    message = await recv_stream.receive()\n",
            "              ^^^^^^^^^^^^^^^^^^^^^^^^^^^\n",
            "  File \"/usr/local/lib/python3.11/dist-packages/anyio/streams/memory.py\", line 118, in receive\n",
            "    raise EndOfStream\n",
            "anyio.EndOfStream\n",
            "\n",
            "During handling of the above exception, another exception occurred:\n",
            "\n",
            "Traceback (most recent call last):\n",
            "  File \"/usr/local/lib/python3.11/dist-packages/zenml/zen_server/zen_server_api.py\", line 328, in track_last_user_activity\n",
            "    return await call_next(request)\n",
            "           ^^^^^^^^^^^^^^^^^^^^^^^^\n",
            "  File \"/usr/local/lib/python3.11/dist-packages/starlette/middleware/base.py\", line 166, in call_next\n",
            "    raise RuntimeError(\"No response returned.\")\n",
            "RuntimeError: No response returned.\n",
            "\u001b[31mAn error occurred while processing the request\u001b[0m\n",
            "Traceback (most recent call last):\n",
            "  File \"/usr/local/lib/python3.11/dist-packages/anyio/streams/memory.py\", line 98, in receive\n",
            "    return self.receive_nowait()\n",
            "           ^^^^^^^^^^^^^^^^^^^^^\n",
            "  File \"/usr/local/lib/python3.11/dist-packages/anyio/streams/memory.py\", line 93, in receive_nowait\n",
            "    raise WouldBlock\n",
            "anyio.WouldBlock\n",
            "\n",
            "During handling of the above exception, another exception occurred:\n",
            "\n",
            "Traceback (most recent call last):\n",
            "  File \"/usr/local/lib/python3.11/dist-packages/starlette/middleware/base.py\", line 159, in call_next\n",
            "    message = await recv_stream.receive()\n",
            "              ^^^^^^^^^^^^^^^^^^^^^^^^^^^\n",
            "  File \"/usr/local/lib/python3.11/dist-packages/anyio/streams/memory.py\", line 118, in receive\n",
            "    raise EndOfStream\n",
            "anyio.EndOfStream\n",
            "\n",
            "During handling of the above exception, another exception occurred:\n",
            "\n",
            "Traceback (most recent call last):\n",
            "  File \"/usr/local/lib/python3.11/dist-packages/zenml/zen_server/zen_server_api.py\", line 328, in track_last_user_activity\n",
            "    return await call_next(request)\n",
            "           ^^^^^^^^^^^^^^^^^^^^^^^^\n",
            "  File \"/usr/local/lib/python3.11/dist-packages/starlette/middleware/base.py\", line 166, in call_next\n",
            "    raise RuntimeError(\"No response returned.\")\n",
            "RuntimeError: No response returned.\n",
            "\u001b[31mAn error occurred while processing the request\u001b[0m\n",
            "Traceback (most recent call last):\n",
            "  File \"/usr/local/lib/python3.11/dist-packages/anyio/streams/memory.py\", line 98, in receive\n",
            "    return self.receive_nowait()\n",
            "           ^^^^^^^^^^^^^^^^^^^^^\n",
            "  File \"/usr/local/lib/python3.11/dist-packages/anyio/streams/memory.py\", line 93, in receive_nowait\n",
            "    raise WouldBlock\n",
            "anyio.WouldBlock\n",
            "\n",
            "During handling of the above exception, another exception occurred:\n",
            "\n",
            "Traceback (most recent call last):\n",
            "  File \"/usr/local/lib/python3.11/dist-packages/starlette/middleware/base.py\", line 159, in call_next\n",
            "    message = await recv_stream.receive()\n",
            "              ^^^^^^^^^^^^^^^^^^^^^^^^^^^\n",
            "  File \"/usr/local/lib/python3.11/dist-packages/anyio/streams/memory.py\", line 118, in receive\n",
            "    raise EndOfStream\n",
            "anyio.EndOfStream\n",
            "\n",
            "During handling of the above exception, another exception occurred:\n",
            "\n",
            "Traceback (most recent call last):\n",
            "  File \"/usr/local/lib/python3.11/dist-packages/zenml/zen_server/zen_server_api.py\", line 328, in track_last_user_activity\n",
            "    return await call_next(request)\n",
            "           ^^^^^^^^^^^^^^^^^^^^^^^^\n",
            "  File \"/usr/local/lib/python3.11/dist-packages/starlette/middleware/base.py\", line 166, in call_next\n",
            "    raise RuntimeError(\"No response returned.\")\n",
            "RuntimeError: No response returned.\n"
          ]
        },
        {
          "output_type": "stream",
          "name": "stderr",
          "text": [
            "INFO:pyngrok.process.ngrok:t=2025-02-01T05:10:55+0000 lvl=info msg=\"received stop request\" obj=app stopReq=\"{err:<nil> restart:false}\"\n"
          ]
        },
        {
          "output_type": "stream",
          "name": "stdout",
          "text": [
            "\u001b[1;35mt=2025-02-01T05:10:55+0000 lvl=info msg=\"received stop request\" obj=app stopReq=\"{err:<nil> restart:false}\"\u001b[0m\n"
          ]
        },
        {
          "output_type": "stream",
          "name": "stderr",
          "text": [
            "INFO:pyngrok.process.ngrok:t=2025-02-01T05:10:55+0000 lvl=info msg=\"session closing\" obj=tunnels.session err=nil\n"
          ]
        },
        {
          "output_type": "stream",
          "name": "stdout",
          "text": [
            "\u001b[1;35mt=2025-02-01T05:10:55+0000 lvl=info msg=\"session closing\" obj=tunnels.session err=nil\u001b[0m\n",
            "\u001b[32mINFO\u001b[0m:     Shutting down\n",
            "\u001b[32mINFO\u001b[0m:     Finished server process [\u001b[36m11902\u001b[0m]\n",
            "\u001b[31mERROR\u001b[0m:    Traceback (most recent call last):\n",
            "  File \"/usr/lib/python3.11/asyncio/runners.py\", line 190, in run\n",
            "    return runner.run(main)\n",
            "           ^^^^^^^^^^^^^^^^\n",
            "  File \"/usr/lib/python3.11/asyncio/runners.py\", line 118, in run\n",
            "    return self._loop.run_until_complete(task)\n",
            "           ^^^^^^^^^^^^^^^^^^^^^^^^^^^^^^^^^^^\n",
            "  File \"uvloop/loop.pyx\", line 1512, in uvloop.loop.Loop.run_until_complete\n",
            "  File \"uvloop/loop.pyx\", line 1505, in uvloop.loop.Loop.run_until_complete\n",
            "  File \"uvloop/loop.pyx\", line 1379, in uvloop.loop.Loop.run_forever\n",
            "  File \"uvloop/loop.pyx\", line 557, in uvloop.loop.Loop._run\n",
            "  File \"uvloop/loop.pyx\", line 476, in uvloop.loop.Loop._on_idle\n",
            "  File \"uvloop/cbhandles.pyx\", line 83, in uvloop.loop.Handle._run\n",
            "  File \"uvloop/cbhandles.pyx\", line 63, in uvloop.loop.Handle._run\n",
            "  File \"/usr/local/lib/python3.11/dist-packages/uvicorn/server.py\", line 69, in serve\n",
            "    with self.capture_signals():\n",
            "  File \"/usr/lib/python3.11/contextlib.py\", line 144, in __exit__\n",
            "    next(self.gen)\n",
            "  File \"/usr/local/lib/python3.11/dist-packages/uvicorn/server.py\", line 330, in capture_signals\n",
            "    signal.raise_signal(captured_signal)\n",
            "  File \"/usr/lib/python3.11/asyncio/runners.py\", line 157, in _on_sigint\n",
            "    raise KeyboardInterrupt()\n",
            "KeyboardInterrupt\n",
            "\n",
            "During handling of the above exception, another exception occurred:\n",
            "\n",
            "Traceback (most recent call last):\n",
            "  File \"/usr/local/lib/python3.11/dist-packages/starlette/routing.py\", line 743, in lifespan\n",
            "    await receive()\n",
            "  File \"/usr/local/lib/python3.11/dist-packages/uvicorn/lifespan/on.py\", line 137, in receive\n",
            "    return await self.receive_queue.get()\n",
            "           ^^^^^^^^^^^^^^^^^^^^^^^^^^^^^^\n",
            "  File \"/usr/lib/python3.11/asyncio/queues.py\", line 158, in get\n",
            "    await getter\n",
            "asyncio.exceptions.CancelledError\n",
            "\n"
          ]
        }
      ]
    }
  ]
}